{
 "cells": [
  {
   "cell_type": "markdown",
   "metadata": {},
   "source": [
    "<table class=\"tfo-notebook-buttons\" align=\"left\">\n",
    "  <td>\n",
    "    <a target=\"_blank\" href=\"https://colab.research.google.com/github/PreferredAI/tutorials/blob/master/multimodal-recsys/01_getting_started.ipynb\"><img src=\"https://www.tensorflow.org/images/colab_logo_32px.png\" />Run in Google Colab</a>\n",
    "  </td>\n",
    "  <td>\n",
    "    <a target=\"_blank\" href=\"https://github.com/PreferredAI/tutorials/blob/master/multimodal-recsys/01_getting_started.ipynb\"><img src=\"https://www.tensorflow.org/images/GitHub-Mark-32px.png\" />View source on GitHub</a>\n",
    "  </td>\n",
    "</table>"
   ]
  },
  {
   "cell_type": "markdown",
   "metadata": {},
   "source": [
    "# Getting Started with Cornac (Part 1)"
   ]
  },
  {
   "cell_type": "markdown",
   "metadata": {},
   "source": [
    "**Cornac** is a comparative framework for multimodal recommender systems. It focuses on making it **convenient** to work with models leveraging **auxiliary data** (e.g., item descriptive text and image, social network, etc). The objective of this tutorial is to help new users to get started with Cornac."
   ]
  },
  {
   "cell_type": "markdown",
   "metadata": {},
   "source": [
    "## 1. Installation"
   ]
  },
  {
   "cell_type": "markdown",
   "metadata": {},
   "source": [
    "Currently Python 3 is supported, and we can install Cornac with the pip package manager as follows."
   ]
  },
  {
   "cell_type": "code",
   "execution_count": 1,
   "metadata": {},
   "outputs": [],
   "source": [
    "!pip install --quiet cornac==1.14.1"
   ]
  },
  {
   "cell_type": "markdown",
   "metadata": {},
   "source": [
    "It is also possible to install Cornac from Anaconda or from the GitHub source as described [here](https://github.com/PreferredAI/cornac/blob/master/README.md#installation)."
   ]
  },
  {
   "cell_type": "markdown",
   "metadata": {},
   "source": [
    "## 2. First Experiment"
   ]
  },
  {
   "cell_type": "code",
   "execution_count": 7,
   "metadata": {},
   "outputs": [
    {
     "name": "stdout",
     "output_type": "stream",
     "text": [
      "\n",
      "TEST:\n",
      "...\n",
      "    |    MAE |   RMSE |    AUC |    MAP | NDCG@10 | Precision@10 | Recall@10 | Train (s) | Test (s)\n",
      "--- + ------ + ------ + ------ + ------ + ------- + ------------ + --------- + --------- + --------\n",
      "MF  | 0.7430 | 0.8998 | 0.7445 | 0.0407 |  0.0479 |       0.0437 |    0.0352 |    0.0510 |   1.1008\n",
      "PMF | 0.7534 | 0.9138 | 0.7744 | 0.0491 |  0.0617 |       0.0533 |    0.0479 |    1.5392 |   1.1078\n",
      "BPR | 2.0143 | 2.2267 | 0.8695 | 0.0753 |  0.0975 |       0.0727 |    0.0891 |    1.7136 |   1.0974\n",
      "\n"
     ]
    }
   ],
   "source": [
    "import cornac\n",
    "from cornac.eval_methods import RatioSplit\n",
    "from cornac.models import MF, PMF, BPR, WMF\n",
    "from cornac.metrics import MAE, RMSE, Precision, Recall, NDCG, AUC, MAP\n",
    "\n",
    "# load the built-in MovieLens 100K and split the data based on ratio\n",
    "ml_100k = cornac.datasets.movielens.load_feedback()\n",
    "rs = RatioSplit(data=ml_100k, test_size=0.2, rating_threshold=4.0, seed=123)\n",
    "\n",
    "# initialize models, here we are comparing: Biased MF, PMF, and BPR\n",
    "models = [\n",
    "    MF(k=10, max_iter=25, learning_rate=0.01, lambda_reg=0.02, use_bias=True, seed=123),\n",
    "    PMF(k=10, max_iter=100, learning_rate=0.001, lambda_reg=0.001, seed=123),\n",
    "    BPR(k=10, max_iter=200, learning_rate=0.001, lambda_reg=0.01, seed=123),\n",
    "]\n",
    "\n",
    "# define metrics to evaluate the models\n",
    "metrics = [MAE(), RMSE(), Precision(k=10), Recall(k=10), NDCG(k=10), AUC(), MAP()]\n",
    "\n",
    "# put it all together in an experiment, voilà!\n",
    "cornac.Experiment(eval_method=rs, models=models, metrics=metrics, user_based=True).run()"
   ]
  },
  {
   "cell_type": "markdown",
   "metadata": {},
   "source": [
    "## 3. Questions"
   ]
  },
  {
   "cell_type": "markdown",
   "metadata": {},
   "source": [
    "1. What can we inference from the above results? You may focus on BRP vs the other models.\n",
    "2. Following the example above, can you write a code to compare the BPR and Weighted Matrix Fatorization (WMF) models on the ML-100k dataset in terms of AUC, Recall@50 and NDCG@50?"
   ]
  }
 ],
 "metadata": {
  "kernelspec": {
   "display_name": "Python 3",
   "language": "python",
   "name": "python3"
  },
  "language_info": {
   "codemirror_mode": {
    "name": "ipython",
    "version": 3
   },
   "file_extension": ".py",
   "mimetype": "text/x-python",
   "name": "python",
   "nbconvert_exporter": "python",
   "pygments_lexer": "ipython3",
   "version": "3.7.6"
  }
 },
 "nbformat": 4,
 "nbformat_minor": 4
}
