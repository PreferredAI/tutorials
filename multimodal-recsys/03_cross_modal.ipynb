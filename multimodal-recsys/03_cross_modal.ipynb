{
  "nbformat": 4,
  "nbformat_minor": 0,
  "metadata": {
    "accelerator": "GPU",
    "colab": {
      "name": "03_cross_modal.ipynb",
      "provenance": [],
      "collapsed_sections": []
    },
    "kernelspec": {
      "display_name": "Python 3",
      "language": "python",
      "name": "python3"
    },
    "language_info": {
      "codemirror_mode": {
        "name": "ipython",
        "version": 3
      },
      "file_extension": ".py",
      "mimetype": "text/x-python",
      "name": "python",
      "nbconvert_exporter": "python",
      "pygments_lexer": "ipython3",
      "version": "3.7.6"
    },
    "widgets": {
      "application/vnd.jupyter.widget-state+json": {
        "4f09f1267dec49c28de577f041b0e4ec": {
          "model_module": "@jupyter-widgets/controls",
          "model_name": "HBoxModel",
          "model_module_version": "1.5.0",
          "state": {
            "_view_name": "HBoxView",
            "_dom_classes": [],
            "_model_name": "HBoxModel",
            "_view_module": "@jupyter-widgets/controls",
            "_model_module_version": "1.5.0",
            "_view_count": null,
            "_view_module_version": "1.5.0",
            "box_style": "",
            "layout": "IPY_MODEL_83f1b56a4a884a368dd2d3fb096ddd1f",
            "_model_module": "@jupyter-widgets/controls",
            "children": [
              "IPY_MODEL_00652d9ec5014e8ab608c01ece90078e",
              "IPY_MODEL_c0ca16feebaf427990f9ffa8a5af5b89",
              "IPY_MODEL_3c611201d28440b4842e2a4703a389ce"
            ]
          }
        },
        "83f1b56a4a884a368dd2d3fb096ddd1f": {
          "model_module": "@jupyter-widgets/base",
          "model_name": "LayoutModel",
          "model_module_version": "1.2.0",
          "state": {
            "_view_name": "LayoutView",
            "grid_template_rows": null,
            "right": null,
            "justify_content": null,
            "_view_module": "@jupyter-widgets/base",
            "overflow": null,
            "_model_module_version": "1.2.0",
            "_view_count": null,
            "flex_flow": null,
            "width": null,
            "min_width": null,
            "border": null,
            "align_items": null,
            "bottom": null,
            "_model_module": "@jupyter-widgets/base",
            "top": null,
            "grid_column": null,
            "overflow_y": null,
            "overflow_x": null,
            "grid_auto_flow": null,
            "grid_area": null,
            "grid_template_columns": null,
            "flex": null,
            "_model_name": "LayoutModel",
            "justify_items": null,
            "grid_row": null,
            "max_height": null,
            "align_content": null,
            "visibility": null,
            "align_self": null,
            "height": null,
            "min_height": null,
            "padding": null,
            "grid_auto_rows": null,
            "grid_gap": null,
            "max_width": null,
            "order": null,
            "_view_module_version": "1.2.0",
            "grid_template_areas": null,
            "object_position": null,
            "object_fit": null,
            "grid_auto_columns": null,
            "margin": null,
            "display": null,
            "left": null
          }
        },
        "00652d9ec5014e8ab608c01ece90078e": {
          "model_module": "@jupyter-widgets/controls",
          "model_name": "HTMLModel",
          "model_module_version": "1.5.0",
          "state": {
            "_view_name": "HTMLView",
            "style": "IPY_MODEL_99d6e2bd64a84ad9889226dc5b5275e6",
            "_dom_classes": [],
            "description": "",
            "_model_name": "HTMLModel",
            "placeholder": "​",
            "_view_module": "@jupyter-widgets/controls",
            "_model_module_version": "1.5.0",
            "value": "Building KNN graph: 100%",
            "_view_count": null,
            "_view_module_version": "1.5.0",
            "description_tooltip": null,
            "_model_module": "@jupyter-widgets/controls",
            "layout": "IPY_MODEL_6fcaa2d788c64210b996d725fb6d6c05"
          }
        },
        "c0ca16feebaf427990f9ffa8a5af5b89": {
          "model_module": "@jupyter-widgets/controls",
          "model_name": "FloatProgressModel",
          "model_module_version": "1.5.0",
          "state": {
            "_view_name": "ProgressView",
            "style": "IPY_MODEL_7a770a13f3764edf935650576943e3a7",
            "_dom_classes": [],
            "description": "",
            "_model_name": "FloatProgressModel",
            "bar_style": "success",
            "max": 3321,
            "_view_module": "@jupyter-widgets/controls",
            "_model_module_version": "1.5.0",
            "value": 3321,
            "_view_count": null,
            "_view_module_version": "1.5.0",
            "orientation": "horizontal",
            "min": 0,
            "description_tooltip": null,
            "_model_module": "@jupyter-widgets/controls",
            "layout": "IPY_MODEL_52e752d32a9c493593d5985f8ca7eecd"
          }
        },
        "3c611201d28440b4842e2a4703a389ce": {
          "model_module": "@jupyter-widgets/controls",
          "model_name": "HTMLModel",
          "model_module_version": "1.5.0",
          "state": {
            "_view_name": "HTMLView",
            "style": "IPY_MODEL_79d457ee90c142ec94424ff87fe58bf1",
            "_dom_classes": [],
            "description": "",
            "_model_name": "HTMLModel",
            "placeholder": "​",
            "_view_module": "@jupyter-widgets/controls",
            "_model_module_version": "1.5.0",
            "value": " 3321/3321 [00:36&lt;00:00, 91.90it/s]",
            "_view_count": null,
            "_view_module_version": "1.5.0",
            "description_tooltip": null,
            "_model_module": "@jupyter-widgets/controls",
            "layout": "IPY_MODEL_716b46a131784cf99c29df82dea6479f"
          }
        },
        "99d6e2bd64a84ad9889226dc5b5275e6": {
          "model_module": "@jupyter-widgets/controls",
          "model_name": "DescriptionStyleModel",
          "model_module_version": "1.5.0",
          "state": {
            "_view_name": "StyleView",
            "_model_name": "DescriptionStyleModel",
            "description_width": "",
            "_view_module": "@jupyter-widgets/base",
            "_model_module_version": "1.5.0",
            "_view_count": null,
            "_view_module_version": "1.2.0",
            "_model_module": "@jupyter-widgets/controls"
          }
        },
        "6fcaa2d788c64210b996d725fb6d6c05": {
          "model_module": "@jupyter-widgets/base",
          "model_name": "LayoutModel",
          "model_module_version": "1.2.0",
          "state": {
            "_view_name": "LayoutView",
            "grid_template_rows": null,
            "right": null,
            "justify_content": null,
            "_view_module": "@jupyter-widgets/base",
            "overflow": null,
            "_model_module_version": "1.2.0",
            "_view_count": null,
            "flex_flow": null,
            "width": null,
            "min_width": null,
            "border": null,
            "align_items": null,
            "bottom": null,
            "_model_module": "@jupyter-widgets/base",
            "top": null,
            "grid_column": null,
            "overflow_y": null,
            "overflow_x": null,
            "grid_auto_flow": null,
            "grid_area": null,
            "grid_template_columns": null,
            "flex": null,
            "_model_name": "LayoutModel",
            "justify_items": null,
            "grid_row": null,
            "max_height": null,
            "align_content": null,
            "visibility": null,
            "align_self": null,
            "height": null,
            "min_height": null,
            "padding": null,
            "grid_auto_rows": null,
            "grid_gap": null,
            "max_width": null,
            "order": null,
            "_view_module_version": "1.2.0",
            "grid_template_areas": null,
            "object_position": null,
            "object_fit": null,
            "grid_auto_columns": null,
            "margin": null,
            "display": null,
            "left": null
          }
        },
        "7a770a13f3764edf935650576943e3a7": {
          "model_module": "@jupyter-widgets/controls",
          "model_name": "ProgressStyleModel",
          "model_module_version": "1.5.0",
          "state": {
            "_view_name": "StyleView",
            "_model_name": "ProgressStyleModel",
            "description_width": "",
            "_view_module": "@jupyter-widgets/base",
            "_model_module_version": "1.5.0",
            "_view_count": null,
            "_view_module_version": "1.2.0",
            "bar_color": null,
            "_model_module": "@jupyter-widgets/controls"
          }
        },
        "52e752d32a9c493593d5985f8ca7eecd": {
          "model_module": "@jupyter-widgets/base",
          "model_name": "LayoutModel",
          "model_module_version": "1.2.0",
          "state": {
            "_view_name": "LayoutView",
            "grid_template_rows": null,
            "right": null,
            "justify_content": null,
            "_view_module": "@jupyter-widgets/base",
            "overflow": null,
            "_model_module_version": "1.2.0",
            "_view_count": null,
            "flex_flow": null,
            "width": null,
            "min_width": null,
            "border": null,
            "align_items": null,
            "bottom": null,
            "_model_module": "@jupyter-widgets/base",
            "top": null,
            "grid_column": null,
            "overflow_y": null,
            "overflow_x": null,
            "grid_auto_flow": null,
            "grid_area": null,
            "grid_template_columns": null,
            "flex": null,
            "_model_name": "LayoutModel",
            "justify_items": null,
            "grid_row": null,
            "max_height": null,
            "align_content": null,
            "visibility": null,
            "align_self": null,
            "height": null,
            "min_height": null,
            "padding": null,
            "grid_auto_rows": null,
            "grid_gap": null,
            "max_width": null,
            "order": null,
            "_view_module_version": "1.2.0",
            "grid_template_areas": null,
            "object_position": null,
            "object_fit": null,
            "grid_auto_columns": null,
            "margin": null,
            "display": null,
            "left": null
          }
        },
        "79d457ee90c142ec94424ff87fe58bf1": {
          "model_module": "@jupyter-widgets/controls",
          "model_name": "DescriptionStyleModel",
          "model_module_version": "1.5.0",
          "state": {
            "_view_name": "StyleView",
            "_model_name": "DescriptionStyleModel",
            "description_width": "",
            "_view_module": "@jupyter-widgets/base",
            "_model_module_version": "1.5.0",
            "_view_count": null,
            "_view_module_version": "1.2.0",
            "_model_module": "@jupyter-widgets/controls"
          }
        },
        "716b46a131784cf99c29df82dea6479f": {
          "model_module": "@jupyter-widgets/base",
          "model_name": "LayoutModel",
          "model_module_version": "1.2.0",
          "state": {
            "_view_name": "LayoutView",
            "grid_template_rows": null,
            "right": null,
            "justify_content": null,
            "_view_module": "@jupyter-widgets/base",
            "overflow": null,
            "_model_module_version": "1.2.0",
            "_view_count": null,
            "flex_flow": null,
            "width": null,
            "min_width": null,
            "border": null,
            "align_items": null,
            "bottom": null,
            "_model_module": "@jupyter-widgets/base",
            "top": null,
            "grid_column": null,
            "overflow_y": null,
            "overflow_x": null,
            "grid_auto_flow": null,
            "grid_area": null,
            "grid_template_columns": null,
            "flex": null,
            "_model_name": "LayoutModel",
            "justify_items": null,
            "grid_row": null,
            "max_height": null,
            "align_content": null,
            "visibility": null,
            "align_self": null,
            "height": null,
            "min_height": null,
            "padding": null,
            "grid_auto_rows": null,
            "grid_gap": null,
            "max_width": null,
            "order": null,
            "_view_module_version": "1.2.0",
            "grid_template_areas": null,
            "object_position": null,
            "object_fit": null,
            "grid_auto_columns": null,
            "margin": null,
            "display": null,
            "left": null
          }
        },
        "bef0d25085af4e2fa51bf99b99656448": {
          "model_module": "@jupyter-widgets/controls",
          "model_name": "HBoxModel",
          "model_module_version": "1.5.0",
          "state": {
            "_view_name": "HBoxView",
            "_dom_classes": [],
            "_model_name": "HBoxModel",
            "_view_module": "@jupyter-widgets/controls",
            "_model_module_version": "1.5.0",
            "_view_count": null,
            "_view_module_version": "1.5.0",
            "box_style": "",
            "layout": "IPY_MODEL_1b38998659ea42d288ca1db70a2a7716",
            "_model_module": "@jupyter-widgets/controls",
            "children": [
              "IPY_MODEL_41998b827d324e8abc65f58dc7d81526",
              "IPY_MODEL_bd6759ef254a4571a6f666d7c571f83d",
              "IPY_MODEL_b02de8e83f0f4416803b75a095b69b31"
            ]
          }
        },
        "1b38998659ea42d288ca1db70a2a7716": {
          "model_module": "@jupyter-widgets/base",
          "model_name": "LayoutModel",
          "model_module_version": "1.2.0",
          "state": {
            "_view_name": "LayoutView",
            "grid_template_rows": null,
            "right": null,
            "justify_content": null,
            "_view_module": "@jupyter-widgets/base",
            "overflow": null,
            "_model_module_version": "1.2.0",
            "_view_count": null,
            "flex_flow": null,
            "width": null,
            "min_width": null,
            "border": null,
            "align_items": null,
            "bottom": null,
            "_model_module": "@jupyter-widgets/base",
            "top": null,
            "grid_column": null,
            "overflow_y": null,
            "overflow_x": null,
            "grid_auto_flow": null,
            "grid_area": null,
            "grid_template_columns": null,
            "flex": null,
            "_model_name": "LayoutModel",
            "justify_items": null,
            "grid_row": null,
            "max_height": null,
            "align_content": null,
            "visibility": null,
            "align_self": null,
            "height": null,
            "min_height": null,
            "padding": null,
            "grid_auto_rows": null,
            "grid_gap": null,
            "max_width": null,
            "order": null,
            "_view_module_version": "1.2.0",
            "grid_template_areas": null,
            "object_position": null,
            "object_fit": null,
            "grid_auto_columns": null,
            "margin": null,
            "display": null,
            "left": null
          }
        },
        "41998b827d324e8abc65f58dc7d81526": {
          "model_module": "@jupyter-widgets/controls",
          "model_name": "HTMLModel",
          "model_module_version": "1.5.0",
          "state": {
            "_view_name": "HTMLView",
            "style": "IPY_MODEL_ebc5ccef9ac6446fbe30078011ddf405",
            "_dom_classes": [],
            "description": "",
            "_model_name": "HTMLModel",
            "placeholder": "​",
            "_view_module": "@jupyter-widgets/controls",
            "_model_module_version": "1.5.0",
            "value": "Building KNN graph: 100%",
            "_view_count": null,
            "_view_module_version": "1.5.0",
            "description_tooltip": null,
            "_model_module": "@jupyter-widgets/controls",
            "layout": "IPY_MODEL_5364d658040c4722b05ce93a1372e807"
          }
        },
        "bd6759ef254a4571a6f666d7c571f83d": {
          "model_module": "@jupyter-widgets/controls",
          "model_name": "FloatProgressModel",
          "model_module_version": "1.5.0",
          "state": {
            "_view_name": "ProgressView",
            "style": "IPY_MODEL_62ca41d752e640eb95720443b4a1349f",
            "_dom_classes": [],
            "description": "",
            "_model_name": "FloatProgressModel",
            "bar_style": "success",
            "max": 3393,
            "_view_module": "@jupyter-widgets/controls",
            "_model_module_version": "1.5.0",
            "value": 3393,
            "_view_count": null,
            "_view_module_version": "1.5.0",
            "orientation": "horizontal",
            "min": 0,
            "description_tooltip": null,
            "_model_module": "@jupyter-widgets/controls",
            "layout": "IPY_MODEL_61b07cb937004a7288cdfcc9c150edbf"
          }
        },
        "b02de8e83f0f4416803b75a095b69b31": {
          "model_module": "@jupyter-widgets/controls",
          "model_name": "HTMLModel",
          "model_module_version": "1.5.0",
          "state": {
            "_view_name": "HTMLView",
            "style": "IPY_MODEL_e6046811dd1f45f2838bbb9c706ff831",
            "_dom_classes": [],
            "description": "",
            "_model_name": "HTMLModel",
            "placeholder": "​",
            "_view_module": "@jupyter-widgets/controls",
            "_model_module_version": "1.5.0",
            "value": " 3393/3393 [00:32&lt;00:00, 110.74it/s]",
            "_view_count": null,
            "_view_module_version": "1.5.0",
            "description_tooltip": null,
            "_model_module": "@jupyter-widgets/controls",
            "layout": "IPY_MODEL_cf77e42f69b043809a7b63f7c5c806ac"
          }
        },
        "ebc5ccef9ac6446fbe30078011ddf405": {
          "model_module": "@jupyter-widgets/controls",
          "model_name": "DescriptionStyleModel",
          "model_module_version": "1.5.0",
          "state": {
            "_view_name": "StyleView",
            "_model_name": "DescriptionStyleModel",
            "description_width": "",
            "_view_module": "@jupyter-widgets/base",
            "_model_module_version": "1.5.0",
            "_view_count": null,
            "_view_module_version": "1.2.0",
            "_model_module": "@jupyter-widgets/controls"
          }
        },
        "5364d658040c4722b05ce93a1372e807": {
          "model_module": "@jupyter-widgets/base",
          "model_name": "LayoutModel",
          "model_module_version": "1.2.0",
          "state": {
            "_view_name": "LayoutView",
            "grid_template_rows": null,
            "right": null,
            "justify_content": null,
            "_view_module": "@jupyter-widgets/base",
            "overflow": null,
            "_model_module_version": "1.2.0",
            "_view_count": null,
            "flex_flow": null,
            "width": null,
            "min_width": null,
            "border": null,
            "align_items": null,
            "bottom": null,
            "_model_module": "@jupyter-widgets/base",
            "top": null,
            "grid_column": null,
            "overflow_y": null,
            "overflow_x": null,
            "grid_auto_flow": null,
            "grid_area": null,
            "grid_template_columns": null,
            "flex": null,
            "_model_name": "LayoutModel",
            "justify_items": null,
            "grid_row": null,
            "max_height": null,
            "align_content": null,
            "visibility": null,
            "align_self": null,
            "height": null,
            "min_height": null,
            "padding": null,
            "grid_auto_rows": null,
            "grid_gap": null,
            "max_width": null,
            "order": null,
            "_view_module_version": "1.2.0",
            "grid_template_areas": null,
            "object_position": null,
            "object_fit": null,
            "grid_auto_columns": null,
            "margin": null,
            "display": null,
            "left": null
          }
        },
        "62ca41d752e640eb95720443b4a1349f": {
          "model_module": "@jupyter-widgets/controls",
          "model_name": "ProgressStyleModel",
          "model_module_version": "1.5.0",
          "state": {
            "_view_name": "StyleView",
            "_model_name": "ProgressStyleModel",
            "description_width": "",
            "_view_module": "@jupyter-widgets/base",
            "_model_module_version": "1.5.0",
            "_view_count": null,
            "_view_module_version": "1.2.0",
            "bar_color": null,
            "_model_module": "@jupyter-widgets/controls"
          }
        },
        "61b07cb937004a7288cdfcc9c150edbf": {
          "model_module": "@jupyter-widgets/base",
          "model_name": "LayoutModel",
          "model_module_version": "1.2.0",
          "state": {
            "_view_name": "LayoutView",
            "grid_template_rows": null,
            "right": null,
            "justify_content": null,
            "_view_module": "@jupyter-widgets/base",
            "overflow": null,
            "_model_module_version": "1.2.0",
            "_view_count": null,
            "flex_flow": null,
            "width": null,
            "min_width": null,
            "border": null,
            "align_items": null,
            "bottom": null,
            "_model_module": "@jupyter-widgets/base",
            "top": null,
            "grid_column": null,
            "overflow_y": null,
            "overflow_x": null,
            "grid_auto_flow": null,
            "grid_area": null,
            "grid_template_columns": null,
            "flex": null,
            "_model_name": "LayoutModel",
            "justify_items": null,
            "grid_row": null,
            "max_height": null,
            "align_content": null,
            "visibility": null,
            "align_self": null,
            "height": null,
            "min_height": null,
            "padding": null,
            "grid_auto_rows": null,
            "grid_gap": null,
            "max_width": null,
            "order": null,
            "_view_module_version": "1.2.0",
            "grid_template_areas": null,
            "object_position": null,
            "object_fit": null,
            "grid_auto_columns": null,
            "margin": null,
            "display": null,
            "left": null
          }
        },
        "e6046811dd1f45f2838bbb9c706ff831": {
          "model_module": "@jupyter-widgets/controls",
          "model_name": "DescriptionStyleModel",
          "model_module_version": "1.5.0",
          "state": {
            "_view_name": "StyleView",
            "_model_name": "DescriptionStyleModel",
            "description_width": "",
            "_view_module": "@jupyter-widgets/base",
            "_model_module_version": "1.5.0",
            "_view_count": null,
            "_view_module_version": "1.2.0",
            "_model_module": "@jupyter-widgets/controls"
          }
        },
        "cf77e42f69b043809a7b63f7c5c806ac": {
          "model_module": "@jupyter-widgets/base",
          "model_name": "LayoutModel",
          "model_module_version": "1.2.0",
          "state": {
            "_view_name": "LayoutView",
            "grid_template_rows": null,
            "right": null,
            "justify_content": null,
            "_view_module": "@jupyter-widgets/base",
            "overflow": null,
            "_model_module_version": "1.2.0",
            "_view_count": null,
            "flex_flow": null,
            "width": null,
            "min_width": null,
            "border": null,
            "align_items": null,
            "bottom": null,
            "_model_module": "@jupyter-widgets/base",
            "top": null,
            "grid_column": null,
            "overflow_y": null,
            "overflow_x": null,
            "grid_auto_flow": null,
            "grid_area": null,
            "grid_template_columns": null,
            "flex": null,
            "_model_name": "LayoutModel",
            "justify_items": null,
            "grid_row": null,
            "max_height": null,
            "align_content": null,
            "visibility": null,
            "align_self": null,
            "height": null,
            "min_height": null,
            "padding": null,
            "grid_auto_rows": null,
            "grid_gap": null,
            "max_width": null,
            "order": null,
            "_view_module_version": "1.2.0",
            "grid_template_areas": null,
            "object_position": null,
            "object_fit": null,
            "grid_auto_columns": null,
            "margin": null,
            "display": null,
            "left": null
          }
        }
      }
    }
  },
  "cells": [
    {
      "cell_type": "markdown",
      "metadata": {
        "id": "xLXWx4uhqtYJ"
      },
      "source": [
        "<table class=\"tfo-notebook-buttons\" align=\"left\">\n",
        "  <td>\n",
        "    <a target=\"_blank\" href=\"https://colab.research.google.com/github/PreferredAI/tutorials/blob/master/multimodal-recsys/03_cross_modal.ipynb\"><img src=\"https://www.tensorflow.org/images/colab_logo_32px.png\" />Run in Google Colab</a>\n",
        "  </td>\n",
        "  <td>\n",
        "    <a target=\"_blank\" href=\"https://github.com/PreferredAI/tutorials/blob/master/multimodal-recsys/03_cross_modal.ipynb\"><img src=\"https://www.tensorflow.org/images/GitHub-Mark-32px.png\" />View source on GitHub</a>\n",
        "  </td>\n",
        "</table>"
      ]
    },
    {
      "cell_type": "markdown",
      "metadata": {
        "id": "wzPrmZOMtXt1"
      },
      "source": [
        "# Cross-Modal Utilization (Part 3)"
      ]
    },
    {
      "cell_type": "markdown",
      "metadata": {
        "id": "Bh3gYub8f6qZ"
      },
      "source": [
        "Multimodal recommender systems are commonly catalogued based on the type of auxiliary data (modality) they leverage, such as preference data plus user-network (social), user/item texts\n",
        "(textual), or item images (visual) respectively. One consequence of this siloization along modality lines is the tendency for virtual walls to arise between modalities. For instance, a model ostensibly designed for images would experiment with only the image modality, and compare to other models also purportedly designed\n",
        "for images. In turn, a text-based model would be\n",
        "compared to another text-based model, similarly\n",
        "with item graph. However, most multimodal recommendation algorithms are innately machine learning models that fit the preference data, aided by the auxiliary data as features\n",
        "in some form. While the raw representations of modalities\n",
        "may differ, the eventual representations used in the learning\n",
        "process may have commonalities in form (textual product\n",
        "description may be represented as term vectors, related\n",
        "items as a vector of adjacent graph neighbors, etc.). Indeed,\n",
        "if we peel off the layer of pre-processing steps specific to\n",
        "a modality, we find that, for most models, the underlying\n",
        "representation can accommodate other modalities. It is this aspect that we explore in this notebook, i.e., using a model for a modality different from the\n",
        "one it was originally designed for [1]. "
      ]
    },
    {
      "cell_type": "markdown",
      "metadata": {
        "id": "MqktDa7H2hKz"
      },
      "source": [
        "## 1. Setup"
      ]
    },
    {
      "cell_type": "code",
      "metadata": {
        "id": "41oWCMUG2eC_"
      },
      "source": [
        "!pip install --quiet cornac==1.14.1"
      ],
      "execution_count": 1,
      "outputs": []
    },
    {
      "cell_type": "code",
      "metadata": {
        "colab": {
          "base_uri": "https://localhost:8080/"
        },
        "id": "YqKrDcGH2k7E",
        "outputId": "07523e0b-69fb-4961-f01e-26a7a75561fc"
      },
      "source": [
        "import os\n",
        "import sys\n",
        "from collections import defaultdict\n",
        "\n",
        "import numpy as np\n",
        "import pandas as pd\n",
        "import torch\n",
        "\n",
        "%tensorflow_version 1.x\n",
        "import tensorflow as tf\n",
        "\n",
        "%matplotlib inline\n",
        "import matplotlib.pyplot as plt\n",
        "import seaborn as sns\n",
        "\n",
        "import cornac\n",
        "from cornac.datasets import amazon_clothing\n",
        "from cornac.eval_methods import RatioSplit\n",
        "from cornac.data import GraphModality, TextModality, ImageModality\n",
        "\n",
        "print(f\"System version: {sys.version}\")\n",
        "print(f\"Cornac version: {cornac.__version__}\")\n",
        "print(f\"Tensorflow version: {tf.__version__}\")\n",
        "\n",
        "SEED = 42\n",
        "VERBOSE = True\n",
        "USE_GPU = torch.cuda.is_available()"
      ],
      "execution_count": 2,
      "outputs": [
        {
          "output_type": "stream",
          "name": "stdout",
          "text": [
            "TensorFlow 1.x selected.\n",
            "System version: 3.7.12 (default, Sep 10 2021, 00:21:48) \n",
            "[GCC 7.5.0]\n",
            "Cornac version: 1.14.1\n",
            "Tensorflow version: 1.15.2\n"
          ]
        }
      ]
    },
    {
      "cell_type": "markdown",
      "metadata": {
        "id": "r76coF3ZyWxb"
      },
      "source": [
        "## 2. Using CDL, VBPR and MCF with the Text Modality\n"
      ]
    },
    {
      "cell_type": "markdown",
      "metadata": {
        "id": "ziiFqAIsenee"
      },
      "source": [
        "We consider the Amazon Clothing dataset consisting of user-item ratings and item content information (e.g., text, visual features, relations). For the purpose of the following experiment, assume that we are interested in item textual descriptions only. To leverage this modalidy we consider three different models, namely CDL [2], VBPR [3], and MCF [4]. While the former was originally and experimented with text auxiliary data, VBPR and MCF have been investigated for integrating visual and graph information respectively. The following code illustrates how Cornac [5] enables to use VBPR and MCF with text auxiliary data."
      ]
    },
    {
      "cell_type": "code",
      "metadata": {
        "colab": {
          "base_uri": "https://localhost:8080/",
          "height": 223,
          "referenced_widgets": [
            "4f09f1267dec49c28de577f041b0e4ec",
            "83f1b56a4a884a368dd2d3fb096ddd1f",
            "00652d9ec5014e8ab608c01ece90078e",
            "c0ca16feebaf427990f9ffa8a5af5b89",
            "3c611201d28440b4842e2a4703a389ce",
            "99d6e2bd64a84ad9889226dc5b5275e6",
            "6fcaa2d788c64210b996d725fb6d6c05",
            "7a770a13f3764edf935650576943e3a7",
            "52e752d32a9c493593d5985f8ca7eecd",
            "79d457ee90c142ec94424ff87fe58bf1",
            "716b46a131784cf99c29df82dea6479f"
          ]
        },
        "id": "p2iyzuFFs1Fq",
        "outputId": "188e34b4-bbfd-4261-8d8c-618a67ea8b96"
      },
      "source": [
        "# Load and split the Amazon clothing dataset\n",
        "ratings = amazon_clothing.load_feedback()\n",
        "docs, item_ids = amazon_clothing.load_text()\n",
        "\n",
        "ratio_split = RatioSplit(\n",
        "    data=ratings,\n",
        "    test_size=0.2,\n",
        "    rating_threshold=4.0,\n",
        "    exclude_unknowns=True,\n",
        "    seed=SEED,\n",
        "    verbose=VERBOSE,\n",
        ")\n",
        "\n",
        "# obtain global mapping of item ID to synchronize across modalities \n",
        "item_id_map = ratio_split.global_iid_map\n",
        "\n",
        "# build item text modality using the item text corpus\n",
        "VOCAB_SIZE = 5000\n",
        "text_modality = TextModality(corpus=docs, ids=item_ids, max_vocab=VOCAB_SIZE)\n",
        "text_modality.build(id_map=item_id_map)\n",
        "\n",
        "# here we use term-frequency matrix from item text as features, other choices available\n",
        "item_ids = list(item_id_map.keys())\n",
        "tf_mat = text_modality.count_matrix.A  # term-frequency matrix\n",
        "tf_mat = tf_mat[:len(item_ids)]  # remove unknown items during data splitting\n",
        "\n",
        "# build image modality with the term-frequency matrix as features \n",
        "image_modality = ImageModality(features=tf_mat, ids=item_ids)\n",
        "image_modality.build(id_map=item_id_map)\n",
        "\n",
        "# build graph modality with the term-frequency matrix as features.\n",
        "# Under the hood this will construct a k-nearest neighbor graph of items, encoding textual similarities among them.\n",
        "graph_modality = GraphModality.from_feature(features=tf_mat, ids=item_ids, k=5, similarity=\"cosine\")\n",
        "graph_modality.build(id_map=item_id_map)\n",
        "\n",
        "\n",
        "# provide all built modalities for access by models during the experiment\n",
        "ratio_split.add_modalities(item_text=text_modality, \n",
        "                           item_image=image_modality, \n",
        "                           item_graph=graph_modality)\n",
        "\n",
        "\n",
        "cdl = cornac.models.CDL(k=50, autoencoder_structure=[200], vocab_size=VOCAB_SIZE, \n",
        "                        act_fn='tanh', max_iter=50, seed=SEED, verbose=VERBOSE)\n",
        "\n",
        "vbpr = cornac.models.VBPR(k=10, k2=40, n_epochs=50, use_gpu=USE_GPU, seed=SEED, verbose=VERBOSE)\n",
        "\n",
        "mcf = cornac.models.MCF(k=50, max_iter=50, seed=SEED, verbose=VERBOSE)\n",
        "\n",
        "\n",
        "recall = cornac.metrics.Recall(k=50)\n",
        "ndcg = cornac.metrics.NDCG(k=50)\n",
        "\n",
        "\n",
        "text_exp = cornac.Experiment(eval_method=ratio_split,  \n",
        "                             models=[cdl, vbpr, mcf],\n",
        "                             metrics=[recall, ndcg])\n",
        "text_exp.run()"
      ],
      "execution_count": 3,
      "outputs": [
        {
          "output_type": "display_data",
          "data": {
            "application/vnd.jupyter.widget-view+json": {
              "model_id": "4f09f1267dec49c28de577f041b0e4ec",
              "version_minor": 0,
              "version_major": 2
            },
            "text/plain": [
              "Building KNN graph:   0%|          | 0/3321 [00:00<?, ?it/s]"
            ]
          },
          "metadata": {}
        },
        {
          "output_type": "stream",
          "name": "stdout",
          "text": [
            "Optimization finished!\n",
            "\n",
            "TEST:\n",
            "...\n",
            "     | NDCG@50 | Recall@50 | Train (s) | Test (s)\n",
            "---- + ------- + --------- + --------- + --------\n",
            "CDL  |  0.0538 |    0.1372 |   59.1471 |   1.7099\n",
            "VBPR |  0.0598 |    0.1854 |   47.6192 |   1.5046\n",
            "MCF  |  0.0592 |    0.1483 |    3.6911 |   1.7586\n",
            "\n"
          ]
        }
      ]
    },
    {
      "cell_type": "markdown",
      "metadata": {
        "id": "gD3Fmzlpeneg"
      },
      "source": [
        "## Question 1"
      ]
    },
    {
      "cell_type": "markdown",
      "metadata": {
        "id": "jRKpyAo9eneg"
      },
      "source": [
        "Without looking at section 3 and 4, can you write a Cornac code to use the above three models with the image-modility and the Graph-modality?"
      ]
    },
    {
      "cell_type": "markdown",
      "metadata": {
        "id": "-8iXcfuKsVa8"
      },
      "source": [
        "## 3. Using CDL, VBPR and MCF with the Image Modality"
      ]
    },
    {
      "cell_type": "code",
      "metadata": {
        "colab": {
          "base_uri": "https://localhost:8080/",
          "height": 223,
          "referenced_widgets": [
            "bef0d25085af4e2fa51bf99b99656448",
            "1b38998659ea42d288ca1db70a2a7716",
            "41998b827d324e8abc65f58dc7d81526",
            "bd6759ef254a4571a6f666d7c571f83d",
            "b02de8e83f0f4416803b75a095b69b31",
            "ebc5ccef9ac6446fbe30078011ddf405",
            "5364d658040c4722b05ce93a1372e807",
            "62ca41d752e640eb95720443b4a1349f",
            "61b07cb937004a7288cdfcc9c150edbf",
            "e6046811dd1f45f2838bbb9c706ff831",
            "cf77e42f69b043809a7b63f7c5c806ac"
          ]
        },
        "id": "NZ2Al6omrlEP",
        "outputId": "5d94ec49-4667-4b0f-90f0-34131a9763fe"
      },
      "source": [
        "ratings = amazon_clothing.load_feedback()\n",
        "features, item_ids = amazon_clothing.load_visual_feature()\n",
        "\n",
        "\n",
        "# construct item modalities using the image features\n",
        "image_modality = ImageModality(features=features, ids=item_ids) \n",
        "text_modality = TextModality(features=features, ids=item_ids)\n",
        "graph_modality = GraphModality.from_feature(features=features, ids=item_ids, k=5, similarity=\"cosine\")\n",
        "\n",
        "\n",
        "# provide all modalities into evaluation method to synchronize the building process\n",
        "# as we don't have to build them separately for this case (available features)\n",
        "ratio_split = RatioSplit(\n",
        "    data=ratings,\n",
        "    test_size=0.2,\n",
        "    rating_threshold=4.0,\n",
        "    exclude_unknowns=True,\n",
        "    seed=SEED,\n",
        "    verbose=VERBOSE,\n",
        "    item_text=text_modality,\n",
        "    item_image=image_modality,\n",
        "    item_graph=graph_modality,\n",
        ")\n",
        "\n",
        "\n",
        "cdl = cornac.models.CDL(k=50, autoencoder_structure=[200], vocab_size=text_modality.feature_dim,\n",
        "                        act_fn='tanh', max_iter=50, seed=SEED, verbose=VERBOSE)\n",
        "\n",
        "vbpr = cornac.models.VBPR(k=10, k2=40, n_epochs=50, use_gpu=False, seed=SEED, verbose=VERBOSE)\n",
        "\n",
        "mcf = cornac.models.MCF(k=50, max_iter=50, seed=SEED, verbose=VERBOSE)\n",
        "\n",
        "\n",
        "recall = cornac.metrics.Recall(k=50)\n",
        "ndcg = cornac.metrics.NDCG(k=50)\n",
        "\n",
        "\n",
        "image_exp = cornac.Experiment(eval_method=ratio_split, \n",
        "                              models=[cdl, vbpr, mcf],\n",
        "                              metrics=[recall, ndcg])\n",
        "image_exp.run()"
      ],
      "execution_count": 4,
      "outputs": [
        {
          "output_type": "display_data",
          "data": {
            "application/vnd.jupyter.widget-view+json": {
              "model_id": "bef0d25085af4e2fa51bf99b99656448",
              "version_minor": 0,
              "version_major": 2
            },
            "text/plain": [
              "Building KNN graph:   0%|          | 0/3393 [00:00<?, ?it/s]"
            ]
          },
          "metadata": {}
        },
        {
          "output_type": "stream",
          "name": "stdout",
          "text": [
            "Optimization finished!\n",
            "\n",
            "TEST:\n",
            "...\n",
            "     | NDCG@50 | Recall@50 | Train (s) | Test (s)\n",
            "---- + ------- + --------- + --------- + --------\n",
            "CDL  |  0.0642 |    0.1720 |   50.7828 |   1.7099\n",
            "VBPR |  0.0468 |    0.1291 |   60.7699 |   1.5051\n",
            "MCF  |  0.0570 |    0.1550 |    3.5292 |   1.7978\n",
            "\n"
          ]
        }
      ]
    },
    {
      "cell_type": "markdown",
      "metadata": {
        "id": "q1AQfgGe8fyo"
      },
      "source": [
        "## 4. Using CDL, VBPR and MCF with Graph Modality"
      ]
    },
    {
      "cell_type": "code",
      "metadata": {
        "colab": {
          "base_uri": "https://localhost:8080/"
        },
        "id": "zDSl1BXhklwV",
        "outputId": "58e62e5d-05d2-4aec-f236-2150a5d2bd9f"
      },
      "source": [
        "ratings = amazon_clothing.load_feedback()\n",
        "contexts = amazon_clothing.load_graph()\n",
        "\n",
        "\n",
        "ratio_split = RatioSplit(\n",
        "    data=ratings,\n",
        "    test_size=0.2,\n",
        "    rating_threshold=4.0,\n",
        "    exclude_unknowns=True,\n",
        "    seed=SEED,\n",
        "    verbose=VERBOSE,\n",
        ")\n",
        "\n",
        "# obtain global mapping of item ID to synchronize across modalities \n",
        "item_id_map = ratio_split.global_iid_map  \n",
        "item_ids = list(item_id_map.keys())\n",
        "\n",
        "# build item graph modality using the item contexts\n",
        "graph_modality = GraphModality(data=contexts).build(id_map=item_id_map)\n",
        "adj_mat = graph_modality.matrix.A  # item graph adjacency matrix\n",
        "\n",
        "# build text and image modalities with the adjacency matrix as features \n",
        "text_modality = TextModality(features=adj_mat, ids=item_ids).build(id_map=item_id_map)\n",
        "image_modality = ImageModality(features=adj_mat, ids=item_ids).build(id_map=item_id_map)\n",
        "\n",
        "\n",
        "# provide all built modalities for access by models during the experiment\n",
        "ratio_split.add_modalities(item_text=text_modality,\n",
        "                           item_image=image_modality,\n",
        "                           item_graph=graph_modality)\n",
        "\n",
        "\n",
        "cdl = cornac.models.CDL(k=50, autoencoder_structure=[200], vocab_size=text_modality.feature_dim,\n",
        "                        act_fn='tanh', max_iter=50, seed=SEED, verbose=VERBOSE)\n",
        "\n",
        "vbpr = cornac.models.VBPR(k=10, k2=40, n_epochs=50, use_gpu=USE_GPU, seed=SEED, verbose=VERBOSE)\n",
        "\n",
        "mcf = cornac.models.MCF(k=50, max_iter=50, seed=SEED, verbose=VERBOSE)\n",
        "\n",
        "\n",
        "recall = cornac.metrics.Recall(k=50)\n",
        "ndcg = cornac.metrics.NDCG(k=50)\n",
        "\n",
        "\n",
        "graph_exp = cornac.Experiment(eval_method=ratio_split, \n",
        "                              models=[cdl, vbpr, mcf],\n",
        "                              metrics=[recall, ndcg])\n",
        "graph_exp.run()"
      ],
      "execution_count": 5,
      "outputs": [
        {
          "output_type": "stream",
          "name": "stdout",
          "text": [
            "Optimization finished!\n",
            "\n",
            "TEST:\n",
            "...\n",
            "     | NDCG@50 | Recall@50 | Train (s) | Test (s)\n",
            "---- + ------- + --------- + --------- + --------\n",
            "CDL  |  0.0783 |    0.2074 |   45.7099 |   1.6808\n",
            "VBPR |  0.0870 |    0.2290 |   45.6348 |   1.5313\n",
            "MCF  |  0.0927 |    0.2334 |    2.5589 |   1.8568\n",
            "\n"
          ]
        }
      ]
    },
    {
      "cell_type": "markdown",
      "metadata": {
        "id": "RZOOE3Z64-ZQ"
      },
      "source": [
        "## 5. Results: Recall and NDCG Bar Plots"
      ]
    },
    {
      "cell_type": "markdown",
      "metadata": {
        "id": "a-IQYqfqeneh"
      },
      "source": [
        "To make it convenient to analyze the results of the experiments from sections 2—4, the following code generates the Recall and NDCG bar plots across models and modalities.    "
      ]
    },
    {
      "cell_type": "code",
      "metadata": {
        "id": "pTooo6ZR5KoR"
      },
      "source": [
        "res_df = defaultdict(list)\n",
        "for text_res, image_res, graph_res in zip(text_exp.result, image_exp.result, graph_exp.result):\n",
        "  assert text_res.model_name == image_res.model_name == graph_res.model_name\n",
        "  res_df[\"Model\"].extend([text_res.model_name] * 3)\n",
        "  res_df[\"Modality\"].extend([\"Text\", \"Image\", \"Graph\"])\n",
        "  res_df[recall.name].extend([text_res.metric_avg_results[recall.name],\n",
        "                              image_res.metric_avg_results[recall.name],\n",
        "                              graph_res.metric_avg_results[recall.name]])\n",
        "  res_df[ndcg.name].extend([text_res.metric_avg_results[ndcg.name],\n",
        "                            image_res.metric_avg_results[ndcg.name],\n",
        "                            graph_res.metric_avg_results[ndcg.name]])\n",
        "res_df = pd.DataFrame(res_df)"
      ],
      "execution_count": 6,
      "outputs": []
    },
    {
      "cell_type": "markdown",
      "metadata": {
        "id": "kGCHCLYkB7zt"
      },
      "source": [
        "### Recall"
      ]
    },
    {
      "cell_type": "code",
      "metadata": {
        "colab": {
          "base_uri": "https://localhost:8080/",
          "height": 279
        },
        "id": "OQexOwvp9zxa",
        "outputId": "dfe0b1b3-4c92-490f-d4ee-5f7f760db656"
      },
      "source": [
        "sns.barplot(x=\"Model\", y=recall.name, hue=\"Modality\", palette=\"Set1\", data=res_df);"
      ],
      "execution_count": 7,
      "outputs": [
        {
          "output_type": "display_data",
          "data": {
            "image/png": "[encoded data removed]",
            "text/plain": [
              "<Figure size 432x288 with 1 Axes>"
            ]
          },
          "metadata": {
            "needs_background": "light"
          }
        }
      ]
    },
    {
      "cell_type": "markdown",
      "metadata": {
        "id": "VrKJ2t-BB9_E"
      },
      "source": [
        "### NDCG"
      ]
    },
    {
      "cell_type": "code",
      "metadata": {
        "colab": {
          "base_uri": "https://localhost:8080/",
          "height": 279
        },
        "id": "j567GGuJ9-Ti",
        "outputId": "bb879c27-ef84-4390-a5fd-0e1f7a925343"
      },
      "source": [
        "sns.barplot(x=\"Model\", y=ndcg.name, hue=\"Modality\", palette=\"Set1\", data=res_df);"
      ],
      "execution_count": 8,
      "outputs": [
        {
          "output_type": "display_data",
          "data": {
            "image/png": "[encoded data removed]",
            "text/plain": [
              "<Figure size 432x288 with 1 Axes>"
            ]
          },
          "metadata": {
            "needs_background": "light"
          }
        }
      ]
    },
    {
      "cell_type": "markdown",
      "metadata": {
        "id": "VAXF4evDenei"
      },
      "source": [
        "## Question 2"
      ]
    },
    {
      "cell_type": "markdown",
      "metadata": {
        "id": "xinM6ns9enei"
      },
      "source": [
        "Based on the above results, what can you infer regarding cross-modality utilization? "
      ]
    },
    {
      "cell_type": "markdown",
      "metadata": {
        "id": "0FmiuTYiP_pB"
      },
      "source": [
        "## References\n",
        "\n",
        "1.   Truong, Q. T., Salah, A., Tran, T. B., Guo, J., & Lauw, H. W. (2021). Exploring Cross-Modality Utilization in Recommender Systems. IEEE Internet Computing.\n",
        "2.   Wang, H., Wang, N., & Yeung, D. Y. (2015, August). Collaborative deep learning for recommender systems. In Proceedings of the 21th ACM SIGKDD international conference on knowledge discovery and data mining (pp. 1235-1244).\n",
        "3.   He, R., & McAuley, J. (2016, February). VBPR: visual bayesian personalized ranking from implicit feedback. In Thirtieth AAAI Conference on Artificial Intelligence.\n",
        "4.   Park, C., Kim, D., Oh, J., & Yu, H. (2017, April). Do\" Also-Viewed\" Products Help User Rating Prediction?. In Proceedings of the 26th International Conference on World Wide Web (pp. 1113-1122).\n",
        "5.   Salah, A., Truong, Q. T., & Lauw, H. W. (2020). Cornac: A Comparative Framework for Multimodal Recommender Systems. J. Mach. Learn. Res., 21, 95-1. https://cornac.preferred.ai\n",
        "\n"
      ]
    }
  ]
}