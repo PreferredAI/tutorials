{
  "cells": [
    {
      "cell_type": "markdown",
      "metadata": {
        "colab_type": "text",
        "id": "xLXWx4uhqtYJ"
      },
      "source": [
        "<table class=\"tfo-notebook-buttons\" align=\"left\">\n",
        "  <td>\n",
        "    <a target=\"_blank\" href=\"https://colab.research.google.com/github/PreferredAI/tutorials/blob/master/recommender-systems/07_explanations.ipynb\"><img src=\"https://www.tensorflow.org/images/colab_logo_32px.png\" />Run in Google Colab</a>\n",
        "  </td>\n",
        "  <td>\n",
        "    <a target=\"_blank\" href=\"https://github.com/PreferredAI/tutorials/blob/master/recommender-systems/07_explanations.ipynb\"><img src=\"https://www.tensorflow.org/images/GitHub-Mark-32px.png\" />View source on GitHub</a>\n",
        "  </td>\n",
        "</table>"
      ]
    },
    {
      "cell_type": "markdown",
      "metadata": {
        "colab_type": "text",
        "id": "wzPrmZOMtXt1"
      },
      "source": [
        "# Explainable Recommendations\n"
      ]
    },
    {
      "cell_type": "markdown",
      "metadata": {
        "colab_type": "text",
        "id": "cBBggZxMmFG3"
      },
      "source": [
        "While the main objective of a recommender system is to identify the items to be recommended to a user, providing explanations to accompany the recommendations would be more persuasive as well as engender trust and transparency.  There are different types of explanations.  In this tutorial, we explore explainable recommendation approaches that rely on user product aspect-level sentiment for modeling explanations."
      ]
    },
    {
      "cell_type": "markdown",
      "metadata": {
        "colab_type": "text",
        "id": "MqktDa7H2hKz"
      },
      "source": [
        "## 1. Setup"
      ]
    },
    {
      "cell_type": "code",
      "execution_count": 1,
      "metadata": {
        "colab": {
          "base_uri": "https://localhost:8080/",
          "height": 34
        },
        "colab_type": "code",
        "id": "41oWCMUG2eC_",
        "outputId": "8562fb87-9b3e-4737-d119-213eef286bda",
        "vscode": {
          "languageId": "python"
        }
      },
      "outputs": [
        {
          "name": "stdout",
          "output_type": "stream",
          "text": [
            "\u001b[K     |████████████████████████████████| 10.1MB 3.1MB/s \n",
            "\u001b[?25h"
          ]
        }
      ],
      "source": [
        "!pip install --quiet cornac==1.6.1"
      ]
    },
    {
      "cell_type": "code",
      "execution_count": 14,
      "metadata": {
        "colab": {
          "base_uri": "https://localhost:8080/",
          "height": 68
        },
        "colab_type": "code",
        "id": "YqKrDcGH2k7E",
        "outputId": "60c18f42-8542-46a0-93dd-697b12834779",
        "vscode": {
          "languageId": "python"
        }
      },
      "outputs": [
        {
          "name": "stdout",
          "output_type": "stream",
          "text": [
            "System version: 3.6.9 (default, Apr 18 2020, 01:56:04) \n",
            "[GCC 8.4.0]\n",
            "Cornac version: 1.6.1\n"
          ]
        }
      ],
      "source": [
        "import os\n",
        "import sys\n",
        "from collections import defaultdict\n",
        "\n",
        "import numpy as np\n",
        "import pandas as pd\n",
        "import seaborn as sns\n",
        "import matplotlib.pyplot as plt\n",
        "%matplotlib inline\n",
        "\n",
        "import cornac\n",
        "from cornac.utils import cache\n",
        "from cornac.datasets import amazon_toy\n",
        "from cornac.eval_methods import RatioSplit\n",
        "from cornac.data import Reader, SentimentModality\n",
        "from cornac.models import EFM, MTER, NMF, BPR\n",
        "\n",
        "print(f\"System version: {sys.version}\")\n",
        "print(f\"Cornac version: {cornac.__version__}\")\n",
        "\n",
        "SEED = 42\n",
        "VERBOSE = False"
      ]
    },
    {
      "cell_type": "markdown",
      "metadata": {
        "colab_type": "text",
        "id": "a1Ay68vEfD8y"
      },
      "source": [
        "## 2. Aspect-Level Sentiments\n",
        "To model fine-grained product aspect-ratings. Several works rely on sentiment analysis to extract aspect sentiment from product reviews. In other words, each review is now a list of aspect sentiments. Along with product rating, we also have aspect sentiments expressed in users' reviews. Here, we work with Toys and Games dataset, a sub-category of [Amazon reviews](http://jmcauley.ucsd.edu/data/amazon/).\n",
        "\n",
        "Below are some examples of aspect-level sentiments that have been extracted from users' reviews of items."
      ]
    },
    {
      "cell_type": "code",
      "execution_count": 18,
      "metadata": {
        "colab": {
          "base_uri": "https://localhost:8080/",
          "height": 359
        },
        "colab_type": "code",
        "id": "XvS6J8lm_a6M",
        "outputId": "5ce78506-ed70-4365-b63a-1dc39df6c577",
        "vscode": {
          "languageId": "python"
        }
      },
      "outputs": [
        {
          "data": {
            "text/html": [
              "<div>\n",
              "<style scoped>\n",
              "    .dataframe tbody tr th:only-of-type {\n",
              "        vertical-align: middle;\n",
              "    }\n",
              "\n",
              "    .dataframe tbody tr th {\n",
              "        vertical-align: top;\n",
              "    }\n",
              "\n",
              "    .dataframe thead th {\n",
              "        text-align: right;\n",
              "    }\n",
              "</style>\n",
              "<table border=\"1\" class=\"dataframe\">\n",
              "  <thead>\n",
              "    <tr style=\"text-align: right;\">\n",
              "      <th></th>\n",
              "      <th>user</th>\n",
              "      <th>item</th>\n",
              "      <th>aspect-level sentiment</th>\n",
              "    </tr>\n",
              "  </thead>\n",
              "  <tbody>\n",
              "    <tr>\n",
              "      <th>0</th>\n",
              "      <td>A012468118FTQAINEI0OQ</td>\n",
              "      <td>B00005BZM6</td>\n",
              "      <td>[(paint, great, 1)]</td>\n",
              "    </tr>\n",
              "    <tr>\n",
              "      <th>1</th>\n",
              "      <td>A012468118FTQAINEI0OQ</td>\n",
              "      <td>B001HA9JOA</td>\n",
              "      <td>[(game, great, 1), (money, worth, 1)]</td>\n",
              "    </tr>\n",
              "    <tr>\n",
              "      <th>2</th>\n",
              "      <td>A012468118FTQAINEI0OQ</td>\n",
              "      <td>B002BY2BVE</td>\n",
              "      <td>[(paint, fun, 1), (item, well, 0)]</td>\n",
              "    </tr>\n",
              "    <tr>\n",
              "      <th>3</th>\n",
              "      <td>A012468118FTQAINEI0OQ</td>\n",
              "      <td>B007U7M0LI</td>\n",
              "      <td>[(price, sturdy, 1)]</td>\n",
              "    </tr>\n",
              "    <tr>\n",
              "      <th>4</th>\n",
              "      <td>A012468118FTQAINEI0OQ</td>\n",
              "      <td>B00804BCO6</td>\n",
              "      <td>[(gift, great, 1)]</td>\n",
              "    </tr>\n",
              "    <tr>\n",
              "      <th>5</th>\n",
              "      <td>A0182108CPDLPRCXQUZQ</td>\n",
              "      <td>B002IUNLLK</td>\n",
              "      <td>[(toy, best, 1), (heavy, cool, 1)]</td>\n",
              "    </tr>\n",
              "    <tr>\n",
              "      <th>6</th>\n",
              "      <td>A0182108CPDLPRCXQUZQ</td>\n",
              "      <td>B007WYU7R8</td>\n",
              "      <td>[(toy, great, 1)]</td>\n",
              "    </tr>\n",
              "    <tr>\n",
              "      <th>7</th>\n",
              "      <td>A0182108CPDLPRCXQUZQ</td>\n",
              "      <td>B00ABY8WVO</td>\n",
              "      <td>[(toy, love, 1)]</td>\n",
              "    </tr>\n",
              "    <tr>\n",
              "      <th>8</th>\n",
              "      <td>A0182108CPDLPRCXQUZQ</td>\n",
              "      <td>B00AFP86KG</td>\n",
              "      <td>[(toy, love, 1)]</td>\n",
              "    </tr>\n",
              "    <tr>\n",
              "      <th>9</th>\n",
              "      <td>A0182108CPDLPRCXQUZQ</td>\n",
              "      <td>B00BJT861Q</td>\n",
              "      <td>[(figure, well, 1), (toy, well, 1)]</td>\n",
              "    </tr>\n",
              "  </tbody>\n",
              "</table>\n",
              "</div>"
            ],
            "text/plain": [
              "                    user        item                 aspect-level sentiment\n",
              "0  A012468118FTQAINEI0OQ  B00005BZM6                    [(paint, great, 1)]\n",
              "1  A012468118FTQAINEI0OQ  B001HA9JOA  [(game, great, 1), (money, worth, 1)]\n",
              "2  A012468118FTQAINEI0OQ  B002BY2BVE     [(paint, fun, 1), (item, well, 0)]\n",
              "3  A012468118FTQAINEI0OQ  B007U7M0LI                   [(price, sturdy, 1)]\n",
              "4  A012468118FTQAINEI0OQ  B00804BCO6                     [(gift, great, 1)]\n",
              "5   A0182108CPDLPRCXQUZQ  B002IUNLLK     [(toy, best, 1), (heavy, cool, 1)]\n",
              "6   A0182108CPDLPRCXQUZQ  B007WYU7R8                      [(toy, great, 1)]\n",
              "7   A0182108CPDLPRCXQUZQ  B00ABY8WVO                       [(toy, love, 1)]\n",
              "8   A0182108CPDLPRCXQUZQ  B00AFP86KG                       [(toy, love, 1)]\n",
              "9   A0182108CPDLPRCXQUZQ  B00BJT861Q    [(figure, well, 1), (toy, well, 1)]"
            ]
          },
          "execution_count": 18,
          "metadata": {
            "tags": []
          },
          "output_type": "execute_result"
        }
      ],
      "source": [
        "sentiment_fpath = cache(url='https://github.com/PreferredAI/static-data/raw/main/cornac/datasets/amazon_toy/sentiment.zip',\n",
        "                        unzip=True, relative_path='amazon_toy/sentiment.txt')\n",
        "sentiment = Reader().read(sentiment_fpath, fmt='UITup', sep=',', tup_sep=':')\n",
        "samples = sentiment[:10]\n",
        "pd.DataFrame.from_dict({\n",
        "  \"user\": [tup[0] for tup in samples],\n",
        "  \"item\": [tup[1] for tup in samples],\n",
        "  \"aspect-level sentiment\": [tup[2] for tup in samples]\n",
        "})"
      ]
    },
    {
      "cell_type": "code",
      "execution_count": 20,
      "metadata": {
        "colab": {
          "base_uri": "https://localhost:8080/",
          "height": 391
        },
        "colab_type": "code",
        "id": "1cZ0lBVVdlVs",
        "outputId": "1e399c24-4552-4161-dc5e-6b3a3c732d0d",
        "vscode": {
          "languageId": "python"
        }
      },
      "outputs": [
        {
          "name": "stdout",
          "output_type": "stream",
          "text": [
            "rating_threshold = 1.0\n",
            "exclude_unknowns = True\n",
            "---\n",
            "Training data:\n",
            "Number of users = 17433\n",
            "Number of items = 2180\n",
            "Number of ratings = 66758\n",
            "Max rating = 5.0\n",
            "Min rating = 1.0\n",
            "Global mean = 4.3\n",
            "---\n",
            "Test data:\n",
            "Number of users = 8955\n",
            "Number of items = 2167\n",
            "Number of ratings = 15777\n",
            "Number of unknown users = 0\n",
            "Number of unknown items = 0\n",
            "---\n",
            "Total users = 17433\n",
            "Total items = 2180\n",
            "Total number of aspects: 429\n",
            "Total number of opinions: 2604\n"
          ]
        }
      ],
      "source": [
        "# Load rating and sentiment information\n",
        "rating_fpath = cache(url='https://github.com/PreferredAI/static-data/raw/main/cornac/datasets/amazon_toy/rating.zip',\n",
        "                     unzip=True, relative_path='amazon_toy/rating.txt')\n",
        "rating = Reader(min_item_freq=20).read(rating_fpath, fmt='UIRT', sep=',')\n",
        "\n",
        "# Use Sentiment Modality for aspect-level sentiment data\n",
        "sentiment_modality = SentimentModality(data=sentiment)\n",
        "\n",
        "rs = RatioSplit(\n",
        "    data=rating,\n",
        "    test_size=0.2,\n",
        "    exclude_unknowns=True,\n",
        "    sentiment=sentiment_modality,\n",
        "    verbose=VERBOSE,\n",
        "    seed=SEED,\n",
        ")\n",
        "print(\"Total number of aspects:\", rs.sentiment.num_aspects)\n",
        "print(\"Total number of opinions:\", rs.sentiment.num_opinions)\n",
        "\n",
        "id_aspect_map = {v:k for k, v in rs.sentiment.aspect_id_map.items()}\n",
        "id_opinion_map = {v:k for k, v in rs.sentiment.opinion_id_map.items()}"
      ]
    },
    {
      "cell_type": "markdown",
      "metadata": {
        "colab_type": "text",
        "id": "9vQgJDRUeqNL"
      },
      "source": [
        "## 3. Explicit Factor Model (EFM)\n",
        "\n",
        "EFM model extends Non-negative Matrix Factorization (NMF) with the additional information from **aspect-level sentiments**.  The objective is to learn user, item, and aspect latent factors to explain user-item ratings, users' interest in certain aspects of the items, as well as the quality of items according to those aspects.  In a nutshell, EFM factorizes three matrices: *rating matrix*, *user-aspect attention matrix*, and *item-aspect quality matrix*.  Let's take a look at what the later two matrices are."
      ]
    },
    {
      "cell_type": "code",
      "execution_count": 5,
      "metadata": {
        "colab": {},
        "colab_type": "code",
        "id": "vHDD8hUEa9Ja",
        "vscode": {
          "languageId": "python"
        }
      },
      "outputs": [],
      "source": [
        "efm = EFM()\n",
        "efm.train_set = rs.train_set\n",
        "_, X, Y = efm._build_matrices(rs.train_set)"
      ]
    },
    {
      "cell_type": "markdown",
      "metadata": {
        "colab_type": "text",
        "id": "NGO3fneebwnf"
      },
      "source": [
        "### User-Aspect Attention Matrix\n",
        "\n",
        "Let $\\mathcal{F} = \\{f_1, f_2, \\dots, f_F\\}$ be the set of aspects (e.g., screen, earphone). \n",
        "\n",
        "Let $\\mathbf{X} \\in \\mathbb{R}^{N \\times F}$ be a sparse aspect matrix for $N$ users and $F$ aspects, whereby each element $x_{if} \\in \\mathbf{X}$  indicates the degree of **attention** by user $i$ on aspect $f$, defined as follows:\n",
        "\n",
        "\\begin{equation}\n",
        "x_{if} = \\\n",
        "\\begin{cases}\n",
        "0, & \\text{if user $i$ never mentions aspect $f$} \\\\\n",
        "1 + (N-1)\\left(\\frac{2}{1+\\exp(-t_{if})}-1\\right), & \\text{otherwise}\n",
        "\\end{cases}\n",
        "\\end{equation}\n",
        "\n",
        "where $N=5$ is the highest rating score, $t_{if}$ is the frequency of user $i$ mentions aspect $f$ across all her reviews.\n",
        "\n",
        "For illustration purpose, we show a small matrix $\\mathbf{X}$ of 5 users and 5 aspects below."
      ]
    },
    {
      "cell_type": "code",
      "execution_count": 6,
      "metadata": {
        "colab": {
          "base_uri": "https://localhost:8080/",
          "height": 204
        },
        "colab_type": "code",
        "id": "BzLjB2CBbJTj",
        "outputId": "d8c95260-9724-44e9-eeca-446ade10676c",
        "vscode": {
          "languageId": "python"
        }
      },
      "outputs": [
        {
          "data": {
            "text/html": [
              "<div>\n",
              "<style scoped>\n",
              "    .dataframe tbody tr th:only-of-type {\n",
              "        vertical-align: middle;\n",
              "    }\n",
              "\n",
              "    .dataframe tbody tr th {\n",
              "        vertical-align: top;\n",
              "    }\n",
              "\n",
              "    .dataframe thead th {\n",
              "        text-align: right;\n",
              "    }\n",
              "</style>\n",
              "<table border=\"1\" class=\"dataframe\">\n",
              "  <thead>\n",
              "    <tr style=\"text-align: right;\">\n",
              "      <th></th>\n",
              "      <th>paint</th>\n",
              "      <th>game</th>\n",
              "      <th>money</th>\n",
              "      <th>item</th>\n",
              "      <th>price</th>\n",
              "    </tr>\n",
              "  </thead>\n",
              "  <tbody>\n",
              "    <tr>\n",
              "      <th>User 1</th>\n",
              "      <td>0.0</td>\n",
              "      <td>0.000000</td>\n",
              "      <td>0.0</td>\n",
              "      <td>0.000000</td>\n",
              "      <td>2.848469</td>\n",
              "    </tr>\n",
              "    <tr>\n",
              "      <th>User 2</th>\n",
              "      <td>0.0</td>\n",
              "      <td>0.000000</td>\n",
              "      <td>0.0</td>\n",
              "      <td>0.000000</td>\n",
              "      <td>0.000000</td>\n",
              "    </tr>\n",
              "    <tr>\n",
              "      <th>User 3</th>\n",
              "      <td>0.0</td>\n",
              "      <td>4.620593</td>\n",
              "      <td>0.0</td>\n",
              "      <td>2.848469</td>\n",
              "      <td>4.620593</td>\n",
              "    </tr>\n",
              "    <tr>\n",
              "      <th>User 4</th>\n",
              "      <td>0.0</td>\n",
              "      <td>4.856110</td>\n",
              "      <td>0.0</td>\n",
              "      <td>0.000000</td>\n",
              "      <td>0.000000</td>\n",
              "    </tr>\n",
              "    <tr>\n",
              "      <th>User 5</th>\n",
              "      <td>0.0</td>\n",
              "      <td>0.000000</td>\n",
              "      <td>0.0</td>\n",
              "      <td>0.000000</td>\n",
              "      <td>0.000000</td>\n",
              "    </tr>\n",
              "  </tbody>\n",
              "</table>\n",
              "</div>"
            ],
            "text/plain": [
              "        paint      game  money      item     price\n",
              "User 1    0.0  0.000000    0.0  0.000000  2.848469\n",
              "User 2    0.0  0.000000    0.0  0.000000  0.000000\n",
              "User 3    0.0  4.620593    0.0  2.848469  4.620593\n",
              "User 4    0.0  4.856110    0.0  0.000000  0.000000\n",
              "User 5    0.0  0.000000    0.0  0.000000  0.000000"
            ]
          },
          "execution_count": 6,
          "metadata": {
            "tags": []
          },
          "output_type": "execute_result"
        }
      ],
      "source": [
        "n_users = 5\n",
        "n_aspects = 5\n",
        "pd.DataFrame(\n",
        "  data=X[:n_users, :n_aspects].A,\n",
        "  index=[f\"User {u + 1}\" for u in np.arange(n_users)],\n",
        "  columns=[f\"{id_aspect_map[i]}\" for i in np.arange(n_aspects)]\n",
        ")"
      ]
    },
    {
      "cell_type": "markdown",
      "metadata": {
        "colab_type": "text",
        "id": "avkcE4jtfzfO"
      },
      "source": [
        "In the example below, we can see that *User 4* finds the aspect *game* important, whereas *User 3* is concerned with *game* as well as *price*."
      ]
    },
    {
      "cell_type": "markdown",
      "metadata": {
        "colab_type": "text",
        "id": "PWvgl1rFb1gI"
      },
      "source": [
        "### Item-Aspect Quality Matrix\n",
        "\n",
        "\n",
        "Let $\\mathbf{Y} \\in \\mathbb{R}^{M \\times F}$ be a sparse aspect matrix for $M$ items and $F$ aspects, whereby $y_{jf} \\in \\mathbf{Y}$ indicates the **quality** of item $j$ on aspect $f$, defined as follows:\n",
        "\n",
        "\\begin{equation}\n",
        "y_{jf} = \\\n",
        "\\begin{cases}\n",
        "0, & \\text{if item $j$ was never reviewed on aspect $f$} \\\\\n",
        "1 + (N - 1) \\left( \\frac{1}{1+\\exp(-s_{jf})} \\right), & \\text{otherwise}\n",
        "\\end{cases}\n",
        "\\end{equation}\n",
        "\n",
        "where $s_{jf}$ is the sum of sentiment values with which item $j$ has been mentioned with regards to aspect $f$ across all its reviews.\n",
        "\n",
        "We show a small matrix $Y$ of 5 items and 5 aspects below:"
      ]
    },
    {
      "cell_type": "code",
      "execution_count": 7,
      "metadata": {
        "colab": {
          "base_uri": "https://localhost:8080/",
          "height": 204
        },
        "colab_type": "code",
        "id": "2UxisKhrb7Py",
        "outputId": "3294aae1-9125-4700-8aaf-6d8e9ac66cad",
        "vscode": {
          "languageId": "python"
        }
      },
      "outputs": [
        {
          "data": {
            "text/html": [
              "<div>\n",
              "<style scoped>\n",
              "    .dataframe tbody tr th:only-of-type {\n",
              "        vertical-align: middle;\n",
              "    }\n",
              "\n",
              "    .dataframe tbody tr th {\n",
              "        vertical-align: top;\n",
              "    }\n",
              "\n",
              "    .dataframe thead th {\n",
              "        text-align: right;\n",
              "    }\n",
              "</style>\n",
              "<table border=\"1\" class=\"dataframe\">\n",
              "  <thead>\n",
              "    <tr style=\"text-align: right;\">\n",
              "      <th></th>\n",
              "      <th>paint</th>\n",
              "      <th>game</th>\n",
              "      <th>money</th>\n",
              "      <th>item</th>\n",
              "      <th>price</th>\n",
              "    </tr>\n",
              "  </thead>\n",
              "  <tbody>\n",
              "    <tr>\n",
              "      <th>Item 1</th>\n",
              "      <td>3.924234</td>\n",
              "      <td>0.000000</td>\n",
              "      <td>3.000000</td>\n",
              "      <td>0.000000</td>\n",
              "      <td>3.924234</td>\n",
              "    </tr>\n",
              "    <tr>\n",
              "      <th>Item 2</th>\n",
              "      <td>0.000000</td>\n",
              "      <td>0.000000</td>\n",
              "      <td>0.000000</td>\n",
              "      <td>4.523188</td>\n",
              "      <td>4.523188</td>\n",
              "    </tr>\n",
              "    <tr>\n",
              "      <th>Item 3</th>\n",
              "      <td>0.000000</td>\n",
              "      <td>4.523188</td>\n",
              "      <td>0.000000</td>\n",
              "      <td>0.000000</td>\n",
              "      <td>0.000000</td>\n",
              "    </tr>\n",
              "    <tr>\n",
              "      <th>Item 4</th>\n",
              "      <td>0.000000</td>\n",
              "      <td>0.000000</td>\n",
              "      <td>0.000000</td>\n",
              "      <td>0.000000</td>\n",
              "      <td>3.924234</td>\n",
              "    </tr>\n",
              "    <tr>\n",
              "      <th>Item 5</th>\n",
              "      <td>3.924234</td>\n",
              "      <td>0.000000</td>\n",
              "      <td>3.924234</td>\n",
              "      <td>4.523188</td>\n",
              "      <td>4.523188</td>\n",
              "    </tr>\n",
              "  </tbody>\n",
              "</table>\n",
              "</div>"
            ],
            "text/plain": [
              "           paint      game     money      item     price\n",
              "Item 1  3.924234  0.000000  3.000000  0.000000  3.924234\n",
              "Item 2  0.000000  0.000000  0.000000  4.523188  4.523188\n",
              "Item 3  0.000000  4.523188  0.000000  0.000000  0.000000\n",
              "Item 4  0.000000  0.000000  0.000000  0.000000  3.924234\n",
              "Item 5  3.924234  0.000000  3.924234  4.523188  4.523188"
            ]
          },
          "execution_count": 7,
          "metadata": {
            "tags": []
          },
          "output_type": "execute_result"
        }
      ],
      "source": [
        "n_items = 5\n",
        "n_aspects = 5\n",
        "pd.DataFrame(\n",
        "  data=Y[:n_items, :n_aspects].A,\n",
        "  index=[f\"Item {u + 1}\" for u in np.arange(n_items)],\n",
        "  columns=[f\"{id_aspect_map[i]}\" for i in np.arange(n_aspects)]\n",
        ")"
      ]
    },
    {
      "cell_type": "markdown",
      "metadata": {
        "colab_type": "text",
        "id": "Wx7p01aAgRPG"
      },
      "source": [
        "We see from the example above that *Item 3* has a positive quality in the aspect *game*, whereas *Item 5* has positive quality on the other 4 aspects."
      ]
    },
    {
      "cell_type": "markdown",
      "metadata": {
        "colab_type": "text",
        "id": "iXoJMNqVc-1C"
      },
      "source": [
        "### Optimization\n",
        "\n",
        "As these matrices are sparse, for prediction, EFM jointly factorizes $X$ and $Y$ matrices along with rating matrix $R$.   Learning the latent factors can be done via minimizing the following loss function:\n",
        "\n",
        "\\begin{align}\n",
        "&\\mathcal{L}(\\mathbf{U_1, U_2, V, H_1, H_2} | \\lambda_x, \\lambda_y, \\lambda_u, \\lambda_h, \\lambda_v) = ||\\mathbf{U_1} \\mathbf{U_2}^T + \\mathbf{H_1} \\mathbf{H_2}^T - \\mathbf{R}||_F^2 + \\lambda_x ||\\mathbf{U_1} \\mathbf{V}^T - \\mathbf{X}||_F^2 + \\lambda_y ||\\mathbf{U_2} \\mathbf{V}^T - \\mathbf{Y}||_F^2 + \\lambda_u(||\\mathbf{U_1}||_F^2+||\\mathbf{U_2}||_F^2) + \\lambda_h(||\\mathbf{H_1}||_F^2+||\\mathbf{H_2}||_F^2) + \\lambda_v ||\\mathbf{V}||_F^2 \\\\\n",
        "&\\text{such that: }  \\forall_{i, k} u_{ik} \\ge 0, \\forall_{j, k} v_{jk} \\ge 0\n",
        "\\end{align}\n",
        "\n",
        "The can be solved as a constrained optimization problem. \n",
        "\n",
        "\n",
        "Let's conduct an experiment with EFM model and compare with NMF as a baseline."
      ]
    },
    {
      "cell_type": "code",
      "execution_count": 8,
      "metadata": {
        "colab": {
          "base_uri": "https://localhost:8080/",
          "height": 153
        },
        "colab_type": "code",
        "id": "juZD_AzeftIi",
        "outputId": "82afa406-ff3d-4013-fb30-c0a3f6d9fe1e",
        "vscode": {
          "languageId": "python"
        }
      },
      "outputs": [
        {
          "name": "stdout",
          "output_type": "stream",
          "text": [
            "\n",
            "TEST:\n",
            "...\n",
            "    |   RMSE |    AUC | NDCG@50 | Train (s) | Test (s)\n",
            "--- + ------ + ------ + ------- + --------- + --------\n",
            "NMF | 0.8027 | 0.5418 |  0.0093 |    4.6980 |   8.4513\n",
            "EFM | 0.7315 | 0.5536 |  0.0105 |   11.2728 |  12.2117\n",
            "\n"
          ]
        }
      ],
      "source": [
        "efm = EFM(\n",
        "  num_explicit_factors=40,\n",
        "  num_latent_factors=60,\n",
        "  num_most_cared_aspects=15,\n",
        "  rating_scale=5.0,\n",
        "  alpha=0.85,\n",
        "  lambda_x=1,\n",
        "  lambda_y=1,\n",
        "  lambda_u=0.01,\n",
        "  lambda_h=0.01,\n",
        "  lambda_v=0.01,\n",
        "  max_iter=100,\n",
        "  verbose=VERBOSE,\n",
        "  seed=SEED,\n",
        ")\n",
        "\n",
        "# compare to baseline NMF\n",
        "nmf = NMF(k=100, max_iter=100, verbose=VERBOSE, seed=SEED)\n",
        "\n",
        "eval_metrics = [\n",
        "  cornac.metrics.RMSE(),\n",
        "  cornac.metrics.NDCG(k=50),\n",
        "  cornac.metrics.AUC()\n",
        "]\n",
        "\n",
        "cornac.Experiment(\n",
        "  eval_method=rs, models=[nmf, efm], metrics=eval_metrics\n",
        ").run()"
      ]
    },
    {
      "cell_type": "markdown",
      "metadata": {
        "colab_type": "text",
        "id": "rpAMFXCaDUpt"
      },
      "source": [
        "### Refining Ranking Prediction\n",
        "\n",
        "With EFM model, you can refine the recommendation after training by experimenting with different values of: \n",
        "*   `num_most_cared_aspects` ($k$): integer, value range $\\in[0, 429]$ as we have $429$ aspects in total\n",
        "*   `alpha` $\\in [0,1]$\n",
        "\n",
        "These parameters will affect ranking performance of the EFM model, as the ranking score is predicted as follow:\n",
        "\n",
        "$$\n",
        "ranking\\_score = \\alpha \\cdot \\frac{\\sum_{f \\in C_i}{\\hat{x}_{if}\\cdot\\hat{y}_{jf}}}{k \\cdot N} + (1-\\alpha)\\cdot\\hat{r}_{ij}\n",
        "$$"
      ]
    },
    {
      "cell_type": "code",
      "execution_count": 9,
      "metadata": {
        "colab": {
          "base_uri": "https://localhost:8080/",
          "height": 136
        },
        "colab_type": "code",
        "id": "6ax9icw4Ddb6",
        "outputId": "50e84fb1-4570-440e-d26e-4d565d3ab348",
        "vscode": {
          "languageId": "python"
        }
      },
      "outputs": [
        {
          "name": "stdout",
          "output_type": "stream",
          "text": [
            "\n",
            "TEST:\n",
            "...\n",
            "    |    AUC | NDCG@50 | Train (s) | Test (s)\n",
            "--- + ------ + ------- + --------- + --------\n",
            "EFM | 0.5549 |  0.0107 |    0.0008 |  15.3882\n",
            "\n"
          ]
        }
      ],
      "source": [
        "alpha = 0.9 # alpha value in range [0,1]\n",
        "num_most_cared_aspects = 100\n",
        "\n",
        "eval_metrics = [\n",
        "  cornac.metrics.NDCG(k=50),\n",
        "  cornac.metrics.AUC()\n",
        "]\n",
        "\n",
        "cornac.Experiment(\n",
        "  eval_method=rs,\n",
        "  models=[\n",
        "    EFM(\n",
        "      alpha=alpha,\n",
        "      num_most_cared_aspects=num_most_cared_aspects,\n",
        "      init_params={'U1': efm.U1, 'U2': efm.U2, 'H1': efm.H1, 'H2': efm.H2, 'V': efm.V},\n",
        "      trainable=False,\n",
        "      verbose=VERBOSE,\n",
        "      seed=SEED\n",
        "    )\n",
        "  ],\n",
        "  metrics=eval_metrics\n",
        ").run()"
      ]
    },
    {
      "cell_type": "markdown",
      "metadata": {
        "colab_type": "text",
        "id": "oc7l9Mo8mHDN"
      },
      "source": [
        "### Recommendation Explanation with EFM\n",
        "\n",
        "Given a user and an item, EFM model is able of predicting **user's attention scores** as well as **item's quality scores** regarding the aspects.  Those scores with the corresponding aspects will be the explanation on why a user *likes* or *dislikes* an item.\n",
        "\n",
        "Let's take a look at an example below. Feel free to explore other users and items!"
      ]
    },
    {
      "cell_type": "code",
      "execution_count": 10,
      "metadata": {
        "colab": {
          "base_uri": "https://localhost:8080/",
          "height": 359
        },
        "colab_type": "code",
        "id": "Tat5X8bELfln",
        "outputId": "1e12d6f3-7232-4c20-c20f-8c9ab2812b45",
        "vscode": {
          "languageId": "python"
        }
      },
      "outputs": [
        {
          "data": {
            "text/html": [
              "<div>\n",
              "<style scoped>\n",
              "    .dataframe tbody tr th:only-of-type {\n",
              "        vertical-align: middle;\n",
              "    }\n",
              "\n",
              "    .dataframe tbody tr th {\n",
              "        vertical-align: top;\n",
              "    }\n",
              "\n",
              "    .dataframe thead th {\n",
              "        text-align: right;\n",
              "    }\n",
              "</style>\n",
              "<table border=\"1\" class=\"dataframe\">\n",
              "  <thead>\n",
              "    <tr style=\"text-align: right;\">\n",
              "      <th></th>\n",
              "      <th>aspect</th>\n",
              "      <th>user_aspect_attention_score</th>\n",
              "      <th>item_aspect_quality_score</th>\n",
              "    </tr>\n",
              "  </thead>\n",
              "  <tbody>\n",
              "    <tr>\n",
              "      <th>0</th>\n",
              "      <td>toy</td>\n",
              "      <td>4.061583</td>\n",
              "      <td>4.679122</td>\n",
              "    </tr>\n",
              "    <tr>\n",
              "      <th>1</th>\n",
              "      <td>pieces</td>\n",
              "      <td>3.610668</td>\n",
              "      <td>3.844794</td>\n",
              "    </tr>\n",
              "    <tr>\n",
              "      <th>2</th>\n",
              "      <td>game</td>\n",
              "      <td>3.571418</td>\n",
              "      <td>4.211304</td>\n",
              "    </tr>\n",
              "    <tr>\n",
              "      <th>3</th>\n",
              "      <td>furby</td>\n",
              "      <td>3.571004</td>\n",
              "      <td>4.787230</td>\n",
              "    </tr>\n",
              "    <tr>\n",
              "      <th>4</th>\n",
              "      <td>doll</td>\n",
              "      <td>3.480351</td>\n",
              "      <td>4.326976</td>\n",
              "    </tr>\n",
              "    <tr>\n",
              "      <th>5</th>\n",
              "      <td>quality</td>\n",
              "      <td>3.468948</td>\n",
              "      <td>3.952711</td>\n",
              "    </tr>\n",
              "    <tr>\n",
              "      <th>6</th>\n",
              "      <td>really</td>\n",
              "      <td>3.368340</td>\n",
              "      <td>4.586975</td>\n",
              "    </tr>\n",
              "    <tr>\n",
              "      <th>7</th>\n",
              "      <td>gift</td>\n",
              "      <td>3.364289</td>\n",
              "      <td>4.410737</td>\n",
              "    </tr>\n",
              "    <tr>\n",
              "      <th>8</th>\n",
              "      <td>also</td>\n",
              "      <td>3.360865</td>\n",
              "      <td>4.076249</td>\n",
              "    </tr>\n",
              "    <tr>\n",
              "      <th>9</th>\n",
              "      <td>puzzle</td>\n",
              "      <td>3.294265</td>\n",
              "      <td>4.726530</td>\n",
              "    </tr>\n",
              "  </tbody>\n",
              "</table>\n",
              "</div>"
            ],
            "text/plain": [
              "    aspect  user_aspect_attention_score  item_aspect_quality_score\n",
              "0      toy                     4.061583                   4.679122\n",
              "1   pieces                     3.610668                   3.844794\n",
              "2     game                     3.571418                   4.211304\n",
              "3    furby                     3.571004                   4.787230\n",
              "4     doll                     3.480351                   4.326976\n",
              "5  quality                     3.468948                   3.952711\n",
              "6   really                     3.368340                   4.586975\n",
              "7     gift                     3.364289                   4.410737\n",
              "8     also                     3.360865                   4.076249\n",
              "9   puzzle                     3.294265                   4.726530"
            ]
          },
          "execution_count": 10,
          "metadata": {
            "tags": []
          },
          "output_type": "execute_result"
        }
      ],
      "source": [
        "UIDX = 1\n",
        "IIDX = 4\n",
        "num_top_cared_aspects = 10\n",
        "\n",
        "id_aspect_map = {v:k for k, v in rs.sentiment.aspect_id_map.items()}\n",
        "\n",
        "predicted_user_aspect_scores = np.dot(efm.U1[UIDX], efm.V.T)\n",
        "predicted_item_aspect_scores = np.dot(efm.U2[IIDX], efm.V.T)\n",
        "\n",
        "top_cared_aspect_ids = (-predicted_user_aspect_scores).argsort()[:num_top_cared_aspects]\n",
        "top_cared_aspects = [id_aspect_map[aid] for aid in top_cared_aspect_ids]\n",
        "pd.DataFrame.from_dict({\n",
        "  \"aspect\": top_cared_aspects,\n",
        "  \"user_aspect_attention_score\": predicted_user_aspect_scores[top_cared_aspect_ids],\n",
        "  \"item_aspect_quality_score\": predicted_item_aspect_scores[top_cared_aspect_ids]\n",
        "})\n"
      ]
    },
    {
      "cell_type": "markdown",
      "metadata": {
        "colab_type": "text",
        "id": "v4H_VJIZIMiQ"
      },
      "source": [
        "EFM takes an aspect with the **highest score** in `item_aspect_quality_score` as the well-performing aspect, and an aspect with the **lowest score** in `item_aspect_quality_score` as the poorly-performing aspect. See example explanations in their templates below."
      ]
    },
    {
      "cell_type": "code",
      "execution_count": 11,
      "metadata": {
        "colab": {
          "base_uri": "https://localhost:8080/",
          "height": 68
        },
        "colab_type": "code",
        "id": "m4gEW7XvA3wy",
        "outputId": "e7e6034a-e869-4a3e-b4d4-75107bda250f",
        "vscode": {
          "languageId": "python"
        }
      },
      "outputs": [
        {
          "name": "stdout",
          "output_type": "stream",
          "text": [
            "EFM explanation:\n",
            "You might interested in [furby], on which this product perform well. \n",
            "You might interested in [pieces], on which this product perform poorly.\n"
          ]
        }
      ],
      "source": [
        "perform_well_aspect = top_cared_aspects[predicted_item_aspect_scores[top_cared_aspect_ids].argmax()]\n",
        "perform_poorly_aspect = top_cared_aspects[predicted_item_aspect_scores[top_cared_aspect_ids].argmin()]\n",
        "\n",
        "explanation = \\\n",
        "f\"You might interested in [{perform_well_aspect}], on which this product perform well. \\n\\\n",
        "You might interested in [{perform_poorly_aspect}], on which this product perform poorly.\"\n",
        "print(\"EFM explanation:\")\n",
        "print(explanation)"
      ]
    },
    {
      "cell_type": "markdown",
      "metadata": {
        "colab_type": "text",
        "id": "X1vcUpSdnVWA"
      },
      "source": [
        "## 4. Multi-Task Explainable Recommendation (MTER)\n",
        "\n",
        "MTER model extends the concept of exploiting information from *Aspect-Level Sentiments* with tensor factorization (using Tucker Decomposition).   The model takes in the input of three tensors.  Let's go through each of them and see how they are constructed.\n",
        "\n"
      ]
    },
    {
      "cell_type": "markdown",
      "metadata": {
        "colab_type": "text",
        "id": "zgLEBlP8JNPT"
      },
      "source": [
        "### Tensor\\#1: User by Item by Aspect ($\\mathbf{X}$)\n",
        "\n",
        "Let $\\mathbf{R} \\in \\mathbb{R}^{N \\times M}$ be a sparse rating matrix of $N$ users and $M$ items.\n",
        "\n",
        "Let $\\mathbf{X} \\in \\mathbb{R}_{+}^{N \\times M \\times F}$ be a 3-dimensional tensor, each element $x_{ijf}$ indicates a relationship between user $i$, item $j$, and aspect $f$:\n",
        "\n",
        "\\begin{equation}\n",
        "x_{ijf} = \\\n",
        "\\begin{cases}\n",
        "0, & \\text{if aspect $f$ has not been mentioned by user $i$ about item $j$} \\\\\n",
        "1 + (N-1)\\left(\\frac{1}{1+\\exp(-s_{ijf})}\\right), & \\text{otherwise}\n",
        "\\end{cases}\n",
        "\\end{equation}\n",
        "\n",
        "where $s_{ijf}$ is the sum of sentiment values with which item $j$ has been mentioned by user $i$ with regards to aspect $f$.\n",
        "\n",
        "We can extend $\\mathbf{X}$ into $\\mathbf{\\tilde{X}}$ with the rating matrix $\\mathbf{R}$ as the last slice or the $(F + 1)^{\\mathrm{th}}$ aspect (i.e., $\\tilde{x}_{ij(F+1)} = r_{ij}$)."
      ]
    },
    {
      "cell_type": "markdown",
      "metadata": {
        "colab_type": "text",
        "id": "RzJuiT0TJZGV"
      },
      "source": [
        "### Tensor\\#2: User by Aspect by Opinion ($\\mathbf{Y}^{U}$)\n",
        "\n",
        "Let $\\mathbf{Y}^{U} \\in \\mathbb{R}_{+}^{N \\times F \\times O}$ be a 3-dimensional tensor, each element $y^U_{ifo}$ indicates a relationship between user $i$, aspect $f$, and opinion $o$:\n",
        "\n",
        "\\begin{equation}\n",
        "y^U_{ifo} = \\\n",
        "\\begin{cases}\n",
        "0, & \\text{if user $i$ has not been used opinion $o$ to describe aspect $f$ positively} \\\\\n",
        "1 + (N-1)\\left(\\frac{1}{1+\\exp(-t_{ifo})}\\right), & \\text{otherwise}\n",
        "\\end{cases}\n",
        "\\end{equation}\n",
        "\n",
        "where $t_{ifo}$ is the frequency with which user $i$ employs opinion $o$ to describe aspect $f$ positively across all her reviews.\n"
      ]
    },
    {
      "cell_type": "markdown",
      "metadata": {
        "colab_type": "text",
        "id": "CLnMbMtTJZnr"
      },
      "source": [
        "### Tensor\\#3: Item by Aspect by Opinion ($\\mathbf{Y}^{I}$)\n",
        "\n",
        "Let $\\mathbf{Y}^{I} \\in \\mathbb{R}_{+}^{M \\times F \\times O}$ be a 3-dimensional tensor, each element $y^I_{jfo}$ indicates a relationship between item $j$, aspect $f$, and opinion $o$:\n",
        "\n",
        "\\begin{equation}\n",
        "y^I_{jfo} = \\\n",
        "\\begin{cases}\n",
        "0, & \\text{if item $j$ has not been described positively with opinion $o$ on aspect $f$} \\\\\n",
        "1 + (N-1)\\left(\\frac{1}{1+\\exp(-t_{jfo})}\\right), & \\text{otherwise}\n",
        "\\end{cases}\n",
        "\\end{equation}\n",
        "\n",
        "where $t_{jfo}$ is the frequency with which item $j$ has been described positively with opinion $o$ on aspect $f$ positively across all its reviews."
      ]
    },
    {
      "cell_type": "markdown",
      "metadata": {
        "colab_type": "text",
        "id": "ny5xlRKDJq8n"
      },
      "source": [
        "### Optimization\n",
        "\n",
        "MTER employs Tucker Decomposition to jointly factorize three tensors $\\mathbf{\\tilde{X}}$, $\\mathbf{Y}^U$, and $\\mathbf{Y}^I$.   In addition, MTER also optimizes for a ranking objective akin to BPR where:\n",
        "*  Positive triples $\\mathbf{T} = \\{ j >_{i} j' | x_{ij(F+1)} \\in \\mathbf{R}^+ \\land x_{ij'(F+1)} \\in \\mathbf{R}^- \\}$\n",
        "*  For aspect (F + 1), which is the overall rating, user $i$ prefers item $j$ to item $j'$\n",
        "\n",
        "Learning the latent factors can be done via minimizing the following loss function:\n",
        "\n",
        "\\begin{align}\n",
        "&\\mathcal{L}(\\mathbf{U, V, Z, W, C_1, C_2, C_3} | \\lambda_B, \\lambda) = ||\\mathbf{\\tilde{X}} - \\mathbf{\\hat{X}}||_F^2 + ||\\mathbf{Y}^U - \\hat{\\mathbf{Y}}^U||_F^2 + ||\\mathbf{Y}^I - \\hat{\\mathbf{Y}}^I||_F^2 - \\lambda_B \\sum_{j >_i j'} \\ln(1 + \\exp{(-(\\hat{x}_{ij(F+1)} - \\hat{x}_{ij'(F+1)}))}) + \\lambda(||\\mathbf{U}||_F^2+||\\mathbf{V}||_F^2+||\\mathbf{Z}||_F^2+||\\mathbf{W}||_F^2 +||\\mathbf{C_1}||_F^2 +||\\mathbf{C_2}||_F^2 +||\\mathbf{C_3}||_F^2) \\\\\n",
        "&\\text{such that: }  \\mathbf{U} \\ge 0, \\mathbf{V} \\ge 0, \\mathbf{Z} \\ge 0, \\mathbf{W} \\ge 0, \\mathbf{C_1} \\ge 0, \\mathbf{C_2} \\ge 0, \\mathbf{C_3} \\ge 0\n",
        "\\end{align}\n",
        "\n",
        "\n",
        "The can be solved as a constrained optimization problem. \n",
        "\n",
        "\n",
        "Let's conduct an experiment with MTER model and compare with the BPR baseline."
      ]
    },
    {
      "cell_type": "code",
      "execution_count": 12,
      "metadata": {
        "colab": {
          "base_uri": "https://localhost:8080/",
          "height": 153
        },
        "colab_type": "code",
        "id": "BBsqIaj8nUyp",
        "outputId": "41f625e1-9a87-4743-d4cf-ee7890bf2f29",
        "vscode": {
          "languageId": "python"
        }
      },
      "outputs": [
        {
          "name": "stdout",
          "output_type": "stream",
          "text": [
            "\n",
            "TEST:\n",
            "...\n",
            "     |    AUC | NDCG@50 | Train (s) | Test (s)\n",
            "---- + ------ + ------- + --------- + --------\n",
            "BPR  | 0.6271 |  0.0314 |    1.9081 |   5.7188\n",
            "MTER | 0.7185 |  0.0357 |   51.1022 |   6.8672\n",
            "\n"
          ]
        }
      ],
      "source": [
        "mter = MTER(\n",
        "  n_user_factors=10,\n",
        "  n_item_factors=10,\n",
        "  n_aspect_factors=10,\n",
        "  n_opinion_factors=10,\n",
        "  n_bpr_samples=1000,\n",
        "  n_element_samples=50,\n",
        "  lambda_reg=0.1,\n",
        "  lambda_bpr=10,\n",
        "  max_iter=3000,\n",
        "  lr=0.5,\n",
        "  verbose=VERBOSE,\n",
        "  seed=SEED,\n",
        ")\n",
        "\n",
        "# compare to baseline BPR\n",
        "bpr = BPR(k=10, verbose=VERBOSE, seed=SEED)\n",
        "\n",
        "eval_metrics = [\n",
        "  cornac.metrics.NDCG(k=50),\n",
        "  cornac.metrics.AUC()\n",
        "]\n",
        "\n",
        "# Instantiate and run an experiment\n",
        "cornac.Experiment(\n",
        "  eval_method=rs, models=[bpr, mter], metrics=eval_metrics,\n",
        ").run()"
      ]
    },
    {
      "cell_type": "markdown",
      "metadata": {
        "colab_type": "text",
        "id": "KAe3fYPLFSPW"
      },
      "source": [
        "### Recommendation Explanation with MTER\n",
        "\n",
        "* To provide recommendation to user $i$, we rank items $j$ in terms of the predicted rating scores: $\\hat{x}_{ij(F+1)}$\n",
        "\n",
        "* To determine which aspect $f$ of product $j$ a user $i$ cares about, we rank aspects $f$ in terms of: $\\hat{x}_{ijf}$\n",
        "\n",
        "* To determine which opinion phrases $o$ to use when describing aspect $f$ while recommending item $j$ to user $i$, we rank phrases in terms of: $\\hat{y}^U_{ifo} \\times \\hat{y}^I_{jfo}$\n",
        "\n",
        "Let's explore an example below on how we can generate explanations for recommendation by MTER model."
      ]
    },
    {
      "cell_type": "code",
      "execution_count": 13,
      "metadata": {
        "colab": {
          "base_uri": "https://localhost:8080/",
          "height": 111
        },
        "colab_type": "code",
        "id": "a5Tw_xf-FRaz",
        "outputId": "d1043d57-5915-4b36-cd40-3db162e865c5",
        "vscode": {
          "languageId": "python"
        }
      },
      "outputs": [
        {
          "data": {
            "text/html": [
              "<div>\n",
              "<style scoped>\n",
              "    .dataframe tbody tr th:only-of-type {\n",
              "        vertical-align: middle;\n",
              "    }\n",
              "\n",
              "    .dataframe tbody tr th {\n",
              "        vertical-align: top;\n",
              "    }\n",
              "\n",
              "    .dataframe thead th {\n",
              "        text-align: right;\n",
              "    }\n",
              "</style>\n",
              "<table border=\"1\" class=\"dataframe\">\n",
              "  <thead>\n",
              "    <tr style=\"text-align: right;\">\n",
              "      <th></th>\n",
              "      <th>aspect</th>\n",
              "      <th>top_opinions</th>\n",
              "      <th>explanation</th>\n",
              "    </tr>\n",
              "  </thead>\n",
              "  <tbody>\n",
              "    <tr>\n",
              "      <th>0</th>\n",
              "      <td>really</td>\n",
              "      <td>[disappointed, great, like]</td>\n",
              "      <td>Its really is [disappointed] [great] [like].</td>\n",
              "    </tr>\n",
              "    <tr>\n",
              "      <th>1</th>\n",
              "      <td>addition</td>\n",
              "      <td>[disappointed, great, fun]</td>\n",
              "      <td>Its addition is [disappointed] [great] [fun].</td>\n",
              "    </tr>\n",
              "  </tbody>\n",
              "</table>\n",
              "</div>"
            ],
            "text/plain": [
              "     aspect  ...                                    explanation\n",
              "0    really  ...   Its really is [disappointed] [great] [like].\n",
              "1  addition  ...  Its addition is [disappointed] [great] [fun].\n",
              "\n",
              "[2 rows x 3 columns]"
            ]
          },
          "execution_count": 13,
          "metadata": {
            "tags": []
          },
          "output_type": "execute_result"
        }
      ],
      "source": [
        "UIDX = 10\n",
        "IIDX = 10\n",
        "num_top_aspects = 2\n",
        "num_top_opinions = 3\n",
        "\n",
        "item_aspect_ids = np.array(list(set([\n",
        "    tup[0]\n",
        "    for idx in rs.sentiment.item_sentiment[IIDX].values()\n",
        "    for tup in rs.sentiment.sentiment[idx]\n",
        "])))\n",
        "\n",
        "item_opinion_ids = np.array(list(set([\n",
        "  tup[1]\n",
        "  for idx in rs.sentiment.item_sentiment[IIDX].values()\n",
        "  for tup in rs.sentiment.sentiment[idx]\n",
        "])))\n",
        "\n",
        "item_aspects = [id_aspect_map[idx] for idx in item_aspect_ids]\n",
        "\n",
        "ts1 = np.einsum(\"abc,a->bc\", mter.G1, mter.U[UIDX])\n",
        "ts2 = np.einsum(\"bc,b->c\", ts1, mter.I[IIDX])\n",
        "predicted_aspect_scores = np.einsum(\"c,Mc->M\", ts2, mter.A)\n",
        "\n",
        "top_aspect_ids = item_aspect_ids[(-predicted_aspect_scores[item_aspect_ids]).argsort()[:num_top_aspects]]\n",
        "top_aspects = [id_aspect_map[idx] for idx in top_aspect_ids]\n",
        "\n",
        "top_aspect_opinions = []\n",
        "mter_explanations = []\n",
        "for top_aspect_id, top_aspect in zip(top_aspect_ids, top_aspects):\n",
        "  ts1_G2 = np.einsum(\"abc,a->bc\", mter.G2, mter.U[UIDX])\n",
        "  ts2_G2 = np.einsum(\"bc,b->c\", ts1_G2, mter.A[top_aspect_id])\n",
        "  predicted_user_aspect_opinion_scores = np.einsum(\"c,Mc->M\", ts2_G2, mter.O)\n",
        "\n",
        "  ts1_G3 = np.einsum(\"abc,a->bc\", mter.G3, mter.I[IIDX])\n",
        "  ts2_G3 = np.einsum(\"bc,b->c\", ts1_G3, mter.A[top_aspect_id])\n",
        "  predicted_item_aspect_opinion_scores = np.einsum(\"c,Mc->M\", ts2_G3, mter.O)\n",
        "\n",
        "  predicted_aspect_opinion_scores = np.multiply(predicted_user_aspect_opinion_scores, predicted_item_aspect_opinion_scores)\n",
        "  top_opinion_ids = item_opinion_ids[(-predicted_aspect_opinion_scores[item_opinion_ids]).argsort()[:num_top_opinions]]\n",
        "  top_opinions = [id_opinion_map[idx] for idx in top_opinion_ids]\n",
        "  top_aspect_opinions.append(top_opinions)\n",
        "\n",
        "  # Generate explanation for top-1 aspect\n",
        "  mter_explanations.append(f\"Its {top_aspect} is [{'] ['.join(top_opinions)}].\")\n",
        "\n",
        "pd.DataFrame.from_dict({\"aspect\": top_aspects, \"top_opinions\": top_aspect_opinions, \"explanation\": mter_explanations})"
      ]
    },
    {
      "cell_type": "markdown",
      "metadata": {
        "colab_type": "text",
        "id": "b7t7OUvQ1IF1"
      },
      "source": [
        "## References\n",
        "\n",
        "1.   Zhang, Y., Lai, G., Zhang, M., Zhang, Y., Liu, Y., & Ma, S. (2014). Explicit factor models for explainable recommendation based on phrase-level sentiment analysis. In SIGIR (pp. 83-92).\n",
        "2. Wang, N., Wang, H., Jia, Y., & Yin, Y. (2018). Explainable recommendation via multi-task learning in opinionated text data. In SIGIR (pp. 165-174). \n",
        "4.   Cornac - A Comparative Framework for Multimodal Recommender Systems (https://cornac.preferred.ai/)\n"
      ]
    }
  ],
  "metadata": {
    "colab": {
      "collapsed_sections": [],
      "name": "07_explanations.ipynb",
      "provenance": []
    },
    "kernelspec": {
      "display_name": "Python 3",
      "name": "python3"
    }
  },
  "nbformat": 4,
  "nbformat_minor": 0
}
