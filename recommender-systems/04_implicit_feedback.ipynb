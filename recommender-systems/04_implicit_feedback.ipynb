{
  "cells": [
    {
      "cell_type": "markdown",
      "metadata": {
        "id": "xLXWx4uhqtYJ"
      },
      "source": [
        "<table class=\"tfo-notebook-buttons\" align=\"left\">\n",
        "  <td>\n",
        "    <a target=\"_blank\" href=\"https://colab.research.google.com/github/PreferredAI/tutorials/blob/master/recommender-systems/04_implicit_feedback.ipynb\"><img src=\"https://www.tensorflow.org/images/colab_logo_32px.png\" />Run in Google Colab</a>\n",
        "  </td>\n",
        "  <td>\n",
        "    <a target=\"_blank\" href=\"https://github.com/PreferredAI/tutorials/blob/master/recommender-systems/04_implicit_feedback.ipynb\"><img src=\"https://www.tensorflow.org/images/GitHub-Mark-32px.png\" />View source on GitHub</a>\n",
        "  </td>\n",
        "</table>"
      ]
    },
    {
      "cell_type": "markdown",
      "metadata": {
        "id": "wzPrmZOMtXt1"
      },
      "source": [
        "# Implicit Feedback\n"
      ]
    },
    {
      "cell_type": "markdown",
      "metadata": {
        "id": "cBBggZxMmFG3"
      },
      "source": [
        "There are two types of feedback on which most recommender systems would be based. Explicit feedback deals with clear and quantified expression of preferences by a user, in terms of both likes and dislikes. An excellent example would be ratings. However, much more common is implicit feedback, where users provide some positive signals, but the contrast to negative signals may be absent or at least much less evident. An example would be clicks on links or views when browsing.  In this tutorial, we will focus on implicit feedback."
      ]
    },
    {
      "cell_type": "markdown",
      "metadata": {
        "id": "MqktDa7H2hKz"
      },
      "source": [
        "## 1. Setup"
      ]
    },
    {
      "cell_type": "code",
      "execution_count": 1,
      "metadata": {
        "id": "41oWCMUG2eC_",
        "outputId": "a875285a-ec65-4382-b9d8-eee1904c5688",
        "colab": {
          "base_uri": "https://localhost:8080/"
        }
      },
      "outputs": [
        {
          "output_type": "stream",
          "name": "stdout",
          "text": [
            "\u001b[2K     \u001b[90m━━━━━━━━━━━━━━━━━━━━━━━━━━━━━━━━━━━━━━━━\u001b[0m \u001b[32m18.5/18.5 MB\u001b[0m \u001b[31m52.9 MB/s\u001b[0m eta \u001b[36m0:00:00\u001b[0m\n",
            "\u001b[?25h"
          ]
        }
      ],
      "source": [
        "!pip install --quiet cornac==1.15.4 adjustText"
      ]
    },
    {
      "cell_type": "code",
      "execution_count": 2,
      "metadata": {
        "colab": {
          "base_uri": "https://localhost:8080/"
        },
        "id": "YqKrDcGH2k7E",
        "outputId": "e256a590-62f6-4261-bcc8-ff65c72a314e"
      },
      "outputs": [
        {
          "output_type": "stream",
          "name": "stdout",
          "text": [
            "System version: 3.10.11 (main, Apr  5 2023, 14:15:10) [GCC 9.4.0]\n",
            "Cornac version: 1.15.4\n",
            "Tensorflow version: 2.12.0\n"
          ]
        }
      ],
      "source": [
        "import os\n",
        "import sys\n",
        "from collections import defaultdict\n",
        "\n",
        "import numpy as np\n",
        "import pandas as pd\n",
        "import seaborn as sns\n",
        "import matplotlib.pyplot as plt\n",
        "from adjustText import adjust_text\n",
        "%matplotlib inline\n",
        "\n",
        "import cornac\n",
        "from cornac.utils import cache\n",
        "from cornac.datasets import movielens\n",
        "from cornac.eval_methods import RatioSplit\n",
        "from cornac.models import MF, BPR, WMF\n",
        "\n",
        "import tensorflow as tf\n",
        "\n",
        "print(f\"System version: {sys.version}\")\n",
        "print(f\"Cornac version: {cornac.__version__}\")\n",
        "print(f\"Tensorflow version: {tf.__version__}\")\n",
        "\n",
        "SEED = 42\n",
        "VERBOSE = False"
      ]
    },
    {
      "cell_type": "markdown",
      "metadata": {
        "id": "r76coF3ZyWxb"
      },
      "source": [
        "## 2. Weighted Matrix Factorization (WMF)\n",
        "\n",
        "We use the term **adoption matrix** to refer to interactions between users and items.  In the case of explicit feedback, it is the rating matrix, while in the case of implicit feedback, it can be a matrix of click counts or binary.\n",
        "\n",
        "Weighted matrix factorization predicts an adoption of user $i$ to item $j$ using inner product of user and item factors as $\\hat{p}_{i,j} = \\mathbf{u}_i^T \\mathbf{v}_j$.  The difference between Weighted MF and Original MF is that WMF tries to predict *unobserved* adoptions while MF ignores them during training. The convention by Cornac library is to derive observed and unobserved adoptions from the rating matrix as follows.\n",
        "\n",
        "\\begin{equation}\n",
        "p_{i,j} = \n",
        "\\begin{cases} \n",
        "r_{i, j} &\\mbox{if } r_{i,j} > 0 \\\\\n",
        "0 & \\mbox{otherwise} \n",
        "\\end{cases}\n",
        "\\end{equation}\n",
        "\n",
        "The important principle is that WMF usually assigns a higher confidence weight when fitting *observed* adoptions than when fitting *unobserved* adoptions. There are several ways to introduce the confidence scores.  Here we use the convention by Cornac library, which implements the following rules:\n",
        "\n",
        "\\begin{equation}\n",
        "c_{i,j} = \n",
        "\\begin{cases} \n",
        "a &\\mbox{if } r_{i,j} > 0 \\\\\n",
        "b & \\mbox{otherwise }\n",
        "\\end{cases}\n",
        "\\end{equation}\n",
        "\n",
        "Concretely, WMF minimizes the following loss function:\n",
        "\n",
        "$$ \\mathcal{L}(\\mathbf{U,V}|\\lambda) = \\frac{1}{2} \\sum_{i,j} c_{i,j} (p_{i,j} - \\mathbf{u}_i^T \\mathbf{v}_j)^2 + \\frac{\\lambda}{2} \\sum_{i=1}^{N} ||\\mathbf{u}_i||^2 + \\frac{\\lambda}{2} \\sum_{j=1}^{M} ||\\mathbf{v}_j||^2 $$\n",
        "\n",
        "Let's now compare how WMF and MF are different."
      ]
    },
    {
      "cell_type": "code",
      "execution_count": 3,
      "metadata": {
        "colab": {
          "base_uri": "https://localhost:8080/",
          "height": 265,
          "referenced_widgets": [
            "c1f8b5b6603342289470b340336365d8",
            "be2d7a9ba0e843a282f8ed00029b9589",
            "79f135ab5aa64a4ea4adf9cb5e9d5b53",
            "c2234fe93179410597224ce14d5d9877",
            "f61ea1a9b8b044348a55c56791986efa",
            "2b8100d2588a4aa18aef568392935476",
            "49c57baaaee44f6eb0e207dc51d8094b",
            "01704e8bfb0c4dfdb7f638ae3b298047",
            "7bd530ac31274177b88dc9ad9bf1e598",
            "36f255f496f942e4a88384dcd81f92fa",
            "7a5c9fedac7749c0b6048b063e3e244b"
          ]
        },
        "id": "p2iyzuFFs1Fq",
        "outputId": "66fd5e4e-60c9-4747-fccf-2eb94c043ab0"
      },
      "outputs": [
        {
          "output_type": "stream",
          "name": "stdout",
          "text": [
            "Data from http://files.grouplens.org/datasets/movielens/ml-100k/u.data\n",
            "will be cached into /root/.cornac/ml-100k/u.data\n"
          ]
        },
        {
          "output_type": "display_data",
          "data": {
            "text/plain": [
              "0.00B [00:00, ?B/s]"
            ],
            "application/vnd.jupyter.widget-view+json": {
              "version_major": 2,
              "version_minor": 0,
              "model_id": "c1f8b5b6603342289470b340336365d8"
            }
          },
          "metadata": {}
        },
        {
          "output_type": "stream",
          "name": "stdout",
          "text": [
            "File cached!\n",
            "\n",
            "TEST:\n",
            "...\n",
            "          |   RMSE |    AUC |  F1@10 |    MAP |    MRR | NDCG@10 | NDCG@20 | NDCG@30 | Precision@10 | Recall@10 | Train (s) | Test (s)\n",
            "--------- + ------ + ------ + ------ + ------ + ------ + ------- + ------- + ------- + ------------ + --------- + --------- + --------\n",
            "WMF(K=50) | 1.1012 | 0.8980 | 0.0734 | 0.0956 | 0.2387 |  0.1068 |  0.1292 |  0.1506 |       0.0968 |    0.0800 |   14.0206 |   6.3769\n",
            "MF(K=50)  | 0.8909 | 0.6573 | 0.0290 | 0.0402 | 0.1453 |  0.0539 |  0.0565 |  0.0626 |       0.0524 |    0.0241 |    0.2283 |   3.5900\n",
            "\n"
          ]
        }
      ],
      "source": [
        "K = 50\n",
        "wmf = WMF(k=K, max_iter=100, a=1.0, b=0.01, learning_rate=0.001, lambda_u=0.01, lambda_v=0.01,\n",
        "          verbose=VERBOSE, seed=SEED, name=f\"WMF(K={K})\")\n",
        "mf = MF(k=K, max_iter=20, learning_rate=0.01, lambda_reg=0.01, \n",
        "        verbose=VERBOSE, seed=SEED, name=f\"MF(K={K})\")\n",
        "\n",
        "eval_metrics = [\n",
        "  cornac.metrics.RMSE(), \n",
        "  cornac.metrics.AUC(),\n",
        "  cornac.metrics.Precision(k=10),\n",
        "  cornac.metrics.Recall(k=10),\n",
        "  cornac.metrics.FMeasure(k=10),\n",
        "  cornac.metrics.NDCG(k=[10, 20, 30]),\n",
        "  cornac.metrics.MRR(),\n",
        "  cornac.metrics.MAP()\n",
        "]\n",
        "\n",
        "data = movielens.load_feedback(variant=\"100K\")\n",
        "rs = RatioSplit(data, test_size=0.2, seed=SEED, verbose=VERBOSE)\n",
        "\n",
        "cornac.Experiment(eval_method=rs, models=[wmf, mf], metrics=eval_metrics).run()"
      ]
    },
    {
      "cell_type": "markdown",
      "metadata": {
        "id": "bWO_aF1iBwI5"
      },
      "source": [
        "As we can observe, the strength of the MF model is the ability to predict ratings well (lower RMSE). However, WMF model is designed to rank items, by fitting binary adoptions, thus it outperforms MF across all the listed ranking metrics. "
      ]
    },
    {
      "cell_type": "markdown",
      "metadata": {
        "id": "-8iXcfuKsVa8"
      },
      "source": [
        "## 3. Bayesian Personalized Ranking (BPR)\n",
        "\n",
        "Implicit feedback can also be turned into another form of expression, namely ordinal preferences.  Given an *observed* feedback $(i, j)$ between user $i$ and item $j$, another item $l$ (with *no observed interaction* with user $i$) is coupled with the pair to form a triple $(i, j, l)$.  Thus, there are now notions of *positive* and *negative* items.  The training data consists of ordinal triples $D_S = \\{(i, j, l) | r_{ij} \\in \\mathbf{R}^+ \\land r_{il} \\in \\mathbf{R}^-\\}$.\n",
        "\n",
        "BPR maximizes the joint probability over all triples:\n",
        "\n",
        "$$ \\prod_{(i,j,l) \\in D_S} p(j >_{i} l) = \\prod_{(i,j,l) \\in D_S} \\sigma(\\mathbf{u}_i^T \\mathbf{v}_j - \\mathbf{u}_i^T \\mathbf{v}_l) $$\n",
        "\n",
        "where $\\sigma(*)$ is the logistic *sigmoid* function and the preference scoring function is the inner product of user and item latent factors, inspired by the matrix factorization method.\n",
        "\n",
        "By minimizing *negative log-likelihood* with *l2-regularization*, we arrive at the following loss function:\n",
        "\n",
        "$$ \\mathcal{L}(\\mathbf{U,V}|\\lambda) = \\sum_{i,j,l} \\ln (1 + \\exp\\{-(\\mathbf{u}_i^T \\mathbf{v}_j - \\mathbf{u}_i^T \\mathbf{v}_l)\\}) + \\frac{\\lambda}{2} \\sum_{i=1}^{N} ||\\mathbf{u}_i||^2 + \\frac{\\lambda}{2} \\sum_{j=1}^{M} ||\\mathbf{v}_j||^2 $$\n",
        "\n",
        "Let's compare the two models BPR and WMF."
      ]
    },
    {
      "cell_type": "code",
      "execution_count": 4,
      "metadata": {
        "colab": {
          "base_uri": "https://localhost:8080/"
        },
        "id": "NZ2Al6omrlEP",
        "outputId": "8dc8c226-da19-4b2f-ad5b-e44277d1a454"
      },
      "outputs": [
        {
          "output_type": "stream",
          "name": "stdout",
          "text": [
            "\n",
            "TEST:\n",
            "...\n",
            "          |   RMSE |    AUC |  F1@10 |    MAP |    MRR | NDCG@10 | NDCG@20 | NDCG@30 | Precision@10 | Recall@10 | Train (s) | Test (s)\n",
            "--------- + ------ + ------ + ------ + ------ + ------ + ------- + ------- + ------- + ------------ + --------- + --------- + --------\n",
            "BPR(K=50) | 1.5631 | 0.9356 | 0.0859 | 0.1146 | 0.2337 |  0.1096 |  0.1393 |  0.1662 |       0.0938 |    0.1000 |    3.8848 |   2.8085\n",
            "WMF(K=50) | 1.1012 | 0.8980 | 0.0734 | 0.0956 | 0.2387 |  0.1068 |  0.1292 |  0.1506 |       0.0968 |    0.0800 |    4.1856 |   2.3766\n",
            "\n"
          ]
        }
      ],
      "source": [
        "K = 50\n",
        "bpr = BPR(k=K, max_iter=200, learning_rate=0.01, lambda_reg=0.001, \n",
        "          verbose=VERBOSE, seed=SEED, name=f\"BPR(K={K})\")\n",
        "wmf = WMF(k=K, max_iter=100, a=1.0, b=0.01, learning_rate=0.001, lambda_u=0.01, lambda_v=0.01,\n",
        "          verbose=VERBOSE, seed=SEED, name=f\"WMF(K={K})\")\n",
        "\n",
        "rs = RatioSplit(data, test_size=0.2, seed=SEED, verbose=VERBOSE)\n",
        "cornac.Experiment(eval_method=rs, models=[bpr, wmf], metrics=eval_metrics).run()"
      ]
    },
    {
      "cell_type": "markdown",
      "metadata": {
        "id": "IgDxicdzH_yD"
      },
      "source": [
        "BPR only tries to preserve the ordinal constraints without learning to predict the rating values.  Thus, RMSE is not the right metric to evaluate BPR model.   Minimizing the loss function of BPR is analogous to maximizing AUC, therefore, we expect BPR to do well on that metric.\n",
        "\n",
        "Both BPR and WMF models are designed to obtain good performances in terms of ranking metrics.  With reasonable efforts for hyper-parameter tuning, we should see comparable performance between the two models.  "
      ]
    },
    {
      "cell_type": "markdown",
      "metadata": {
        "id": "0V4hcvmFzlUw"
      },
      "source": [
        "## 4. Interpreting Latent Factors\n",
        "\n",
        "Both presented models (WMF and BPR) are based on the matrix factorization technique, let us see how the latent factors could give us some information about how items are associated with one another, as well as which items tend to be associated with a particular factor."
      ]
    },
    {
      "cell_type": "code",
      "execution_count": 5,
      "metadata": {
        "colab": {
          "base_uri": "https://localhost:8080/",
          "height": 103,
          "referenced_widgets": [
            "6b92d41e09e84096be6e8f60946c18dd",
            "2846bf4b9bea4216b85c30c8b3d79576",
            "69a278a62bcd4fda8b54523fa0459395",
            "0cb2037d3f8043eb83f387db49a5db19",
            "28b1f8935ad84419a4e157f2f84bab4f",
            "a9a342d3bb8541eda0e1a9a7141089db",
            "8df9e65650154f9496b50c329ee8d972",
            "d973c4d467fb4aa5a5cd54b6c24c345a",
            "26f075adfb254cd9bafb6d4962d06d46",
            "967d53f8ccb345419875c6d958b8108e",
            "bc7fbd80a7824ca2a77c110dcb16c7ba"
          ]
        },
        "id": "shUv6el6sYON",
        "outputId": "6c14c1a6-f2ca-47cc-8f8b-4f3e0b06d232"
      },
      "outputs": [
        {
          "output_type": "stream",
          "name": "stdout",
          "text": [
            "Data from http://files.grouplens.org/datasets/movielens/ml-100k/u.item\n",
            "will be cached into /root/.cornac/u.item\n"
          ]
        },
        {
          "output_type": "display_data",
          "data": {
            "text/plain": [
              "0.00B [00:00, ?B/s]"
            ],
            "application/vnd.jupyter.widget-view+json": {
              "version_major": 2,
              "version_minor": 0,
              "model_id": "6b92d41e09e84096be6e8f60946c18dd"
            }
          },
          "metadata": {}
        },
        {
          "output_type": "stream",
          "name": "stdout",
          "text": [
            "File cached!\n"
          ]
        }
      ],
      "source": [
        "# Download some information of MovieLens 100K dataset\n",
        "item_df = pd.read_csv(\n",
        "  cache(\"http://files.grouplens.org/datasets/movielens/ml-100k/u.item\"), \n",
        "  sep=\"|\", encoding=\"ISO-8859-1\",\n",
        "  names=[\"ItemID\", \"Title\", \"Release Date\", \"Video Release Date\", \"IMDb URL\", \n",
        "         \"unknown\", \"Action\", \"Adventure\", \"Animation\", \"Children's\", \"Comedy\", \n",
        "         \"Crime\", \"Documentary\", \"Drama\", \"Fantasy\", \"Film-Noir\", \"Horror\", \n",
        "         \"Musical\", \"Mystery\", \"Romance\", \"Sci-Fi\", \"Thriller\", \"War\", \"Western\"]\n",
        ").set_index(\"ItemID\").drop(columns=[\"Video Release Date\", \"IMDb URL\", \"unknown\"])"
      ]
    },
    {
      "cell_type": "markdown",
      "metadata": {
        "id": "vXcoCs33t-Zg"
      },
      "source": [
        "### WMF Latent Factors\n",
        "\n",
        "Below is the variance of each latent dimension across different items.  If a factor or dimension has higher variance, it is better at discriminating among different items.  Conversely, if the variance of a factor is too small, it implies that most items would have a similar value for that factor."
      ]
    },
    {
      "cell_type": "code",
      "execution_count": 6,
      "metadata": {
        "colab": {
          "base_uri": "https://localhost:8080/",
          "height": 465
        },
        "id": "ZPvIpzrLtIK7",
        "outputId": "6529f36c-b107-4586-a56d-93f117eacedc"
      },
      "outputs": [
        {
          "output_type": "display_data",
          "data": {
            "text/plain": [
              "<Figure size 1300x500 with 1 Axes>"
            ],
            "image/png": "[encoded data removed]"
          },
          "metadata": {}
        }
      ],
      "source": [
        "var_df = pd.DataFrame({\"Factor\": np.arange(K), \"Variance\": np.var(wmf.V, axis=0)})\n",
        "fig, ax = plt.subplots(figsize=(13, 5))\n",
        "sns.barplot(x=\"Factor\", y=\"Variance\", data=var_df, palette=\"ch:.25\", ax=ax);"
      ]
    },
    {
      "cell_type": "code",
      "execution_count": 7,
      "metadata": {
        "colab": {
          "base_uri": "https://localhost:8080/",
          "height": 1000
        },
        "id": "lv07yu0Hrygu",
        "outputId": "a9f2b0de-614c-4f99-fe78-30330f88ce4f"
      },
      "outputs": [
        {
          "output_type": "display_data",
          "data": {
            "text/plain": [
              "<Figure size 1100x1100 with 1 Axes>"
            ],
            "image/png": "[encoded data removed]"
          },
          "metadata": {}
        }
      ],
      "source": [
        "TOP2F = (0, 18)\n",
        "SAMPLE_SIZE = 20\n",
        "\n",
        "rng = np.random.RandomState(SEED)\n",
        "sample_inds = rng.choice(np.arange(wmf.V.shape[0]), size=SAMPLE_SIZE, replace=False)\n",
        "sample_df = pd.DataFrame(data=wmf.V[sample_inds][:, TOP2F], columns=[\"x\", \"y\"])\n",
        "\n",
        "sns.lmplot(x=\"x\", y=\"y\", data=sample_df, height=11.0, fit_reg=False)\n",
        "item_idx2id = list(wmf.train_set.item_ids)\n",
        "titles = item_df.loc[[int(item_idx2id[i]) for i in sample_inds]][\"Title\"].values\n",
        "adjust_text(\n",
        "  [plt.text(*sample_df.loc[i].values, titles[i], size=10) for i in range(len(titles))]\n",
        ");"
      ]
    },
    {
      "cell_type": "markdown",
      "metadata": {
        "id": "fdy0_72dTzSR"
      },
      "source": [
        "### Interpreting Recommendations of WMF\n",
        "\n",
        "Let's pick a user and see what the top-K recommendations by WMF model are.  "
      ]
    },
    {
      "cell_type": "code",
      "execution_count": 8,
      "metadata": {
        "colab": {
          "base_uri": "https://localhost:8080/",
          "height": 511
        },
        "id": "QMEDrcPLTDba",
        "outputId": "bb047d66-c85c-46b9-e054-b9234386a759"
      },
      "outputs": [
        {
          "output_type": "stream",
          "name": "stdout",
          "text": [
            "\n",
            "TOP 5 RECOMMENDATIONS:\n",
            "Scores: [4.513543  4.466046  4.317133  4.2535644 4.2024813]\n"
          ]
        },
        {
          "output_type": "execute_result",
          "data": {
            "text/plain": [
              "                                   Title Release Date  Action  Adventure  \\\n",
              "ItemID                                                                     \n",
              "318              Schindler's List (1993)  01-Jan-1993       0          0   \n",
              "50                      Star Wars (1977)  01-Jan-1977       1          1   \n",
              "496         It's a Wonderful Life (1946)  01-Jan-1946       0          0   \n",
              "64      Shawshank Redemption, The (1994)  01-Jan-1994       0          0   \n",
              "169           Wrong Trousers, The (1993)  01-Jan-1993       0          0   \n",
              "\n",
              "        Animation  Children's  Comedy  Crime  Documentary  Drama  Fantasy  \\\n",
              "ItemID                                                                      \n",
              "318             0           0       0      0            0      1        0   \n",
              "50              0           0       0      0            0      0        0   \n",
              "496             0           0       0      0            0      1        0   \n",
              "64              0           0       0      0            0      1        0   \n",
              "169             1           0       1      0            0      0        0   \n",
              "\n",
              "        Film-Noir  Horror  Musical  Mystery  Romance  Sci-Fi  Thriller  War  \\\n",
              "ItemID                                                                        \n",
              "318             0       0        0        0        0       0         0    1   \n",
              "50              0       0        0        0        1       1         0    1   \n",
              "496             0       0        0        0        0       0         0    0   \n",
              "64              0       0        0        0        0       0         0    0   \n",
              "169             0       0        0        0        0       0         0    0   \n",
              "\n",
              "        Western  \n",
              "ItemID           \n",
              "318           0  \n",
              "50            0  \n",
              "496           0  \n",
              "64            0  \n",
              "169           0  "
            ],
            "text/html": [
              "\n",
              "  <div id=\"df-eec3d342-8071-474c-bab0-06b7b547afb6\">\n",
              "    <div class=\"colab-df-container\">\n",
              "      <div>\n",
              "<style scoped>\n",
              "    .dataframe tbody tr th:only-of-type {\n",
              "        vertical-align: middle;\n",
              "    }\n",
              "\n",
              "    .dataframe tbody tr th {\n",
              "        vertical-align: top;\n",
              "    }\n",
              "\n",
              "    .dataframe thead th {\n",
              "        text-align: right;\n",
              "    }\n",
              "</style>\n",
              "<table border=\"1\" class=\"dataframe\">\n",
              "  <thead>\n",
              "    <tr style=\"text-align: right;\">\n",
              "      <th></th>\n",
              "      <th>Title</th>\n",
              "      <th>Release Date</th>\n",
              "      <th>Action</th>\n",
              "      <th>Adventure</th>\n",
              "      <th>Animation</th>\n",
              "      <th>Children's</th>\n",
              "      <th>Comedy</th>\n",
              "      <th>Crime</th>\n",
              "      <th>Documentary</th>\n",
              "      <th>Drama</th>\n",
              "      <th>Fantasy</th>\n",
              "      <th>Film-Noir</th>\n",
              "      <th>Horror</th>\n",
              "      <th>Musical</th>\n",
              "      <th>Mystery</th>\n",
              "      <th>Romance</th>\n",
              "      <th>Sci-Fi</th>\n",
              "      <th>Thriller</th>\n",
              "      <th>War</th>\n",
              "      <th>Western</th>\n",
              "    </tr>\n",
              "    <tr>\n",
              "      <th>ItemID</th>\n",
              "      <th></th>\n",
              "      <th></th>\n",
              "      <th></th>\n",
              "      <th></th>\n",
              "      <th></th>\n",
              "      <th></th>\n",
              "      <th></th>\n",
              "      <th></th>\n",
              "      <th></th>\n",
              "      <th></th>\n",
              "      <th></th>\n",
              "      <th></th>\n",
              "      <th></th>\n",
              "      <th></th>\n",
              "      <th></th>\n",
              "      <th></th>\n",
              "      <th></th>\n",
              "      <th></th>\n",
              "      <th></th>\n",
              "      <th></th>\n",
              "    </tr>\n",
              "  </thead>\n",
              "  <tbody>\n",
              "    <tr>\n",
              "      <th>318</th>\n",
              "      <td>Schindler's List (1993)</td>\n",
              "      <td>01-Jan-1993</td>\n",
              "      <td>0</td>\n",
              "      <td>0</td>\n",
              "      <td>0</td>\n",
              "      <td>0</td>\n",
              "      <td>0</td>\n",
              "      <td>0</td>\n",
              "      <td>0</td>\n",
              "      <td>1</td>\n",
              "      <td>0</td>\n",
              "      <td>0</td>\n",
              "      <td>0</td>\n",
              "      <td>0</td>\n",
              "      <td>0</td>\n",
              "      <td>0</td>\n",
              "      <td>0</td>\n",
              "      <td>0</td>\n",
              "      <td>1</td>\n",
              "      <td>0</td>\n",
              "    </tr>\n",
              "    <tr>\n",
              "      <th>50</th>\n",
              "      <td>Star Wars (1977)</td>\n",
              "      <td>01-Jan-1977</td>\n",
              "      <td>1</td>\n",
              "      <td>1</td>\n",
              "      <td>0</td>\n",
              "      <td>0</td>\n",
              "      <td>0</td>\n",
              "      <td>0</td>\n",
              "      <td>0</td>\n",
              "      <td>0</td>\n",
              "      <td>0</td>\n",
              "      <td>0</td>\n",
              "      <td>0</td>\n",
              "      <td>0</td>\n",
              "      <td>0</td>\n",
              "      <td>1</td>\n",
              "      <td>1</td>\n",
              "      <td>0</td>\n",
              "      <td>1</td>\n",
              "      <td>0</td>\n",
              "    </tr>\n",
              "    <tr>\n",
              "      <th>496</th>\n",
              "      <td>It's a Wonderful Life (1946)</td>\n",
              "      <td>01-Jan-1946</td>\n",
              "      <td>0</td>\n",
              "      <td>0</td>\n",
              "      <td>0</td>\n",
              "      <td>0</td>\n",
              "      <td>0</td>\n",
              "      <td>0</td>\n",
              "      <td>0</td>\n",
              "      <td>1</td>\n",
              "      <td>0</td>\n",
              "      <td>0</td>\n",
              "      <td>0</td>\n",
              "      <td>0</td>\n",
              "      <td>0</td>\n",
              "      <td>0</td>\n",
              "      <td>0</td>\n",
              "      <td>0</td>\n",
              "      <td>0</td>\n",
              "      <td>0</td>\n",
              "    </tr>\n",
              "    <tr>\n",
              "      <th>64</th>\n",
              "      <td>Shawshank Redemption, The (1994)</td>\n",
              "      <td>01-Jan-1994</td>\n",
              "      <td>0</td>\n",
              "      <td>0</td>\n",
              "      <td>0</td>\n",
              "      <td>0</td>\n",
              "      <td>0</td>\n",
              "      <td>0</td>\n",
              "      <td>0</td>\n",
              "      <td>1</td>\n",
              "      <td>0</td>\n",
              "      <td>0</td>\n",
              "      <td>0</td>\n",
              "      <td>0</td>\n",
              "      <td>0</td>\n",
              "      <td>0</td>\n",
              "      <td>0</td>\n",
              "      <td>0</td>\n",
              "      <td>0</td>\n",
              "      <td>0</td>\n",
              "    </tr>\n",
              "    <tr>\n",
              "      <th>169</th>\n",
              "      <td>Wrong Trousers, The (1993)</td>\n",
              "      <td>01-Jan-1993</td>\n",
              "      <td>0</td>\n",
              "      <td>0</td>\n",
              "      <td>1</td>\n",
              "      <td>0</td>\n",
              "      <td>1</td>\n",
              "      <td>0</td>\n",
              "      <td>0</td>\n",
              "      <td>0</td>\n",
              "      <td>0</td>\n",
              "      <td>0</td>\n",
              "      <td>0</td>\n",
              "      <td>0</td>\n",
              "      <td>0</td>\n",
              "      <td>0</td>\n",
              "      <td>0</td>\n",
              "      <td>0</td>\n",
              "      <td>0</td>\n",
              "      <td>0</td>\n",
              "    </tr>\n",
              "  </tbody>\n",
              "</table>\n",
              "</div>\n",
              "      <button class=\"colab-df-convert\" onclick=\"convertToInteractive('df-eec3d342-8071-474c-bab0-06b7b547afb6')\"\n",
              "              title=\"Convert this dataframe to an interactive table.\"\n",
              "              style=\"display:none;\">\n",
              "        \n",
              "  <svg xmlns=\"http://www.w3.org/2000/svg\" height=\"24px\"viewBox=\"0 0 24 24\"\n",
              "       width=\"24px\">\n",
              "    <path d=\"M0 0h24v24H0V0z\" fill=\"none\"/>\n",
              "    <path d=\"M18.56 5.44l.94 2.06.94-2.06 2.06-.94-2.06-.94-.94-2.06-.94 2.06-2.06.94zm-11 1L8.5 8.5l.94-2.06 2.06-.94-2.06-.94L8.5 2.5l-.94 2.06-2.06.94zm10 10l.94 2.06.94-2.06 2.06-.94-2.06-.94-.94-2.06-.94 2.06-2.06.94z\"/><path d=\"M17.41 7.96l-1.37-1.37c-.4-.4-.92-.59-1.43-.59-.52 0-1.04.2-1.43.59L10.3 9.45l-7.72 7.72c-.78.78-.78 2.05 0 2.83L4 21.41c.39.39.9.59 1.41.59.51 0 1.02-.2 1.41-.59l7.78-7.78 2.81-2.81c.8-.78.8-2.07 0-2.86zM5.41 20L4 18.59l7.72-7.72 1.47 1.35L5.41 20z\"/>\n",
              "  </svg>\n",
              "      </button>\n",
              "      \n",
              "  <style>\n",
              "    .colab-df-container {\n",
              "      display:flex;\n",
              "      flex-wrap:wrap;\n",
              "      gap: 12px;\n",
              "    }\n",
              "\n",
              "    .colab-df-convert {\n",
              "      background-color: #E8F0FE;\n",
              "      border: none;\n",
              "      border-radius: 50%;\n",
              "      cursor: pointer;\n",
              "      display: none;\n",
              "      fill: #1967D2;\n",
              "      height: 32px;\n",
              "      padding: 0 0 0 0;\n",
              "      width: 32px;\n",
              "    }\n",
              "\n",
              "    .colab-df-convert:hover {\n",
              "      background-color: #E2EBFA;\n",
              "      box-shadow: 0px 1px 2px rgba(60, 64, 67, 0.3), 0px 1px 3px 1px rgba(60, 64, 67, 0.15);\n",
              "      fill: #174EA6;\n",
              "    }\n",
              "\n",
              "    [theme=dark] .colab-df-convert {\n",
              "      background-color: #3B4455;\n",
              "      fill: #D2E3FC;\n",
              "    }\n",
              "\n",
              "    [theme=dark] .colab-df-convert:hover {\n",
              "      background-color: #434B5C;\n",
              "      box-shadow: 0px 1px 3px 1px rgba(0, 0, 0, 0.15);\n",
              "      filter: drop-shadow(0px 1px 2px rgba(0, 0, 0, 0.3));\n",
              "      fill: #FFFFFF;\n",
              "    }\n",
              "  </style>\n",
              "\n",
              "      <script>\n",
              "        const buttonEl =\n",
              "          document.querySelector('#df-eec3d342-8071-474c-bab0-06b7b547afb6 button.colab-df-convert');\n",
              "        buttonEl.style.display =\n",
              "          google.colab.kernel.accessAllowed ? 'block' : 'none';\n",
              "\n",
              "        async function convertToInteractive(key) {\n",
              "          const element = document.querySelector('#df-eec3d342-8071-474c-bab0-06b7b547afb6');\n",
              "          const dataTable =\n",
              "            await google.colab.kernel.invokeFunction('convertToInteractive',\n",
              "                                                     [key], {});\n",
              "          if (!dataTable) return;\n",
              "\n",
              "          const docLinkHtml = 'Like what you see? Visit the ' +\n",
              "            '<a target=\"_blank\" href=https://colab.research.google.com/notebooks/data_table.ipynb>data table notebook</a>'\n",
              "            + ' to learn more about interactive tables.';\n",
              "          element.innerHTML = '';\n",
              "          dataTable['output_type'] = 'display_data';\n",
              "          await google.colab.output.renderOutput(dataTable, element);\n",
              "          const docLink = document.createElement('div');\n",
              "          docLink.innerHTML = docLinkHtml;\n",
              "          element.appendChild(docLink);\n",
              "        }\n",
              "      </script>\n",
              "    </div>\n",
              "  </div>\n",
              "  "
            ]
          },
          "metadata": {},
          "execution_count": 8
        }
      ],
      "source": [
        "UIDX = 0\n",
        "TOPK = 5\n",
        "\n",
        "item_id2idx = wmf.train_set.iid_map\n",
        "item_idx2id = list(wmf.train_set.item_ids)\n",
        "\n",
        "recommendations, scores = wmf.rank(UIDX)\n",
        "print(f\"\\nTOP {TOPK} RECOMMENDATIONS:\")\n",
        "print(\"Scores:\", scores[recommendations[:TOPK]])\n",
        "item_df.loc[[int(item_idx2id[i]) for i in recommendations[:TOPK]]]"
      ]
    },
    {
      "cell_type": "markdown",
      "metadata": {
        "id": "zluraHjsc7x-"
      },
      "source": [
        "The solution of alternating least squares model can be used to explain the recommendations.  Please refer to Section 5 in the [paper](http://yifanhu.net/PUB/cf.pdf) for more details.  In summary, the predicted preference of user $i$ for item $j$ is rewritten as:\n",
        "\n",
        "$$ \\hat{p}_{i,j} = \\sum_{l=1}^M sim_i (j, l) c_{i, l} p_{i,l} $$\n",
        "\n",
        "where $sim_i (j, l)$ is the similarity between item $j$ and item $l$ from user $i$’s viewpoint.\n",
        "\n",
        "\n",
        "Let's try to explain why the WMF model recommends the movie **Star Wars (1977)**, *ItemID* = 50 to the user."
      ]
    },
    {
      "cell_type": "code",
      "execution_count": 9,
      "metadata": {
        "colab": {
          "base_uri": "https://localhost:8080/",
          "height": 260
        },
        "id": "ph220lOYST3Z",
        "outputId": "652d20c6-d46e-45d6-b941-8422b2f4ed55"
      },
      "outputs": [
        {
          "output_type": "stream",
          "name": "stdout",
          "text": [
            "Recommended movie: Star Wars (1977)\n",
            "\n",
            "Top contributors:\n"
          ]
        },
        {
          "output_type": "execute_result",
          "data": {
            "text/plain": [
              "   ItemID                        Title  Similarity  Confidence  Adoption  \\\n",
              "0     258               Contact (1997)    0.241275         1.0       4.0   \n",
              "1     237         Jerry Maguire (1996)    0.231645         1.0       4.0   \n",
              "2     971          Mediterraneo (1991)    0.205749         1.0       4.0   \n",
              "3      56          Pulp Fiction (1994)    0.140435         1.0       5.0   \n",
              "4     690  Seven Years in Tibet (1997)    0.115898         1.0       4.0   \n",
              "\n",
              "   Contribution  \n",
              "0      0.965099  \n",
              "1      0.926579  \n",
              "2      0.822997  \n",
              "3      0.702176  \n",
              "4      0.463593  "
            ],
            "text/html": [
              "\n",
              "  <div id=\"df-95f758af-85ce-4305-86de-790917736573\">\n",
              "    <div class=\"colab-df-container\">\n",
              "      <div>\n",
              "<style scoped>\n",
              "    .dataframe tbody tr th:only-of-type {\n",
              "        vertical-align: middle;\n",
              "    }\n",
              "\n",
              "    .dataframe tbody tr th {\n",
              "        vertical-align: top;\n",
              "    }\n",
              "\n",
              "    .dataframe thead th {\n",
              "        text-align: right;\n",
              "    }\n",
              "</style>\n",
              "<table border=\"1\" class=\"dataframe\">\n",
              "  <thead>\n",
              "    <tr style=\"text-align: right;\">\n",
              "      <th></th>\n",
              "      <th>ItemID</th>\n",
              "      <th>Title</th>\n",
              "      <th>Similarity</th>\n",
              "      <th>Confidence</th>\n",
              "      <th>Adoption</th>\n",
              "      <th>Contribution</th>\n",
              "    </tr>\n",
              "  </thead>\n",
              "  <tbody>\n",
              "    <tr>\n",
              "      <th>0</th>\n",
              "      <td>258</td>\n",
              "      <td>Contact (1997)</td>\n",
              "      <td>0.241275</td>\n",
              "      <td>1.0</td>\n",
              "      <td>4.0</td>\n",
              "      <td>0.965099</td>\n",
              "    </tr>\n",
              "    <tr>\n",
              "      <th>1</th>\n",
              "      <td>237</td>\n",
              "      <td>Jerry Maguire (1996)</td>\n",
              "      <td>0.231645</td>\n",
              "      <td>1.0</td>\n",
              "      <td>4.0</td>\n",
              "      <td>0.926579</td>\n",
              "    </tr>\n",
              "    <tr>\n",
              "      <th>2</th>\n",
              "      <td>971</td>\n",
              "      <td>Mediterraneo (1991)</td>\n",
              "      <td>0.205749</td>\n",
              "      <td>1.0</td>\n",
              "      <td>4.0</td>\n",
              "      <td>0.822997</td>\n",
              "    </tr>\n",
              "    <tr>\n",
              "      <th>3</th>\n",
              "      <td>56</td>\n",
              "      <td>Pulp Fiction (1994)</td>\n",
              "      <td>0.140435</td>\n",
              "      <td>1.0</td>\n",
              "      <td>5.0</td>\n",
              "      <td>0.702176</td>\n",
              "    </tr>\n",
              "    <tr>\n",
              "      <th>4</th>\n",
              "      <td>690</td>\n",
              "      <td>Seven Years in Tibet (1997)</td>\n",
              "      <td>0.115898</td>\n",
              "      <td>1.0</td>\n",
              "      <td>4.0</td>\n",
              "      <td>0.463593</td>\n",
              "    </tr>\n",
              "  </tbody>\n",
              "</table>\n",
              "</div>\n",
              "      <button class=\"colab-df-convert\" onclick=\"convertToInteractive('df-95f758af-85ce-4305-86de-790917736573')\"\n",
              "              title=\"Convert this dataframe to an interactive table.\"\n",
              "              style=\"display:none;\">\n",
              "        \n",
              "  <svg xmlns=\"http://www.w3.org/2000/svg\" height=\"24px\"viewBox=\"0 0 24 24\"\n",
              "       width=\"24px\">\n",
              "    <path d=\"M0 0h24v24H0V0z\" fill=\"none\"/>\n",
              "    <path d=\"M18.56 5.44l.94 2.06.94-2.06 2.06-.94-2.06-.94-.94-2.06-.94 2.06-2.06.94zm-11 1L8.5 8.5l.94-2.06 2.06-.94-2.06-.94L8.5 2.5l-.94 2.06-2.06.94zm10 10l.94 2.06.94-2.06 2.06-.94-2.06-.94-.94-2.06-.94 2.06-2.06.94z\"/><path d=\"M17.41 7.96l-1.37-1.37c-.4-.4-.92-.59-1.43-.59-.52 0-1.04.2-1.43.59L10.3 9.45l-7.72 7.72c-.78.78-.78 2.05 0 2.83L4 21.41c.39.39.9.59 1.41.59.51 0 1.02-.2 1.41-.59l7.78-7.78 2.81-2.81c.8-.78.8-2.07 0-2.86zM5.41 20L4 18.59l7.72-7.72 1.47 1.35L5.41 20z\"/>\n",
              "  </svg>\n",
              "      </button>\n",
              "      \n",
              "  <style>\n",
              "    .colab-df-container {\n",
              "      display:flex;\n",
              "      flex-wrap:wrap;\n",
              "      gap: 12px;\n",
              "    }\n",
              "\n",
              "    .colab-df-convert {\n",
              "      background-color: #E8F0FE;\n",
              "      border: none;\n",
              "      border-radius: 50%;\n",
              "      cursor: pointer;\n",
              "      display: none;\n",
              "      fill: #1967D2;\n",
              "      height: 32px;\n",
              "      padding: 0 0 0 0;\n",
              "      width: 32px;\n",
              "    }\n",
              "\n",
              "    .colab-df-convert:hover {\n",
              "      background-color: #E2EBFA;\n",
              "      box-shadow: 0px 1px 2px rgba(60, 64, 67, 0.3), 0px 1px 3px 1px rgba(60, 64, 67, 0.15);\n",
              "      fill: #174EA6;\n",
              "    }\n",
              "\n",
              "    [theme=dark] .colab-df-convert {\n",
              "      background-color: #3B4455;\n",
              "      fill: #D2E3FC;\n",
              "    }\n",
              "\n",
              "    [theme=dark] .colab-df-convert:hover {\n",
              "      background-color: #434B5C;\n",
              "      box-shadow: 0px 1px 3px 1px rgba(0, 0, 0, 0.15);\n",
              "      filter: drop-shadow(0px 1px 2px rgba(0, 0, 0, 0.3));\n",
              "      fill: #FFFFFF;\n",
              "    }\n",
              "  </style>\n",
              "\n",
              "      <script>\n",
              "        const buttonEl =\n",
              "          document.querySelector('#df-95f758af-85ce-4305-86de-790917736573 button.colab-df-convert');\n",
              "        buttonEl.style.display =\n",
              "          google.colab.kernel.accessAllowed ? 'block' : 'none';\n",
              "\n",
              "        async function convertToInteractive(key) {\n",
              "          const element = document.querySelector('#df-95f758af-85ce-4305-86de-790917736573');\n",
              "          const dataTable =\n",
              "            await google.colab.kernel.invokeFunction('convertToInteractive',\n",
              "                                                     [key], {});\n",
              "          if (!dataTable) return;\n",
              "\n",
              "          const docLinkHtml = 'Like what you see? Visit the ' +\n",
              "            '<a target=\"_blank\" href=https://colab.research.google.com/notebooks/data_table.ipynb>data table notebook</a>'\n",
              "            + ' to learn more about interactive tables.';\n",
              "          element.innerHTML = '';\n",
              "          dataTable['output_type'] = 'display_data';\n",
              "          await google.colab.output.renderOutput(dataTable, element);\n",
              "          const docLink = document.createElement('div');\n",
              "          docLink.innerHTML = docLinkHtml;\n",
              "          element.appendChild(docLink);\n",
              "        }\n",
              "      </script>\n",
              "    </div>\n",
              "  </div>\n",
              "  "
            ]
          },
          "metadata": {},
          "execution_count": 9
        }
      ],
      "source": [
        "REC_ID = 50\n",
        "print(\"Recommended movie:\", item_df.loc[REC_ID].Title)\n",
        "rec_idx = item_id2idx[str(REC_ID)]\n",
        "\n",
        "U, V, lbd = wmf.U, wmf.V, wmf.lambda_v\n",
        "pi = wmf.train_set.matrix[UIDX].A.ravel()\n",
        "ci = (pi > 0) * (wmf.a - wmf.b) + wmf.b\n",
        "\n",
        "Wu = np.linalg.inv(V.T.dot(np.diag(ci)).dot(V) + lbd * np.eye(wmf.k))\n",
        "sim = V[rec_idx].dot(Wu).dot(V.T)\n",
        "contribution = sim * ci * pi\n",
        "\n",
        "print(\"\\nTop contributors:\")\n",
        "df = defaultdict(list)\n",
        "for idx in np.argsort(contribution)[-TOPK:][::-1]:\n",
        "  df[\"ItemID\"].append(item_df.loc[[int(item_idx2id[idx])]].index.values[0])\n",
        "  df[\"Title\"].append(item_df.loc[[int(item_idx2id[idx])]][\"Title\"].values[0])\n",
        "  df[\"Similarity\"].append(sim[idx])\n",
        "  df[\"Confidence\"].append(ci[idx])\n",
        "  df[\"Adoption\"].append(pi[idx])\n",
        "  df[\"Contribution\"].append(contribution[idx])\n",
        "pd.DataFrame.from_dict(df)"
      ]
    },
    {
      "cell_type": "markdown",
      "metadata": {
        "id": "i-Mp8q_Ut_mP"
      },
      "source": [
        "### BPR Latent Factors\n",
        "\n",
        "Below is the variance of each latent dimension."
      ]
    },
    {
      "cell_type": "code",
      "execution_count": 10,
      "metadata": {
        "colab": {
          "base_uri": "https://localhost:8080/",
          "height": 465
        },
        "id": "WC7PRQVxthL_",
        "outputId": "15ece482-de60-4875-b0a5-80f4a4574500"
      },
      "outputs": [
        {
          "output_type": "display_data",
          "data": {
            "text/plain": [
              "<Figure size 1300x500 with 1 Axes>"
            ],
            "image/png": "[encoded data removed]"
          },
          "metadata": {}
        }
      ],
      "source": [
        "var_df = pd.DataFrame({\"Factor\": np.arange(K), \"Variance\": np.var(bpr.i_factors, axis=0)})\n",
        "fig, ax = plt.subplots(figsize=(13, 5))\n",
        "sns.barplot(x=\"Factor\", y=\"Variance\", data=var_df, palette=\"ch:.25\", ax=ax);"
      ]
    },
    {
      "cell_type": "code",
      "execution_count": 11,
      "metadata": {
        "colab": {
          "base_uri": "https://localhost:8080/",
          "height": 1000
        },
        "id": "NnnDUUcjMQbx",
        "outputId": "9330499a-74a8-4d85-fc03-3c451c84c743"
      },
      "outputs": [
        {
          "output_type": "display_data",
          "data": {
            "text/plain": [
              "<Figure size 1100x1100 with 1 Axes>"
            ],
            "image/png": "[encoded data removed]"
          },
          "metadata": {}
        }
      ],
      "source": [
        "TOP2F = (24, 49)\n",
        "SAMPLE_SIZE = 20\n",
        "\n",
        "rng = np.random.RandomState(SEED)\n",
        "sample_inds = rng.choice(np.arange(bpr.i_factors.shape[0]), size=SAMPLE_SIZE, replace=False)\n",
        "sample_df = pd.DataFrame(data=bpr.i_factors[sample_inds][:, TOP2F], columns=[\"x\", \"y\"])\n",
        "\n",
        "sns.lmplot(x=\"x\", y=\"y\", data=sample_df, height=11.0, fit_reg=False)\n",
        "item_idx2id = list(bpr.train_set.item_ids)\n",
        "titles = item_df.loc[[int(item_idx2id[i]) for i in sample_inds]][\"Title\"].values\n",
        "adjust_text(\n",
        "  [plt.text(*sample_df.loc[i].values, titles[i], size=10) for i in range(len(titles))]\n",
        ");"
      ]
    },
    {
      "cell_type": "markdown",
      "metadata": {
        "id": "0FmiuTYiP_pB"
      },
      "source": [
        "## References\n",
        "\n",
        "1.   Aggarwal, C. C. (2016). Recommender systems (Vol. 1). Cham: Springer International Publishing.\n",
        "2.   Hu, Y., Koren, Y., & Volinsky, C. (2008, December). Collaborative filtering for implicit feedback datasets. In 2008 Eighth IEEE International Conference on Data Mining (pp. 263-272). Ieee.\n",
        "3.   Rendle, S., Freudenthaler, C., Gantner, Z., & Schmidt-Thieme, L. (2012). BPR: Bayesian personalized ranking from implicit feedback. arXiv preprint arXiv:1205.2618.   \n",
        "4.   Cornac - A Comparative Framework for Multimodal Recommender Systems (https://cornac.preferred.ai/)\n",
        "5.   https://github.com/recommenders-team/recommenders/blob/main/examples/02_model_collaborative_filtering/cornac_bpr_deep_dive.ipynb\n",
        "\n"
      ]
    }
  ],
  "metadata": {
    "accelerator": "GPU",
    "colab": {
      "name": "04_implicit_feedback.ipynb",
      "provenance": []
    },
    "kernelspec": {
      "display_name": "Python 3",
      "name": "python3"
    },
    "language_info": {
      "name": "python",
      "version": "3.9.16"
    },
    "widgets": {
      "application/vnd.jupyter.widget-state+json": {
        "c1f8b5b6603342289470b340336365d8": {
          "model_module": "@jupyter-widgets/controls",
          "model_name": "HBoxModel",
          "model_module_version": "1.5.0",
          "state": {
            "_dom_classes": [],
            "_model_module": "@jupyter-widgets/controls",
            "_model_module_version": "1.5.0",
            "_model_name": "HBoxModel",
            "_view_count": null,
            "_view_module": "@jupyter-widgets/controls",
            "_view_module_version": "1.5.0",
            "_view_name": "HBoxView",
            "box_style": "",
            "children": [
              "IPY_MODEL_be2d7a9ba0e843a282f8ed00029b9589",
              "IPY_MODEL_79f135ab5aa64a4ea4adf9cb5e9d5b53",
              "IPY_MODEL_c2234fe93179410597224ce14d5d9877"
            ],
            "layout": "IPY_MODEL_f61ea1a9b8b044348a55c56791986efa"
          }
        },
        "be2d7a9ba0e843a282f8ed00029b9589": {
          "model_module": "@jupyter-widgets/controls",
          "model_name": "HTMLModel",
          "model_module_version": "1.5.0",
          "state": {
            "_dom_classes": [],
            "_model_module": "@jupyter-widgets/controls",
            "_model_module_version": "1.5.0",
            "_model_name": "HTMLModel",
            "_view_count": null,
            "_view_module": "@jupyter-widgets/controls",
            "_view_module_version": "1.5.0",
            "_view_name": "HTMLView",
            "description": "",
            "description_tooltip": null,
            "layout": "IPY_MODEL_2b8100d2588a4aa18aef568392935476",
            "placeholder": "​",
            "style": "IPY_MODEL_49c57baaaee44f6eb0e207dc51d8094b",
            "value": ""
          }
        },
        "79f135ab5aa64a4ea4adf9cb5e9d5b53": {
          "model_module": "@jupyter-widgets/controls",
          "model_name": "FloatProgressModel",
          "model_module_version": "1.5.0",
          "state": {
            "_dom_classes": [],
            "_model_module": "@jupyter-widgets/controls",
            "_model_module_version": "1.5.0",
            "_model_name": "FloatProgressModel",
            "_view_count": null,
            "_view_module": "@jupyter-widgets/controls",
            "_view_module_version": "1.5.0",
            "_view_name": "ProgressView",
            "bar_style": "success",
            "description": "",
            "description_tooltip": null,
            "layout": "IPY_MODEL_01704e8bfb0c4dfdb7f638ae3b298047",
            "max": 1,
            "min": 0,
            "orientation": "horizontal",
            "style": "IPY_MODEL_7bd530ac31274177b88dc9ad9bf1e598",
            "value": 1
          }
        },
        "c2234fe93179410597224ce14d5d9877": {
          "model_module": "@jupyter-widgets/controls",
          "model_name": "HTMLModel",
          "model_module_version": "1.5.0",
          "state": {
            "_dom_classes": [],
            "_model_module": "@jupyter-widgets/controls",
            "_model_module_version": "1.5.0",
            "_model_name": "HTMLModel",
            "_view_count": null,
            "_view_module": "@jupyter-widgets/controls",
            "_view_module_version": "1.5.0",
            "_view_name": "HTMLView",
            "description": "",
            "description_tooltip": null,
            "layout": "IPY_MODEL_36f255f496f942e4a88384dcd81f92fa",
            "placeholder": "​",
            "style": "IPY_MODEL_7a5c9fedac7749c0b6048b063e3e244b",
            "value": " 1.99M/? [00:01&lt;00:00, 3.13MB/s]"
          }
        },
        "f61ea1a9b8b044348a55c56791986efa": {
          "model_module": "@jupyter-widgets/base",
          "model_name": "LayoutModel",
          "model_module_version": "1.2.0",
          "state": {
            "_model_module": "@jupyter-widgets/base",
            "_model_module_version": "1.2.0",
            "_model_name": "LayoutModel",
            "_view_count": null,
            "_view_module": "@jupyter-widgets/base",
            "_view_module_version": "1.2.0",
            "_view_name": "LayoutView",
            "align_content": null,
            "align_items": null,
            "align_self": null,
            "border": null,
            "bottom": null,
            "display": null,
            "flex": null,
            "flex_flow": null,
            "grid_area": null,
            "grid_auto_columns": null,
            "grid_auto_flow": null,
            "grid_auto_rows": null,
            "grid_column": null,
            "grid_gap": null,
            "grid_row": null,
            "grid_template_areas": null,
            "grid_template_columns": null,
            "grid_template_rows": null,
            "height": null,
            "justify_content": null,
            "justify_items": null,
            "left": null,
            "margin": null,
            "max_height": null,
            "max_width": null,
            "min_height": null,
            "min_width": null,
            "object_fit": null,
            "object_position": null,
            "order": null,
            "overflow": null,
            "overflow_x": null,
            "overflow_y": null,
            "padding": null,
            "right": null,
            "top": null,
            "visibility": null,
            "width": null
          }
        },
        "2b8100d2588a4aa18aef568392935476": {
          "model_module": "@jupyter-widgets/base",
          "model_name": "LayoutModel",
          "model_module_version": "1.2.0",
          "state": {
            "_model_module": "@jupyter-widgets/base",
            "_model_module_version": "1.2.0",
            "_model_name": "LayoutModel",
            "_view_count": null,
            "_view_module": "@jupyter-widgets/base",
            "_view_module_version": "1.2.0",
            "_view_name": "LayoutView",
            "align_content": null,
            "align_items": null,
            "align_self": null,
            "border": null,
            "bottom": null,
            "display": null,
            "flex": null,
            "flex_flow": null,
            "grid_area": null,
            "grid_auto_columns": null,
            "grid_auto_flow": null,
            "grid_auto_rows": null,
            "grid_column": null,
            "grid_gap": null,
            "grid_row": null,
            "grid_template_areas": null,
            "grid_template_columns": null,
            "grid_template_rows": null,
            "height": null,
            "justify_content": null,
            "justify_items": null,
            "left": null,
            "margin": null,
            "max_height": null,
            "max_width": null,
            "min_height": null,
            "min_width": null,
            "object_fit": null,
            "object_position": null,
            "order": null,
            "overflow": null,
            "overflow_x": null,
            "overflow_y": null,
            "padding": null,
            "right": null,
            "top": null,
            "visibility": null,
            "width": null
          }
        },
        "49c57baaaee44f6eb0e207dc51d8094b": {
          "model_module": "@jupyter-widgets/controls",
          "model_name": "DescriptionStyleModel",
          "model_module_version": "1.5.0",
          "state": {
            "_model_module": "@jupyter-widgets/controls",
            "_model_module_version": "1.5.0",
            "_model_name": "DescriptionStyleModel",
            "_view_count": null,
            "_view_module": "@jupyter-widgets/base",
            "_view_module_version": "1.2.0",
            "_view_name": "StyleView",
            "description_width": ""
          }
        },
        "01704e8bfb0c4dfdb7f638ae3b298047": {
          "model_module": "@jupyter-widgets/base",
          "model_name": "LayoutModel",
          "model_module_version": "1.2.0",
          "state": {
            "_model_module": "@jupyter-widgets/base",
            "_model_module_version": "1.2.0",
            "_model_name": "LayoutModel",
            "_view_count": null,
            "_view_module": "@jupyter-widgets/base",
            "_view_module_version": "1.2.0",
            "_view_name": "LayoutView",
            "align_content": null,
            "align_items": null,
            "align_self": null,
            "border": null,
            "bottom": null,
            "display": null,
            "flex": null,
            "flex_flow": null,
            "grid_area": null,
            "grid_auto_columns": null,
            "grid_auto_flow": null,
            "grid_auto_rows": null,
            "grid_column": null,
            "grid_gap": null,
            "grid_row": null,
            "grid_template_areas": null,
            "grid_template_columns": null,
            "grid_template_rows": null,
            "height": null,
            "justify_content": null,
            "justify_items": null,
            "left": null,
            "margin": null,
            "max_height": null,
            "max_width": null,
            "min_height": null,
            "min_width": null,
            "object_fit": null,
            "object_position": null,
            "order": null,
            "overflow": null,
            "overflow_x": null,
            "overflow_y": null,
            "padding": null,
            "right": null,
            "top": null,
            "visibility": null,
            "width": "20px"
          }
        },
        "7bd530ac31274177b88dc9ad9bf1e598": {
          "model_module": "@jupyter-widgets/controls",
          "model_name": "ProgressStyleModel",
          "model_module_version": "1.5.0",
          "state": {
            "_model_module": "@jupyter-widgets/controls",
            "_model_module_version": "1.5.0",
            "_model_name": "ProgressStyleModel",
            "_view_count": null,
            "_view_module": "@jupyter-widgets/base",
            "_view_module_version": "1.2.0",
            "_view_name": "StyleView",
            "bar_color": null,
            "description_width": ""
          }
        },
        "36f255f496f942e4a88384dcd81f92fa": {
          "model_module": "@jupyter-widgets/base",
          "model_name": "LayoutModel",
          "model_module_version": "1.2.0",
          "state": {
            "_model_module": "@jupyter-widgets/base",
            "_model_module_version": "1.2.0",
            "_model_name": "LayoutModel",
            "_view_count": null,
            "_view_module": "@jupyter-widgets/base",
            "_view_module_version": "1.2.0",
            "_view_name": "LayoutView",
            "align_content": null,
            "align_items": null,
            "align_self": null,
            "border": null,
            "bottom": null,
            "display": null,
            "flex": null,
            "flex_flow": null,
            "grid_area": null,
            "grid_auto_columns": null,
            "grid_auto_flow": null,
            "grid_auto_rows": null,
            "grid_column": null,
            "grid_gap": null,
            "grid_row": null,
            "grid_template_areas": null,
            "grid_template_columns": null,
            "grid_template_rows": null,
            "height": null,
            "justify_content": null,
            "justify_items": null,
            "left": null,
            "margin": null,
            "max_height": null,
            "max_width": null,
            "min_height": null,
            "min_width": null,
            "object_fit": null,
            "object_position": null,
            "order": null,
            "overflow": null,
            "overflow_x": null,
            "overflow_y": null,
            "padding": null,
            "right": null,
            "top": null,
            "visibility": null,
            "width": null
          }
        },
        "7a5c9fedac7749c0b6048b063e3e244b": {
          "model_module": "@jupyter-widgets/controls",
          "model_name": "DescriptionStyleModel",
          "model_module_version": "1.5.0",
          "state": {
            "_model_module": "@jupyter-widgets/controls",
            "_model_module_version": "1.5.0",
            "_model_name": "DescriptionStyleModel",
            "_view_count": null,
            "_view_module": "@jupyter-widgets/base",
            "_view_module_version": "1.2.0",
            "_view_name": "StyleView",
            "description_width": ""
          }
        },
        "6b92d41e09e84096be6e8f60946c18dd": {
          "model_module": "@jupyter-widgets/controls",
          "model_name": "HBoxModel",
          "model_module_version": "1.5.0",
          "state": {
            "_dom_classes": [],
            "_model_module": "@jupyter-widgets/controls",
            "_model_module_version": "1.5.0",
            "_model_name": "HBoxModel",
            "_view_count": null,
            "_view_module": "@jupyter-widgets/controls",
            "_view_module_version": "1.5.0",
            "_view_name": "HBoxView",
            "box_style": "",
            "children": [
              "IPY_MODEL_2846bf4b9bea4216b85c30c8b3d79576",
              "IPY_MODEL_69a278a62bcd4fda8b54523fa0459395",
              "IPY_MODEL_0cb2037d3f8043eb83f387db49a5db19"
            ],
            "layout": "IPY_MODEL_28b1f8935ad84419a4e157f2f84bab4f"
          }
        },
        "2846bf4b9bea4216b85c30c8b3d79576": {
          "model_module": "@jupyter-widgets/controls",
          "model_name": "HTMLModel",
          "model_module_version": "1.5.0",
          "state": {
            "_dom_classes": [],
            "_model_module": "@jupyter-widgets/controls",
            "_model_module_version": "1.5.0",
            "_model_name": "HTMLModel",
            "_view_count": null,
            "_view_module": "@jupyter-widgets/controls",
            "_view_module_version": "1.5.0",
            "_view_name": "HTMLView",
            "description": "",
            "description_tooltip": null,
            "layout": "IPY_MODEL_a9a342d3bb8541eda0e1a9a7141089db",
            "placeholder": "​",
            "style": "IPY_MODEL_8df9e65650154f9496b50c329ee8d972",
            "value": ""
          }
        },
        "69a278a62bcd4fda8b54523fa0459395": {
          "model_module": "@jupyter-widgets/controls",
          "model_name": "FloatProgressModel",
          "model_module_version": "1.5.0",
          "state": {
            "_dom_classes": [],
            "_model_module": "@jupyter-widgets/controls",
            "_model_module_version": "1.5.0",
            "_model_name": "FloatProgressModel",
            "_view_count": null,
            "_view_module": "@jupyter-widgets/controls",
            "_view_module_version": "1.5.0",
            "_view_name": "ProgressView",
            "bar_style": "success",
            "description": "",
            "description_tooltip": null,
            "layout": "IPY_MODEL_d973c4d467fb4aa5a5cd54b6c24c345a",
            "max": 1,
            "min": 0,
            "orientation": "horizontal",
            "style": "IPY_MODEL_26f075adfb254cd9bafb6d4962d06d46",
            "value": 1
          }
        },
        "0cb2037d3f8043eb83f387db49a5db19": {
          "model_module": "@jupyter-widgets/controls",
          "model_name": "HTMLModel",
          "model_module_version": "1.5.0",
          "state": {
            "_dom_classes": [],
            "_model_module": "@jupyter-widgets/controls",
            "_model_module_version": "1.5.0",
            "_model_name": "HTMLModel",
            "_view_count": null,
            "_view_module": "@jupyter-widgets/controls",
            "_view_module_version": "1.5.0",
            "_view_name": "HTMLView",
            "description": "",
            "description_tooltip": null,
            "layout": "IPY_MODEL_967d53f8ccb345419875c6d958b8108e",
            "placeholder": "​",
            "style": "IPY_MODEL_bc7fbd80a7824ca2a77c110dcb16c7ba",
            "value": " 246k/? [00:00&lt;00:00, 566kB/s]"
          }
        },
        "28b1f8935ad84419a4e157f2f84bab4f": {
          "model_module": "@jupyter-widgets/base",
          "model_name": "LayoutModel",
          "model_module_version": "1.2.0",
          "state": {
            "_model_module": "@jupyter-widgets/base",
            "_model_module_version": "1.2.0",
            "_model_name": "LayoutModel",
            "_view_count": null,
            "_view_module": "@jupyter-widgets/base",
            "_view_module_version": "1.2.0",
            "_view_name": "LayoutView",
            "align_content": null,
            "align_items": null,
            "align_self": null,
            "border": null,
            "bottom": null,
            "display": null,
            "flex": null,
            "flex_flow": null,
            "grid_area": null,
            "grid_auto_columns": null,
            "grid_auto_flow": null,
            "grid_auto_rows": null,
            "grid_column": null,
            "grid_gap": null,
            "grid_row": null,
            "grid_template_areas": null,
            "grid_template_columns": null,
            "grid_template_rows": null,
            "height": null,
            "justify_content": null,
            "justify_items": null,
            "left": null,
            "margin": null,
            "max_height": null,
            "max_width": null,
            "min_height": null,
            "min_width": null,
            "object_fit": null,
            "object_position": null,
            "order": null,
            "overflow": null,
            "overflow_x": null,
            "overflow_y": null,
            "padding": null,
            "right": null,
            "top": null,
            "visibility": null,
            "width": null
          }
        },
        "a9a342d3bb8541eda0e1a9a7141089db": {
          "model_module": "@jupyter-widgets/base",
          "model_name": "LayoutModel",
          "model_module_version": "1.2.0",
          "state": {
            "_model_module": "@jupyter-widgets/base",
            "_model_module_version": "1.2.0",
            "_model_name": "LayoutModel",
            "_view_count": null,
            "_view_module": "@jupyter-widgets/base",
            "_view_module_version": "1.2.0",
            "_view_name": "LayoutView",
            "align_content": null,
            "align_items": null,
            "align_self": null,
            "border": null,
            "bottom": null,
            "display": null,
            "flex": null,
            "flex_flow": null,
            "grid_area": null,
            "grid_auto_columns": null,
            "grid_auto_flow": null,
            "grid_auto_rows": null,
            "grid_column": null,
            "grid_gap": null,
            "grid_row": null,
            "grid_template_areas": null,
            "grid_template_columns": null,
            "grid_template_rows": null,
            "height": null,
            "justify_content": null,
            "justify_items": null,
            "left": null,
            "margin": null,
            "max_height": null,
            "max_width": null,
            "min_height": null,
            "min_width": null,
            "object_fit": null,
            "object_position": null,
            "order": null,
            "overflow": null,
            "overflow_x": null,
            "overflow_y": null,
            "padding": null,
            "right": null,
            "top": null,
            "visibility": null,
            "width": null
          }
        },
        "8df9e65650154f9496b50c329ee8d972": {
          "model_module": "@jupyter-widgets/controls",
          "model_name": "DescriptionStyleModel",
          "model_module_version": "1.5.0",
          "state": {
            "_model_module": "@jupyter-widgets/controls",
            "_model_module_version": "1.5.0",
            "_model_name": "DescriptionStyleModel",
            "_view_count": null,
            "_view_module": "@jupyter-widgets/base",
            "_view_module_version": "1.2.0",
            "_view_name": "StyleView",
            "description_width": ""
          }
        },
        "d973c4d467fb4aa5a5cd54b6c24c345a": {
          "model_module": "@jupyter-widgets/base",
          "model_name": "LayoutModel",
          "model_module_version": "1.2.0",
          "state": {
            "_model_module": "@jupyter-widgets/base",
            "_model_module_version": "1.2.0",
            "_model_name": "LayoutModel",
            "_view_count": null,
            "_view_module": "@jupyter-widgets/base",
            "_view_module_version": "1.2.0",
            "_view_name": "LayoutView",
            "align_content": null,
            "align_items": null,
            "align_self": null,
            "border": null,
            "bottom": null,
            "display": null,
            "flex": null,
            "flex_flow": null,
            "grid_area": null,
            "grid_auto_columns": null,
            "grid_auto_flow": null,
            "grid_auto_rows": null,
            "grid_column": null,
            "grid_gap": null,
            "grid_row": null,
            "grid_template_areas": null,
            "grid_template_columns": null,
            "grid_template_rows": null,
            "height": null,
            "justify_content": null,
            "justify_items": null,
            "left": null,
            "margin": null,
            "max_height": null,
            "max_width": null,
            "min_height": null,
            "min_width": null,
            "object_fit": null,
            "object_position": null,
            "order": null,
            "overflow": null,
            "overflow_x": null,
            "overflow_y": null,
            "padding": null,
            "right": null,
            "top": null,
            "visibility": null,
            "width": "20px"
          }
        },
        "26f075adfb254cd9bafb6d4962d06d46": {
          "model_module": "@jupyter-widgets/controls",
          "model_name": "ProgressStyleModel",
          "model_module_version": "1.5.0",
          "state": {
            "_model_module": "@jupyter-widgets/controls",
            "_model_module_version": "1.5.0",
            "_model_name": "ProgressStyleModel",
            "_view_count": null,
            "_view_module": "@jupyter-widgets/base",
            "_view_module_version": "1.2.0",
            "_view_name": "StyleView",
            "bar_color": null,
            "description_width": ""
          }
        },
        "967d53f8ccb345419875c6d958b8108e": {
          "model_module": "@jupyter-widgets/base",
          "model_name": "LayoutModel",
          "model_module_version": "1.2.0",
          "state": {
            "_model_module": "@jupyter-widgets/base",
            "_model_module_version": "1.2.0",
            "_model_name": "LayoutModel",
            "_view_count": null,
            "_view_module": "@jupyter-widgets/base",
            "_view_module_version": "1.2.0",
            "_view_name": "LayoutView",
            "align_content": null,
            "align_items": null,
            "align_self": null,
            "border": null,
            "bottom": null,
            "display": null,
            "flex": null,
            "flex_flow": null,
            "grid_area": null,
            "grid_auto_columns": null,
            "grid_auto_flow": null,
            "grid_auto_rows": null,
            "grid_column": null,
            "grid_gap": null,
            "grid_row": null,
            "grid_template_areas": null,
            "grid_template_columns": null,
            "grid_template_rows": null,
            "height": null,
            "justify_content": null,
            "justify_items": null,
            "left": null,
            "margin": null,
            "max_height": null,
            "max_width": null,
            "min_height": null,
            "min_width": null,
            "object_fit": null,
            "object_position": null,
            "order": null,
            "overflow": null,
            "overflow_x": null,
            "overflow_y": null,
            "padding": null,
            "right": null,
            "top": null,
            "visibility": null,
            "width": null
          }
        },
        "bc7fbd80a7824ca2a77c110dcb16c7ba": {
          "model_module": "@jupyter-widgets/controls",
          "model_name": "DescriptionStyleModel",
          "model_module_version": "1.5.0",
          "state": {
            "_model_module": "@jupyter-widgets/controls",
            "_model_module_version": "1.5.0",
            "_model_name": "DescriptionStyleModel",
            "_view_count": null,
            "_view_module": "@jupyter-widgets/base",
            "_view_module_version": "1.2.0",
            "_view_name": "StyleView",
            "description_width": ""
          }
        }
      }
    }
  },
  "nbformat": 4,
  "nbformat_minor": 0
}
