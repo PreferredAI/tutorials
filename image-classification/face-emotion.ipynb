{
  "nbformat": 4,
  "nbformat_minor": 0,
  "metadata": {
    "colab": {
      "name": "face-emotion.ipynb",
      "provenance": [],
      "collapsed_sections": []
    },
    "kernelspec": {
      "name": "python3",
      "display_name": "Python 3"
    },
    "accelerator": "GPU"
  },
  "cells": [
    {
      "cell_type": "markdown",
      "metadata": {
        "id": "Lf78VMm0PjLr"
      },
      "source": [
        "<table class=\"tfo-notebook-buttons\" align=\"left\">\n",
        "  <td>\n",
        "    <a target=\"_blank\" href=\"https://colab.research.google.com/github/PreferredAI/tutorials/blob/master/image-classification/face-emotion.ipynb\"><img src=\"https://www.tensorflow.org/images/colab_logo_32px.png\" />Run in Google Colab</a>\n",
        "  </td>\n",
        "  <td>\n",
        "    <a target=\"_blank\" href=\"https://github.com/PreferredAI/tutorials/blob/master/image-classification/face-emotion.ipynb\"><img src=\"https://www.tensorflow.org/images/GitHub-Mark-32px.png\" />View source on GitHub</a>\n",
        "  </td>\n",
        "</table>"
      ]
    },
    {
      "cell_type": "markdown",
      "metadata": {
        "id": "wzPrmZOMtXt1"
      },
      "source": [
        "# Face Emotion Classification\n",
        "\n"
      ]
    },
    {
      "cell_type": "markdown",
      "metadata": {
        "id": "MqktDa7H2hKz"
      },
      "source": [
        "## 1. Setup"
      ]
    },
    {
      "cell_type": "code",
      "metadata": {
        "id": "YqKrDcGH2k7E",
        "colab": {
          "base_uri": "https://localhost:8080/"
        },
        "outputId": "d4f851a0-7cf5-4ad3-fb85-ebcb7471c4c8"
      },
      "source": [
        "import os\n",
        "import sys\n",
        "\n",
        "import numpy as np\n",
        "import matplotlib.pyplot as plt\n",
        "\n",
        "import tensorflow as tf\n",
        "from tensorflow.keras import layers\n",
        "\n",
        "print(f\"System version: {sys.version}\")\n",
        "print(f\"Tensorflow version: {tf.__version__}\")"
      ],
      "execution_count": 1,
      "outputs": [
        {
          "output_type": "stream",
          "name": "stdout",
          "text": [
            "System version: 3.7.12 (default, Jan 15 2022, 18:48:18) \n",
            "[GCC 7.5.0]\n",
            "Tensorflow version: 2.8.0\n"
          ]
        }
      ]
    },
    {
      "cell_type": "markdown",
      "metadata": {
        "id": "E8nIDnXO4_6e"
      },
      "source": [
        "## 2. Dataset\n",
        "\n",
        "[Facial Expression Recognition](https://www.kaggle.com/c/challenges-in-representation-learning-facial-expression-recognition-challenge/data) data consists of 48x48 pixel grayscale images of faces. The task is to categorize each face based on the emotion shown in the facial expression in to one of seven categories (0=Angry, 1=Disgust, 2=Fear, 3=Happy, 4=Sad, 5=Surprise, 6=Neutral).\n",
        "\n",
        "In this tutorial, we adapt the original dataset to form a binary classification task which is categorizing each face in to one of two categories (0=Sad, 1=Happy)."
      ]
    },
    {
      "cell_type": "code",
      "metadata": {
        "colab": {
          "base_uri": "https://localhost:8080/"
        },
        "id": "pYDn6E8WVb4g",
        "outputId": "4dc8e28f-912b-46a5-a6dd-7806401ec130"
      },
      "source": [
        "# Download data\n",
        "# !curl -L 'https://static.preferred.ai/tutorial/face-emotion/data.zip' -o data.zip\n",
        "!curl -c ./cookie -s -L \"https://drive.google.com/uc?export=download&id=1mEfcmzGS92nFkfP27-gzaP1T84I8HjZJ\" > /dev/null\n",
        "!curl -Lb ./cookie \"https://drive.google.com/uc?export=download&confirm=`awk '/download/ {print $NF}' ./cookie`&id=1mEfcmzGS92nFkfP27-gzaP1T84I8HjZJ\" -o data.zip"
      ],
      "execution_count": 2,
      "outputs": [
        {
          "output_type": "stream",
          "name": "stdout",
          "text": [
            "  % Total    % Received % Xferd  Average Speed   Time    Time     Time  Current\n",
            "                                 Dload  Upload   Total   Spent    Left  Speed\n",
            "  0     0    0     0    0     0      0      0 --:--:--  0:00:22 --:--:--     0\n",
            "  0     0    0     0    0     0      0      0 --:--:--  0:00:22 --:--:--     0\n",
            "  0     0    0     0    0     0      0      0 --:--:--  0:00:22 --:--:--     0\n",
            "100  9.8M  100  9.8M    0     0   421k      0  0:00:23  0:00:23 --:--:-- 29.9M\n"
          ]
        }
      ]
    },
    {
      "cell_type": "code",
      "source": [
        "!unzip -q data.zip"
      ],
      "metadata": {
        "id": "pJ1kPjbIV9dT"
      },
      "execution_count": 3,
      "outputs": []
    },
    {
      "cell_type": "code",
      "metadata": {
        "colab": {
          "base_uri": "https://localhost:8080/"
        },
        "id": "MEUs2ImMD3Ll",
        "outputId": "47de1371-b70c-491f-966c-4b2a9c566b8c"
      },
      "source": [
        "!ls data/images/"
      ],
      "execution_count": 4,
      "outputs": [
        {
          "output_type": "stream",
          "name": "stdout",
          "text": [
            "0  1\n"
          ]
        }
      ]
    },
    {
      "cell_type": "markdown",
      "metadata": {
        "id": "rOST2TDtFE6s"
      },
      "source": [
        "### Prepare the data\n",
        "\n",
        "Let's use 90% of the data for model training and 10% for model validation."
      ]
    },
    {
      "cell_type": "code",
      "metadata": {
        "colab": {
          "base_uri": "https://localhost:8080/"
        },
        "id": "0yrOOp1PEzHi",
        "outputId": "723b6958-7ddf-46d2-99b3-5e3e01347798"
      },
      "source": [
        "val_size = 0.1  # @param\n",
        "batch_size = 32  # @param\n",
        "img_height = 48  # @param\n",
        "img_width = 48  # @param\n",
        "\n",
        "train_ds = tf.keras.preprocessing.image_dataset_from_directory(\n",
        "  \"data/images\",\n",
        "  validation_split=val_size,\n",
        "  subset=\"training\",\n",
        "  seed=123,\n",
        "  color_mode='grayscale',\n",
        "  image_size=(img_height, img_width),\n",
        "  batch_size=batch_size)\n",
        "\n",
        "val_ds = tf.keras.preprocessing.image_dataset_from_directory(\n",
        "  \"data/images\",\n",
        "  validation_split=val_size,\n",
        "  subset=\"validation\",\n",
        "  seed=123,\n",
        "  color_mode='grayscale',\n",
        "  image_size=(img_height, img_width),\n",
        "  batch_size=batch_size)\n",
        "\n",
        "# optimize data loading for performance\n",
        "AUTOTUNE = tf.data.AUTOTUNE\n",
        "\n",
        "train_ds = train_ds.cache().prefetch(buffer_size=AUTOTUNE)\n",
        "val_ds = val_ds.cache().prefetch(buffer_size=AUTOTUNE)"
      ],
      "execution_count": 5,
      "outputs": [
        {
          "output_type": "stream",
          "name": "stdout",
          "text": [
            "Found 9660 files belonging to 2 classes.\n",
            "Using 8694 files for training.\n",
            "Found 9660 files belonging to 2 classes.\n",
            "Using 966 files for validation.\n"
          ]
        }
      ]
    },
    {
      "cell_type": "code",
      "metadata": {
        "colab": {
          "base_uri": "https://localhost:8080/",
          "height": 591
        },
        "id": "58yc9TPLFqzp",
        "outputId": "0952928c-c0a9-44ba-bb2c-018a88664846"
      },
      "source": [
        "class_names = ['Sad', \"Happy\"]\n",
        "\n",
        "plt.figure(figsize=(10, 10))\n",
        "for images, labels in train_ds.take(1):\n",
        "  for i in range(9):\n",
        "    ax = plt.subplot(3, 3, i + 1)\n",
        "    plt.imshow(images[i].numpy().astype(\"uint8\").reshape(48, 48), cmap='gray')\n",
        "    plt.title(class_names[labels[i]])\n",
        "    plt.axis(\"off\")"
      ],
      "execution_count": 6,
      "outputs": [
        {
          "output_type": "display_data",
          "data": {
            "image/png": "[encoded data removed]",
            "text/plain": [
              "<Figure size 720x720 with 9 Axes>"
            ]
          },
          "metadata": {
            "needs_background": "light"
          }
        }
      ]
    },
    {
      "cell_type": "markdown",
      "metadata": {
        "id": "0ogkNd8_6qhR"
      },
      "source": [
        "## 3. Multilayer Perceptron (MLP)\n"
      ]
    },
    {
      "cell_type": "code",
      "metadata": {
        "colab": {
          "base_uri": "https://localhost:8080/"
        },
        "id": "zWxrTpRoDaMO",
        "outputId": "00ba7ef8-24b3-45c3-fd7e-0298db435e61"
      },
      "source": [
        "hidden_units = 128  # @param\n",
        "dropout_rate = 0.2  # @param\n",
        "learning_rate = 0.01  # @param\n",
        "\n",
        "mlp_model = tf.keras.Sequential([\n",
        "  tf.keras.Input(shape=(img_height, img_width, 1)),\n",
        "  layers.experimental.preprocessing.RandomFlip('horizontal'),\n",
        "  layers.experimental.preprocessing.Rescaling(1./127.5, offset=-1),                        \n",
        "  layers.Flatten(),\n",
        "  layers.Dense(hidden_units, activation='relu'),\n",
        "  layers.Dropout(rate=dropout_rate),\n",
        "  layers.Dense(hidden_units, activation='relu'),\n",
        "  layers.Dense(2)\n",
        "], name=\"MLP\")\n",
        "\n",
        "mlp_model.compile(\n",
        "  optimizer=tf.keras.optimizers.SGD(learning_rate,  momentum=0.9),\n",
        "  loss=tf.losses.SparseCategoricalCrossentropy(from_logits=True),\n",
        "  metrics=['accuracy']\n",
        ")\n",
        "\n",
        "mlp_model.summary()"
      ],
      "execution_count": 7,
      "outputs": [
        {
          "output_type": "stream",
          "name": "stdout",
          "text": [
            "Model: \"MLP\"\n",
            "_________________________________________________________________\n",
            " Layer (type)                Output Shape              Param #   \n",
            "=================================================================\n",
            " random_flip (RandomFlip)    (None, 48, 48, 1)         0         \n",
            "                                                                 \n",
            " rescaling (Rescaling)       (None, 48, 48, 1)         0         \n",
            "                                                                 \n",
            " flatten (Flatten)           (None, 2304)              0         \n",
            "                                                                 \n",
            " dense (Dense)               (None, 128)               295040    \n",
            "                                                                 \n",
            " dropout (Dropout)           (None, 128)               0         \n",
            "                                                                 \n",
            " dense_1 (Dense)             (None, 128)               16512     \n",
            "                                                                 \n",
            " dense_2 (Dense)             (None, 2)                 258       \n",
            "                                                                 \n",
            "=================================================================\n",
            "Total params: 311,810\n",
            "Trainable params: 311,810\n",
            "Non-trainable params: 0\n",
            "_________________________________________________________________\n"
          ]
        }
      ]
    },
    {
      "cell_type": "code",
      "metadata": {
        "colab": {
          "base_uri": "https://localhost:8080/"
        },
        "id": "AymZf6pF3ACL",
        "outputId": "3de04685-e087-4ded-fc74-96e912ffd23e"
      },
      "source": [
        "mlp_model.fit(\n",
        "  train_ds,\n",
        "  validation_data=val_ds,\n",
        "  epochs=20\n",
        ");"
      ],
      "execution_count": 8,
      "outputs": [
        {
          "output_type": "stream",
          "name": "stdout",
          "text": [
            "Epoch 1/20\n",
            "272/272 [==============================] - 8s 18ms/step - loss: 0.6399 - accuracy: 0.6504 - val_loss: 0.5708 - val_accuracy: 0.7267\n",
            "Epoch 2/20\n",
            "272/272 [==============================] - 1s 5ms/step - loss: 0.5803 - accuracy: 0.6923 - val_loss: 0.5442 - val_accuracy: 0.7350\n",
            "Epoch 3/20\n",
            "272/272 [==============================] - 1s 5ms/step - loss: 0.5576 - accuracy: 0.7180 - val_loss: 0.5346 - val_accuracy: 0.7422\n",
            "Epoch 4/20\n",
            "272/272 [==============================] - 1s 5ms/step - loss: 0.5404 - accuracy: 0.7266 - val_loss: 0.5381 - val_accuracy: 0.7319\n",
            "Epoch 5/20\n",
            "272/272 [==============================] - 1s 5ms/step - loss: 0.5259 - accuracy: 0.7373 - val_loss: 0.5307 - val_accuracy: 0.7350\n",
            "Epoch 6/20\n",
            "272/272 [==============================] - 1s 5ms/step - loss: 0.5119 - accuracy: 0.7441 - val_loss: 0.5138 - val_accuracy: 0.7402\n",
            "Epoch 7/20\n",
            "272/272 [==============================] - 3s 10ms/step - loss: 0.4986 - accuracy: 0.7544 - val_loss: 0.5052 - val_accuracy: 0.7464\n",
            "Epoch 8/20\n",
            "272/272 [==============================] - 3s 10ms/step - loss: 0.4888 - accuracy: 0.7576 - val_loss: 0.4995 - val_accuracy: 0.7505\n",
            "Epoch 9/20\n",
            "272/272 [==============================] - 2s 9ms/step - loss: 0.4749 - accuracy: 0.7678 - val_loss: 0.5002 - val_accuracy: 0.7505\n",
            "Epoch 10/20\n",
            "272/272 [==============================] - 1s 5ms/step - loss: 0.4657 - accuracy: 0.7702 - val_loss: 0.4881 - val_accuracy: 0.7640\n",
            "Epoch 11/20\n",
            "272/272 [==============================] - 1s 5ms/step - loss: 0.4558 - accuracy: 0.7778 - val_loss: 0.4808 - val_accuracy: 0.7557\n",
            "Epoch 12/20\n",
            "272/272 [==============================] - 1s 5ms/step - loss: 0.4502 - accuracy: 0.7830 - val_loss: 0.4962 - val_accuracy: 0.7526\n",
            "Epoch 13/20\n",
            "272/272 [==============================] - 1s 5ms/step - loss: 0.4454 - accuracy: 0.7836 - val_loss: 0.4924 - val_accuracy: 0.7536\n",
            "Epoch 14/20\n",
            "272/272 [==============================] - 1s 5ms/step - loss: 0.4274 - accuracy: 0.7942 - val_loss: 0.4934 - val_accuracy: 0.7526\n",
            "Epoch 15/20\n",
            "272/272 [==============================] - 1s 5ms/step - loss: 0.4198 - accuracy: 0.8019 - val_loss: 0.4812 - val_accuracy: 0.7578\n",
            "Epoch 16/20\n",
            "272/272 [==============================] - 1s 5ms/step - loss: 0.4193 - accuracy: 0.8027 - val_loss: 0.4839 - val_accuracy: 0.7692\n",
            "Epoch 17/20\n",
            "272/272 [==============================] - 1s 5ms/step - loss: 0.4082 - accuracy: 0.8108 - val_loss: 0.4864 - val_accuracy: 0.7805\n",
            "Epoch 18/20\n",
            "272/272 [==============================] - 1s 5ms/step - loss: 0.4075 - accuracy: 0.8055 - val_loss: 0.4944 - val_accuracy: 0.7692\n",
            "Epoch 19/20\n",
            "272/272 [==============================] - 1s 5ms/step - loss: 0.4022 - accuracy: 0.8104 - val_loss: 0.5091 - val_accuracy: 0.7412\n",
            "Epoch 20/20\n",
            "272/272 [==============================] - 1s 5ms/step - loss: 0.3857 - accuracy: 0.8196 - val_loss: 0.4971 - val_accuracy: 0.7536\n"
          ]
        }
      ]
    },
    {
      "cell_type": "markdown",
      "metadata": {
        "id": "HCi0KeWrW-RV"
      },
      "source": [
        "## 4. Shallow CNN\n",
        "\n"
      ]
    },
    {
      "cell_type": "code",
      "metadata": {
        "colab": {
          "base_uri": "https://localhost:8080/"
        },
        "id": "Y_CsADJhKo6j",
        "outputId": "abb740c2-9dd5-48c5-b61f-6fe2b224b748"
      },
      "source": [
        "filters = 32  # @param\n",
        "kernel_size = [3, 3]  # @param\n",
        "strides = 1 # @param\n",
        "hidden_units = 128  # @param\n",
        "dropout_rate = 0.2  # @param\n",
        "learning_rate = 0.01 # @param\n",
        "\n",
        "shallow_cnn_model = tf.keras.Sequential([\n",
        "  tf.keras.Input(shape=(img_height, img_width, 1)),\n",
        "  layers.experimental.preprocessing.RandomFlip('horizontal'),\n",
        "  layers.experimental.preprocessing.Rescaling(1./127.5, offset=-1),  \n",
        "  layers.Conv2D(filters, kernel_size, strides, padding='same', activation='relu'),\n",
        "  layers.MaxPooling2D(pool_size=[2, 2], strides=2),\n",
        "  layers.Flatten(),\n",
        "  layers.Dropout(rate=dropout_rate),\n",
        "  layers.Dense(hidden_units, activation='relu'),\n",
        "  layers.Dense(2)\n",
        "], name=\"Shallow-CNN\")\n",
        "\n",
        "shallow_cnn_model.compile(\n",
        "  optimizer=tf.keras.optimizers.SGD(learning_rate, momentum=0.9),\n",
        "  loss=tf.losses.SparseCategoricalCrossentropy(from_logits=True),\n",
        "  metrics=['accuracy']\n",
        ")\n",
        "\n",
        "shallow_cnn_model.summary()"
      ],
      "execution_count": 9,
      "outputs": [
        {
          "output_type": "stream",
          "name": "stdout",
          "text": [
            "Model: \"Shallow-CNN\"\n",
            "_________________________________________________________________\n",
            " Layer (type)                Output Shape              Param #   \n",
            "=================================================================\n",
            " random_flip_1 (RandomFlip)  (None, 48, 48, 1)         0         \n",
            "                                                                 \n",
            " rescaling_1 (Rescaling)     (None, 48, 48, 1)         0         \n",
            "                                                                 \n",
            " conv2d (Conv2D)             (None, 48, 48, 32)        320       \n",
            "                                                                 \n",
            " max_pooling2d (MaxPooling2D  (None, 24, 24, 32)       0         \n",
            " )                                                               \n",
            "                                                                 \n",
            " flatten_1 (Flatten)         (None, 18432)             0         \n",
            "                                                                 \n",
            " dropout_1 (Dropout)         (None, 18432)             0         \n",
            "                                                                 \n",
            " dense_3 (Dense)             (None, 128)               2359424   \n",
            "                                                                 \n",
            " dense_4 (Dense)             (None, 2)                 258       \n",
            "                                                                 \n",
            "=================================================================\n",
            "Total params: 2,360,002\n",
            "Trainable params: 2,360,002\n",
            "Non-trainable params: 0\n",
            "_________________________________________________________________\n"
          ]
        }
      ]
    },
    {
      "cell_type": "code",
      "metadata": {
        "colab": {
          "base_uri": "https://localhost:8080/"
        },
        "id": "sE2xX2Ee3Y4_",
        "outputId": "83a739e6-bde9-4cd9-9cd9-b810816cfee1"
      },
      "source": [
        "shallow_cnn_model.fit(\n",
        "  train_ds,\n",
        "  validation_data=val_ds,\n",
        "  epochs=20\n",
        ")"
      ],
      "execution_count": 10,
      "outputs": [
        {
          "output_type": "stream",
          "name": "stdout",
          "text": [
            "Epoch 1/20\n",
            "272/272 [==============================] - 10s 9ms/step - loss: 0.6138 - accuracy: 0.6646 - val_loss: 0.5357 - val_accuracy: 0.7402\n",
            "Epoch 2/20\n",
            "272/272 [==============================] - 2s 9ms/step - loss: 0.5391 - accuracy: 0.7254 - val_loss: 0.5083 - val_accuracy: 0.7650\n",
            "Epoch 3/20\n",
            "272/272 [==============================] - 2s 8ms/step - loss: 0.4997 - accuracy: 0.7528 - val_loss: 0.4931 - val_accuracy: 0.7681\n",
            "Epoch 4/20\n",
            "272/272 [==============================] - 2s 8ms/step - loss: 0.4632 - accuracy: 0.7772 - val_loss: 0.4689 - val_accuracy: 0.7857\n",
            "Epoch 5/20\n",
            "272/272 [==============================] - 2s 8ms/step - loss: 0.4319 - accuracy: 0.7928 - val_loss: 0.4680 - val_accuracy: 0.7899\n",
            "Epoch 6/20\n",
            "272/272 [==============================] - 2s 9ms/step - loss: 0.3958 - accuracy: 0.8125 - val_loss: 0.4717 - val_accuracy: 0.7981\n",
            "Epoch 7/20\n",
            "272/272 [==============================] - 2s 9ms/step - loss: 0.3785 - accuracy: 0.8307 - val_loss: 0.4589 - val_accuracy: 0.7940\n",
            "Epoch 8/20\n",
            "272/272 [==============================] - 2s 8ms/step - loss: 0.3396 - accuracy: 0.8474 - val_loss: 0.4776 - val_accuracy: 0.7847\n",
            "Epoch 9/20\n",
            "272/272 [==============================] - 2s 9ms/step - loss: 0.3171 - accuracy: 0.8630 - val_loss: 0.4814 - val_accuracy: 0.8002\n",
            "Epoch 10/20\n",
            "272/272 [==============================] - 2s 9ms/step - loss: 0.2954 - accuracy: 0.8742 - val_loss: 0.5076 - val_accuracy: 0.7971\n",
            "Epoch 11/20\n",
            "272/272 [==============================] - 2s 8ms/step - loss: 0.2645 - accuracy: 0.8875 - val_loss: 0.5164 - val_accuracy: 0.7930\n",
            "Epoch 12/20\n",
            "272/272 [==============================] - 2s 8ms/step - loss: 0.2361 - accuracy: 0.9074 - val_loss: 0.5302 - val_accuracy: 0.7981\n",
            "Epoch 13/20\n",
            "272/272 [==============================] - 2s 9ms/step - loss: 0.2144 - accuracy: 0.9118 - val_loss: 0.5574 - val_accuracy: 0.7971\n",
            "Epoch 14/20\n",
            "272/272 [==============================] - 2s 8ms/step - loss: 0.1847 - accuracy: 0.9301 - val_loss: 0.6549 - val_accuracy: 0.7992\n",
            "Epoch 15/20\n",
            "272/272 [==============================] - 2s 9ms/step - loss: 0.1737 - accuracy: 0.9348 - val_loss: 0.6518 - val_accuracy: 0.7971\n",
            "Epoch 16/20\n",
            "272/272 [==============================] - 2s 9ms/step - loss: 0.1549 - accuracy: 0.9417 - val_loss: 0.6567 - val_accuracy: 0.7961\n",
            "Epoch 17/20\n",
            "272/272 [==============================] - 2s 8ms/step - loss: 0.1461 - accuracy: 0.9442 - val_loss: 0.6375 - val_accuracy: 0.7981\n",
            "Epoch 18/20\n",
            "272/272 [==============================] - 2s 8ms/step - loss: 0.1490 - accuracy: 0.9438 - val_loss: 0.6521 - val_accuracy: 0.7950\n",
            "Epoch 19/20\n",
            "272/272 [==============================] - 2s 9ms/step - loss: 0.1215 - accuracy: 0.9562 - val_loss: 0.6982 - val_accuracy: 0.7930\n",
            "Epoch 20/20\n",
            "272/272 [==============================] - 2s 9ms/step - loss: 0.1077 - accuracy: 0.9630 - val_loss: 0.6702 - val_accuracy: 0.8116\n"
          ]
        },
        {
          "output_type": "execute_result",
          "data": {
            "text/plain": [
              "<keras.callbacks.History at 0x7fe88044a590>"
            ]
          },
          "metadata": {},
          "execution_count": 10
        }
      ]
    },
    {
      "cell_type": "markdown",
      "metadata": {
        "id": "VEmSw99ZXBPa"
      },
      "source": [
        "## 5. Deep CNN"
      ]
    },
    {
      "cell_type": "code",
      "metadata": {
        "colab": {
          "base_uri": "https://localhost:8080/"
        },
        "id": "a0wSJlK8MIjG",
        "outputId": "983073c5-81ac-48a9-802a-2e5f46e3a932"
      },
      "source": [
        "filters = 32  # @param\n",
        "kernel_size = [3, 3]  # @param\n",
        "strides = 1 # @param\n",
        "hidden_units = 128  # @param\n",
        "dropout_rate = 0.2  # @param\n",
        "learning_rate = 0.01 # @param\n",
        "\n",
        "deep_cnn_model = tf.keras.Sequential([\n",
        "  tf.keras.Input(shape=(img_height, img_width, 1)),\n",
        "  layers.experimental.preprocessing.RandomFlip('horizontal'),\n",
        "  layers.experimental.preprocessing.Rescaling(1./127.5, offset=-1),\n",
        "  layers.Conv2D(filters, kernel_size, strides, padding='same', activation='relu'),\n",
        "  layers.MaxPooling2D(pool_size=[2, 2], strides=2),\n",
        "  layers.Conv2D(2 * filters, kernel_size, strides, padding='same', activation='relu'),\n",
        "  layers.MaxPooling2D(pool_size=[2, 2], strides=2),\n",
        "  layers.Conv2D(4 * filters, kernel_size, strides, padding='same', activation='relu'),\n",
        "  layers.Conv2D(4 * filters, kernel_size, strides, padding='same', activation='relu'),\n",
        "  layers.MaxPooling2D(pool_size=[2, 2], strides=2),\n",
        "  layers.Flatten(),\n",
        "  layers.Dropout(rate=dropout_rate),\n",
        "  layers.Dense(hidden_units, activation='relu'),\n",
        "  layers.Dense(2)\n",
        "], name=\"Deep-CNN\")\n",
        "\n",
        "deep_cnn_model.compile(\n",
        "  optimizer=tf.keras.optimizers.SGD(learning_rate,  momentum=0.9),\n",
        "  loss=tf.losses.SparseCategoricalCrossentropy(from_logits=True),\n",
        "  metrics=['accuracy']\n",
        ")\n",
        "\n",
        "deep_cnn_model.summary()"
      ],
      "execution_count": 11,
      "outputs": [
        {
          "output_type": "stream",
          "name": "stdout",
          "text": [
            "Model: \"Deep-CNN\"\n",
            "_________________________________________________________________\n",
            " Layer (type)                Output Shape              Param #   \n",
            "=================================================================\n",
            " random_flip_2 (RandomFlip)  (None, 48, 48, 1)         0         \n",
            "                                                                 \n",
            " rescaling_2 (Rescaling)     (None, 48, 48, 1)         0         \n",
            "                                                                 \n",
            " conv2d_1 (Conv2D)           (None, 48, 48, 32)        320       \n",
            "                                                                 \n",
            " max_pooling2d_1 (MaxPooling  (None, 24, 24, 32)       0         \n",
            " 2D)                                                             \n",
            "                                                                 \n",
            " conv2d_2 (Conv2D)           (None, 24, 24, 64)        18496     \n",
            "                                                                 \n",
            " max_pooling2d_2 (MaxPooling  (None, 12, 12, 64)       0         \n",
            " 2D)                                                             \n",
            "                                                                 \n",
            " conv2d_3 (Conv2D)           (None, 12, 12, 128)       73856     \n",
            "                                                                 \n",
            " conv2d_4 (Conv2D)           (None, 12, 12, 128)       147584    \n",
            "                                                                 \n",
            " max_pooling2d_3 (MaxPooling  (None, 6, 6, 128)        0         \n",
            " 2D)                                                             \n",
            "                                                                 \n",
            " flatten_2 (Flatten)         (None, 4608)              0         \n",
            "                                                                 \n",
            " dropout_2 (Dropout)         (None, 4608)              0         \n",
            "                                                                 \n",
            " dense_5 (Dense)             (None, 128)               589952    \n",
            "                                                                 \n",
            " dense_6 (Dense)             (None, 2)                 258       \n",
            "                                                                 \n",
            "=================================================================\n",
            "Total params: 830,466\n",
            "Trainable params: 830,466\n",
            "Non-trainable params: 0\n",
            "_________________________________________________________________\n"
          ]
        }
      ]
    },
    {
      "cell_type": "code",
      "metadata": {
        "colab": {
          "base_uri": "https://localhost:8080/"
        },
        "id": "lfbTNw8-3l_4",
        "outputId": "cf90d165-ddea-4c19-a7c4-b820e59b10e5"
      },
      "source": [
        "history = deep_cnn_model.fit(\n",
        "  train_ds,\n",
        "  validation_data=val_ds,\n",
        "  epochs=20\n",
        ")"
      ],
      "execution_count": 12,
      "outputs": [
        {
          "output_type": "stream",
          "name": "stdout",
          "text": [
            "Epoch 1/20\n",
            "272/272 [==============================] - 6s 17ms/step - loss: 0.6567 - accuracy: 0.6079 - val_loss: 0.5658 - val_accuracy: 0.7205\n",
            "Epoch 2/20\n",
            "272/272 [==============================] - 4s 15ms/step - loss: 0.5497 - accuracy: 0.7172 - val_loss: 0.4916 - val_accuracy: 0.7764\n",
            "Epoch 3/20\n",
            "272/272 [==============================] - 4s 16ms/step - loss: 0.4679 - accuracy: 0.7735 - val_loss: 0.4414 - val_accuracy: 0.7888\n",
            "Epoch 4/20\n",
            "272/272 [==============================] - 4s 15ms/step - loss: 0.4155 - accuracy: 0.7995 - val_loss: 0.4424 - val_accuracy: 0.7930\n",
            "Epoch 5/20\n",
            "272/272 [==============================] - 4s 15ms/step - loss: 0.3778 - accuracy: 0.8264 - val_loss: 0.3958 - val_accuracy: 0.8157\n",
            "Epoch 6/20\n",
            "272/272 [==============================] - 4s 15ms/step - loss: 0.3457 - accuracy: 0.8451 - val_loss: 0.3762 - val_accuracy: 0.8354\n",
            "Epoch 7/20\n",
            "272/272 [==============================] - 4s 15ms/step - loss: 0.3196 - accuracy: 0.8576 - val_loss: 0.3784 - val_accuracy: 0.8313\n",
            "Epoch 8/20\n",
            "272/272 [==============================] - 4s 15ms/step - loss: 0.2983 - accuracy: 0.8713 - val_loss: 0.3570 - val_accuracy: 0.8458\n",
            "Epoch 9/20\n",
            "272/272 [==============================] - 4s 15ms/step - loss: 0.2755 - accuracy: 0.8812 - val_loss: 0.3402 - val_accuracy: 0.8602\n",
            "Epoch 10/20\n",
            "272/272 [==============================] - 4s 15ms/step - loss: 0.2608 - accuracy: 0.8905 - val_loss: 0.3544 - val_accuracy: 0.8468\n",
            "Epoch 11/20\n",
            "272/272 [==============================] - 4s 15ms/step - loss: 0.2428 - accuracy: 0.8990 - val_loss: 0.3245 - val_accuracy: 0.8654\n",
            "Epoch 12/20\n",
            "272/272 [==============================] - 4s 15ms/step - loss: 0.2223 - accuracy: 0.9064 - val_loss: 0.2800 - val_accuracy: 0.8851\n",
            "Epoch 13/20\n",
            "272/272 [==============================] - 4s 15ms/step - loss: 0.2055 - accuracy: 0.9170 - val_loss: 0.2917 - val_accuracy: 0.8830\n",
            "Epoch 14/20\n",
            "272/272 [==============================] - 4s 15ms/step - loss: 0.1894 - accuracy: 0.9272 - val_loss: 0.3136 - val_accuracy: 0.8799\n",
            "Epoch 15/20\n",
            "272/272 [==============================] - 4s 15ms/step - loss: 0.1785 - accuracy: 0.9306 - val_loss: 0.3124 - val_accuracy: 0.8841\n",
            "Epoch 16/20\n",
            "272/272 [==============================] - 4s 15ms/step - loss: 0.1667 - accuracy: 0.9354 - val_loss: 0.3177 - val_accuracy: 0.8872\n",
            "Epoch 17/20\n",
            "272/272 [==============================] - 4s 15ms/step - loss: 0.1489 - accuracy: 0.9404 - val_loss: 0.3463 - val_accuracy: 0.8696\n",
            "Epoch 18/20\n",
            "272/272 [==============================] - 4s 15ms/step - loss: 0.1468 - accuracy: 0.9428 - val_loss: 0.3339 - val_accuracy: 0.8975\n",
            "Epoch 19/20\n",
            "272/272 [==============================] - 4s 15ms/step - loss: 0.1391 - accuracy: 0.9449 - val_loss: 0.3334 - val_accuracy: 0.8892\n",
            "Epoch 20/20\n",
            "272/272 [==============================] - 4s 15ms/step - loss: 0.1178 - accuracy: 0.9573 - val_loss: 0.3409 - val_accuracy: 0.8830\n"
          ]
        }
      ]
    },
    {
      "cell_type": "code",
      "metadata": {
        "colab": {
          "base_uri": "https://localhost:8080/",
          "height": 513
        },
        "id": "-99Z2DH_4Eoq",
        "outputId": "2e992291-25c1-4792-8e4a-a873cfaa3c85"
      },
      "source": [
        "acc = history.history['accuracy']\n",
        "val_acc = history.history['val_accuracy']\n",
        "\n",
        "loss = history.history['loss']\n",
        "val_loss = history.history['val_loss']\n",
        "\n",
        "plt.figure(figsize=(8, 8))\n",
        "plt.subplot(2, 1, 1)\n",
        "plt.plot(acc, label='Training Accuracy')\n",
        "plt.plot(val_acc, label='Validation Accuracy')\n",
        "plt.legend(loc='lower right')\n",
        "plt.ylabel('Accuracy')\n",
        "plt.ylim([min(plt.ylim()),1])\n",
        "plt.title('Training and Validation Accuracy')\n",
        "\n",
        "plt.subplot(2, 1, 2)\n",
        "plt.plot(loss, label='Training Loss')\n",
        "plt.plot(val_loss, label='Validation Loss')\n",
        "plt.legend(loc='upper right')\n",
        "plt.ylabel('Cross Entropy')\n",
        "plt.ylim([0,1.0])\n",
        "plt.title('Training and Validation Loss')\n",
        "plt.xlabel('epoch')\n",
        "plt.show()"
      ],
      "execution_count": 13,
      "outputs": [
        {
          "output_type": "display_data",
          "data": {
            "image/png": "[encoded data removed]",
            "text/plain": [
              "<Figure size 576x576 with 2 Axes>"
            ]
          },
          "metadata": {
            "needs_background": "light"
          }
        }
      ]
    },
    {
      "cell_type": "markdown",
      "metadata": {
        "id": "4YKNpAA9XRhS"
      },
      "source": [
        "## 6. Visualization of Learned CNN Filters\n",
        "\n",
        "Here we visualize the Deep CNN model with saliency map of images using [Guided Backpropagation](https://arxiv.org/abs/1412.6806) technique, and the activation maps of the 4th convolutional layer of the network.\n",
        "\n",
        "We may notice that the model focuses more on the mouth with Happy emotion, while other parts of the face are paid attention with Sad emotion.\n",
        "\n",
        "| Input Image                                                                                                                      | Saliency Map                                                                                                                                  | Activation Maps of the 4th Convolutional Layer                                                                                       | Label |\n",
        "| :------------------------------------------------------------------------------------------------------------------------------: | :-------------------------------------------------------------------------------------------------------------------------------------------: | :------------------------------------------------------------------------------------------------------------------------------------: | :---: |\n",
        "| ![](https://raw.githubusercontent.com/PreferredAI/tutorials/master/image-classification/face-emotion/visualization/82.jpg)  | ![](https://raw.githubusercontent.com/PreferredAI/tutorials/master/image-classification/face-emotion/visualization/saliency_map_82.jpg)  | ![](https://raw.githubusercontent.com/PreferredAI/tutorials/master/image-classification/face-emotion/visualization/conv4_82.jpg)  | Happy |\n",
        "| ![](https://raw.githubusercontent.com/PreferredAI/tutorials/master/image-classification/face-emotion/visualization/130.jpg) | ![](https://raw.githubusercontent.com/PreferredAI/tutorials/master/image-classification/face-emotion/visualization/saliency_map_130.jpg) | ![](https://raw.githubusercontent.com/PreferredAI/tutorials/master/image-classification/face-emotion/visualization/conv4_130.jpg) | Sad   |\n",
        "| ![](https://raw.githubusercontent.com/PreferredAI/tutorials/master/image-classification/face-emotion/visualization/791.jpg) | ![](https://raw.githubusercontent.com/PreferredAI/tutorials/master/image-classification/face-emotion/visualization/saliency_map_791.jpg) | ![](https://raw.githubusercontent.com/PreferredAI/tutorials/master/image-classification/face-emotion/visualization/conv4_791.jpg) | Happy |\n",
        "| ![](https://raw.githubusercontent.com/PreferredAI/tutorials/master/image-classification/face-emotion/visualization/607.jpg) | ![](https://raw.githubusercontent.com/PreferredAI/tutorials/master/image-classification/face-emotion/visualization/saliency_map_607.jpg) | ![](https://raw.githubusercontent.com/PreferredAI/tutorials/master/image-classification/face-emotion/visualization/conv4_607.jpg) | Sad   |\n",
        "\n",
        "Please refer to this [code](https://github.com/PreferredAI/tutorials/blob/7ccc67cde2408c873a6cba66b58ec56dee236a17/image-classification/face-emotion/src/visualize.py) for more details."
      ]
    }
  ]
}